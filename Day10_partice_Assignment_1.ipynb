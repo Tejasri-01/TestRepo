{
 "cells": [
  {
   "cell_type": "code",
   "execution_count": 28,
   "id": "951064cf",
   "metadata": {},
   "outputs": [
    {
     "data": {
      "text/html": [
       "<div>\n",
       "<style scoped>\n",
       "    .dataframe tbody tr th:only-of-type {\n",
       "        vertical-align: middle;\n",
       "    }\n",
       "\n",
       "    .dataframe tbody tr th {\n",
       "        vertical-align: top;\n",
       "    }\n",
       "\n",
       "    .dataframe thead th {\n",
       "        text-align: right;\n",
       "    }\n",
       "</style>\n",
       "<table border=\"1\" class=\"dataframe\">\n",
       "  <thead>\n",
       "    <tr style=\"text-align: right;\">\n",
       "      <th></th>\n",
       "      <th>title</th>\n",
       "      <th>year</th>\n",
       "    </tr>\n",
       "  </thead>\n",
       "  <tbody>\n",
       "    <tr>\n",
       "      <th>0</th>\n",
       "      <td>Tasveer Mere Sanam</td>\n",
       "      <td>1996</td>\n",
       "    </tr>\n",
       "    <tr>\n",
       "      <th>1</th>\n",
       "      <td>Only You</td>\n",
       "      <td>1994</td>\n",
       "    </tr>\n",
       "    <tr>\n",
       "      <th>2</th>\n",
       "      <td>El pueblo del terror</td>\n",
       "      <td>1970</td>\n",
       "    </tr>\n",
       "    <tr>\n",
       "      <th>3</th>\n",
       "      <td>Machine</td>\n",
       "      <td>2007</td>\n",
       "    </tr>\n",
       "    <tr>\n",
       "      <th>4</th>\n",
       "      <td>MARy</td>\n",
       "      <td>2008</td>\n",
       "    </tr>\n",
       "  </tbody>\n",
       "</table>\n",
       "</div>"
      ],
      "text/plain": [
       "                  title  year\n",
       "0    Tasveer Mere Sanam  1996\n",
       "1              Only You  1994\n",
       "2  El pueblo del terror  1970\n",
       "3               Machine  2007\n",
       "4                  MARy  2008"
      ]
     },
     "execution_count": 28,
     "metadata": {},
     "output_type": "execute_result"
    }
   ],
   "source": [
    "%matplotlib inline\n",
    "import pandas as pd\n",
    "titles=pd.read_csv('titles.csv')\n",
    "titles.head()"
   ]
  },
  {
   "cell_type": "markdown",
   "id": "0ba05f51",
   "metadata": {},
   "source": [
    "# How many movies are listed in the titles dataframe?"
   ]
  },
  {
   "cell_type": "code",
   "execution_count": 3,
   "id": "1ea3edc2",
   "metadata": {},
   "outputs": [
    {
     "name": "stdout",
     "output_type": "stream",
     "text": [
      "There are 244914 movies in the dataframe.\n"
     ]
    }
   ],
   "source": [
    "import pandas as pd\n",
    "number_of_movies = titles.shape[0]\n",
    "print(f\"There are {number_of_movies} movies in the dataframe.\")\n"
   ]
  },
  {
   "cell_type": "markdown",
   "id": "c705c0b5",
   "metadata": {},
   "source": [
    "# What are the earliest two films listed in the titles dataframe?"
   ]
  },
  {
   "cell_type": "code",
   "execution_count": 4,
   "id": "9edcd988",
   "metadata": {},
   "outputs": [
    {
     "data": {
      "text/html": [
       "<div>\n",
       "<style scoped>\n",
       "    .dataframe tbody tr th:only-of-type {\n",
       "        vertical-align: middle;\n",
       "    }\n",
       "\n",
       "    .dataframe tbody tr th {\n",
       "        vertical-align: top;\n",
       "    }\n",
       "\n",
       "    .dataframe thead th {\n",
       "        text-align: right;\n",
       "    }\n",
       "</style>\n",
       "<table border=\"1\" class=\"dataframe\">\n",
       "  <thead>\n",
       "    <tr style=\"text-align: right;\">\n",
       "      <th></th>\n",
       "      <th>year</th>\n",
       "    </tr>\n",
       "  </thead>\n",
       "  <tbody>\n",
       "    <tr>\n",
       "      <th>count</th>\n",
       "      <td>244914.000000</td>\n",
       "    </tr>\n",
       "    <tr>\n",
       "      <th>mean</th>\n",
       "      <td>1986.616012</td>\n",
       "    </tr>\n",
       "    <tr>\n",
       "      <th>std</th>\n",
       "      <td>29.459912</td>\n",
       "    </tr>\n",
       "    <tr>\n",
       "      <th>min</th>\n",
       "      <td>1894.000000</td>\n",
       "    </tr>\n",
       "    <tr>\n",
       "      <th>25%</th>\n",
       "      <td>1967.000000</td>\n",
       "    </tr>\n",
       "    <tr>\n",
       "      <th>50%</th>\n",
       "      <td>1997.000000</td>\n",
       "    </tr>\n",
       "    <tr>\n",
       "      <th>75%</th>\n",
       "      <td>2012.000000</td>\n",
       "    </tr>\n",
       "    <tr>\n",
       "      <th>max</th>\n",
       "      <td>2115.000000</td>\n",
       "    </tr>\n",
       "  </tbody>\n",
       "</table>\n",
       "</div>"
      ],
      "text/plain": [
       "                year\n",
       "count  244914.000000\n",
       "mean     1986.616012\n",
       "std        29.459912\n",
       "min      1894.000000\n",
       "25%      1967.000000\n",
       "50%      1997.000000\n",
       "75%      2012.000000\n",
       "max      2115.000000"
      ]
     },
     "execution_count": 4,
     "metadata": {},
     "output_type": "execute_result"
    }
   ],
   "source": [
    "import pandas as pd\n",
    "titles=pd.read_csv('titles.csv')\n",
    "titles.head()\n",
    "titles.describe()"
   ]
  },
  {
   "cell_type": "code",
   "execution_count": 5,
   "id": "6444ddda",
   "metadata": {},
   "outputs": [
    {
     "data": {
      "text/plain": [
       "(244914, 2)"
      ]
     },
     "execution_count": 5,
     "metadata": {},
     "output_type": "execute_result"
    }
   ],
   "source": [
    "titles.shape"
   ]
  },
  {
   "cell_type": "code",
   "execution_count": 6,
   "id": "82d2fa05",
   "metadata": {},
   "outputs": [
    {
     "name": "stdout",
     "output_type": "stream",
     "text": [
      "The earliest two films listed are:\n",
      "                     title  year\n",
      "193222          Miss Jerry  1894\n",
      "51388   The Startled Lover  1898\n"
     ]
    }
   ],
   "source": [
    "import pandas as pd\n",
    "titles_sorted_by_year = titles.sort_values(by='year')\n",
    "earliest_films = titles_sorted_by_year.head(2)\n",
    "\n",
    "print(\"The earliest two films listed are:\")\n",
    "print(earliest_films)\n"
   ]
  },
  {
   "cell_type": "markdown",
   "id": "ed7fb63f",
   "metadata": {},
   "source": [
    "# How many movies have the title \"Hamlet\"?"
   ]
  },
  {
   "cell_type": "code",
   "execution_count": 7,
   "id": "310eb735",
   "metadata": {},
   "outputs": [
    {
     "name": "stdout",
     "output_type": "stream",
     "text": [
      "The number of movies with the title 'Hamlet' is: 20\n"
     ]
    }
   ],
   "source": [
    "import pandas as pd\n",
    "titles=pd.read_csv('titles.csv')\n",
    "hamlet_movies_count = titles[titles['title'] == 'Hamlet'].shape[0]\n",
    "\n",
    "print(f\"The number of movies with the title 'Hamlet' is: {hamlet_movies_count}\")\n"
   ]
  },
  {
   "cell_type": "markdown",
   "id": "45185984",
   "metadata": {},
   "source": [
    "# How many movies are titled \"North by Northwest\"?"
   ]
  },
  {
   "cell_type": "code",
   "execution_count": 8,
   "id": "bf41c871",
   "metadata": {},
   "outputs": [
    {
     "name": "stdout",
     "output_type": "stream",
     "text": [
      "The number of movies titled 'North by Northwest' is: 1\n"
     ]
    }
   ],
   "source": [
    "import pandas as pd\n",
    "\n",
    "# Assuming you have a dataframe called 'titles' with a 'title' column\n",
    "# Count the number of movies with the title \"North by Northwest\"\n",
    "north_by_northwest_count = titles[titles['title'] == 'North by Northwest'].shape[0]\n",
    "\n",
    "print(f\"The number of movies titled 'North by Northwest' is: {north_by_northwest_count}\")\n"
   ]
  },
  {
   "cell_type": "markdown",
   "id": "b1db49fb",
   "metadata": {},
   "source": [
    "# When was the first movie titled \"Hamlet\" made?"
   ]
  },
  {
   "cell_type": "code",
   "execution_count": 9,
   "id": "2bc592f9",
   "metadata": {},
   "outputs": [
    {
     "name": "stdout",
     "output_type": "stream",
     "text": [
      "The first movie titled 'Hamlet' was made in the year 1910.\n"
     ]
    }
   ],
   "source": [
    "import pandas as pd\n",
    "hamlet_movies = titles[titles['title'] == 'Hamlet']\n",
    "hamlet_movies_sorted = hamlet_movies.sort_values(by='year')\n",
    "first_hamlet_movie = hamlet_movies_sorted.iloc[0]\n",
    "\n",
    "print(f\"The first movie titled 'Hamlet' was made in the year {first_hamlet_movie['year']}.\")\n"
   ]
  },
  {
   "cell_type": "markdown",
   "id": "c069385c",
   "metadata": {},
   "source": [
    "# List all of the \"Treasure Island\" movies from earliest to most recent."
   ]
  },
  {
   "cell_type": "code",
   "execution_count": 10,
   "id": "8297b6dc",
   "metadata": {},
   "outputs": [
    {
     "name": "stdout",
     "output_type": "stream",
     "text": [
      "The earliest films listed are:\n",
      "             title  year\n",
      "193222  Miss Jerry  1894\n",
      "The recentfilms listed are:\n",
      "            title  year\n",
      "242196  100 Years  2115\n"
     ]
    }
   ],
   "source": [
    "import pandas as pd\n",
    "Treasure_island_movies = titles[titles['title'] == 'Treasure Island']\n",
    "titles_sorted_by_year = titles.sort_values(by='year')\n",
    "earliest_films = titles_sorted_by_year.head(1)\n",
    "recent_films = titles_sorted_by_year.tail(1)\n",
    "print(\"The earliest films listed are:\")\n",
    "print(earliest_films)\n",
    "print(\"The recentfilms listed are:\")\n",
    "print(recent_films)"
   ]
  },
  {
   "cell_type": "code",
   "execution_count": 11,
   "id": "94c822a5",
   "metadata": {},
   "outputs": [
    {
     "name": "stdout",
     "output_type": "stream",
     "text": [
      "                  title  year\n",
      "55686   Treasure Island  1918\n",
      "196514  Treasure Island  1920\n",
      "141822  Treasure Island  1934\n",
      "77354   Treasure Island  1950\n",
      "65051   Treasure Island  1972\n",
      "37238   Treasure Island  1973\n",
      "173051  Treasure Island  1985\n",
      "27076   Treasure Island  1999\n"
     ]
    }
   ],
   "source": [
    "import pandas as pd\n",
    "treasure_island_movies = titles[titles['title'] == 'Treasure Island']\n",
    "\n",
    "treasure_island_movies_sorted = treasure_island_movies.sort_values(by='year')\n",
    "print(treasure_island_movies_sorted)\n"
   ]
  },
  {
   "cell_type": "markdown",
   "id": "123a19cd",
   "metadata": {},
   "source": [
    "# How many movies were made in the year 1950?"
   ]
  },
  {
   "cell_type": "code",
   "execution_count": 12,
   "id": "598f9750",
   "metadata": {},
   "outputs": [
    {
     "name": "stdout",
     "output_type": "stream",
     "text": [
      "The number of movies made in the year 1950 is: 1113\n"
     ]
    }
   ],
   "source": [
    "import pandas as pd\n",
    "movies_in_1950 = titles[titles['year'] == 1950]\n",
    "number_of_movies_in_1950 = movies_in_1950.shape[0]\n",
    "\n",
    "print(f\"The number of movies made in the year 1950 is: {number_of_movies_in_1950}\")\n"
   ]
  },
  {
   "cell_type": "markdown",
   "id": "23343152",
   "metadata": {},
   "source": [
    "# How many movies were made in the year 1960"
   ]
  },
  {
   "cell_type": "code",
   "execution_count": null,
   "id": "e63d1b7e",
   "metadata": {},
   "outputs": [],
   "source": [
    "import pandas as pd\n",
    "movies_in_1950 = titles[titles['year'] == 1960]\n",
    "number_of_movies_in_1950 = movies_in_1950.shape[0]\n",
    "\n",
    "print(f\"The number of movies made in the year 1950 is: {number_of_movies_in_1950}\")\n"
   ]
  },
  {
   "cell_type": "markdown",
   "id": "bffff783",
   "metadata": {},
   "source": [
    "# How many movies were made from 1950 through 1959"
   ]
  },
  {
   "cell_type": "code",
   "execution_count": 13,
   "id": "47a5ce4c",
   "metadata": {},
   "outputs": [
    {
     "name": "stdout",
     "output_type": "stream",
     "text": [
      "The number of movies made from 1950 through 1959 is: 12934\n"
     ]
    }
   ],
   "source": [
    "import pandas as pd\n",
    "movies_1950s = titles[(titles['year'] >= 1950) & (titles['year'] <= 1959)]\n",
    "\n",
    "number_of_movies_in_1950s = movies_1950s.shape[0]\n",
    "\n",
    "print(f\"The number of movies made from 1950 through 1959 is: {number_of_movies_in_1950s}\")\n"
   ]
  },
  {
   "cell_type": "markdown",
   "id": "6da9bbaf",
   "metadata": {},
   "source": [
    "# In what years has a movie titled \"Batman\" been released?"
   ]
  },
  {
   "cell_type": "code",
   "execution_count": 14,
   "id": "04c5f95c",
   "metadata": {},
   "outputs": [
    {
     "name": "stdout",
     "output_type": "stream",
     "text": [
      "Years in which a movie titled 'Batman' has been released:\n",
      "[1943, 1989]\n"
     ]
    }
   ],
   "source": [
    "import pandas as pd\n",
    "batman_movies = titles[titles['title'] == 'Batman']\n",
    "release_years = batman_movies['year'].unique()\n",
    "\n",
    "print(\"Years in which a movie titled 'Batman' has been released:\")\n",
    "print(sorted(release_years))\n"
   ]
  },
  {
   "cell_type": "markdown",
   "id": "17387cfb",
   "metadata": {},
   "source": [
    "# How many roles were there in the movie \"Inception\"?"
   ]
  },
  {
   "cell_type": "code",
   "execution_count": 1,
   "id": "103a85d4",
   "metadata": {},
   "outputs": [
    {
     "data": {
      "text/html": [
       "<div>\n",
       "<style scoped>\n",
       "    .dataframe tbody tr th:only-of-type {\n",
       "        vertical-align: middle;\n",
       "    }\n",
       "\n",
       "    .dataframe tbody tr th {\n",
       "        vertical-align: top;\n",
       "    }\n",
       "\n",
       "    .dataframe thead th {\n",
       "        text-align: right;\n",
       "    }\n",
       "</style>\n",
       "<table border=\"1\" class=\"dataframe\">\n",
       "  <thead>\n",
       "    <tr style=\"text-align: right;\">\n",
       "      <th></th>\n",
       "      <th>title</th>\n",
       "      <th>year</th>\n",
       "      <th>name</th>\n",
       "      <th>type</th>\n",
       "      <th>character</th>\n",
       "      <th>n</th>\n",
       "    </tr>\n",
       "  </thead>\n",
       "  <tbody>\n",
       "    <tr>\n",
       "      <th>0</th>\n",
       "      <td>Closet Monster</td>\n",
       "      <td>2015</td>\n",
       "      <td>Buffy #1</td>\n",
       "      <td>actor</td>\n",
       "      <td>Buffy 4</td>\n",
       "      <td>31.0</td>\n",
       "    </tr>\n",
       "    <tr>\n",
       "      <th>1</th>\n",
       "      <td>Suuri illusioni</td>\n",
       "      <td>1985</td>\n",
       "      <td>Homo $</td>\n",
       "      <td>actor</td>\n",
       "      <td>Guests</td>\n",
       "      <td>22.0</td>\n",
       "    </tr>\n",
       "    <tr>\n",
       "      <th>2</th>\n",
       "      <td>Battle of the Sexes</td>\n",
       "      <td>2017</td>\n",
       "      <td>$hutter</td>\n",
       "      <td>actor</td>\n",
       "      <td>Bobby Riggs Fan</td>\n",
       "      <td>10.0</td>\n",
       "    </tr>\n",
       "    <tr>\n",
       "      <th>3</th>\n",
       "      <td>Secret in Their Eyes</td>\n",
       "      <td>2015</td>\n",
       "      <td>$hutter</td>\n",
       "      <td>actor</td>\n",
       "      <td>2002 Dodger Fan</td>\n",
       "      <td>NaN</td>\n",
       "    </tr>\n",
       "    <tr>\n",
       "      <th>4</th>\n",
       "      <td>Steve Jobs</td>\n",
       "      <td>2015</td>\n",
       "      <td>$hutter</td>\n",
       "      <td>actor</td>\n",
       "      <td>1988 Opera House Patron</td>\n",
       "      <td>NaN</td>\n",
       "    </tr>\n",
       "  </tbody>\n",
       "</table>\n",
       "</div>"
      ],
      "text/plain": [
       "                  title  year      name   type                character     n\n",
       "0        Closet Monster  2015  Buffy #1  actor                  Buffy 4  31.0\n",
       "1       Suuri illusioni  1985    Homo $  actor                   Guests  22.0\n",
       "2   Battle of the Sexes  2017   $hutter  actor          Bobby Riggs Fan  10.0\n",
       "3  Secret in Their Eyes  2015   $hutter  actor          2002 Dodger Fan   NaN\n",
       "4            Steve Jobs  2015   $hutter  actor  1988 Opera House Patron   NaN"
      ]
     },
     "execution_count": 1,
     "metadata": {},
     "output_type": "execute_result"
    }
   ],
   "source": [
    "import pandas as pd\n",
    "cast=pd.read_csv('cast.csv')\n",
    "cast.head()"
   ]
  },
  {
   "cell_type": "code",
   "execution_count": 26,
   "id": "256be2ad",
   "metadata": {},
   "outputs": [
    {
     "name": "stdout",
     "output_type": "stream",
     "text": [
      "The number of roles in the movie 'Inception' is: 56\n"
     ]
    }
   ],
   "source": [
    "import pandas as pd\n",
    "\n",
    "# Assuming you have a dataframe called 'cast' with 'title' and 'character' columns\n",
    "# Filter the dataframe to include only the movie \"Inception\"\n",
    "inception_cast = cast[cast['title'] == 'Inception']\n",
    "\n",
    "# Count the number of unique roles in the movie \"Inception\"\n",
    "number_of_roles_in_inception = inception_cast['character'].nunique()\n",
    "\n",
    "print(f\"The number of roles in the movie 'Inception' is: {number_of_roles_in_inception}\")\n"
   ]
  },
  {
   "cell_type": "markdown",
   "id": "bffc224e",
   "metadata": {},
   "source": [
    "# How many roles in the movie \"Inception\" are NOT ranked by an \"n\" value?"
   ]
  },
  {
   "cell_type": "code",
   "execution_count": 4,
   "id": "dcac3da4",
   "metadata": {},
   "outputs": [
    {
     "name": "stdout",
     "output_type": "stream",
     "text": [
      "The number of roles in the movie 'Inception' that are NOT ranked by an 'n' value is: 27\n"
     ]
    }
   ],
   "source": [
    "import pandas as pd\n",
    "inception_cast = cast[cast['title'] == 'Inception']\n",
    "roles_not_ranked = inception_cast['n'].isna().sum()\n",
    "\n",
    "print(f\"The number of roles in the movie 'Inception' that are NOT ranked by an 'n' value is: {roles_not_ranked}\")\n"
   ]
  },
  {
   "cell_type": "markdown",
   "id": "7b25d014",
   "metadata": {},
   "source": [
    "# But how many roles in the movie \"Inception\" did receive an \"n\" value?"
   ]
  },
  {
   "cell_type": "code",
   "execution_count": 5,
   "id": "d6627767",
   "metadata": {},
   "outputs": [
    {
     "name": "stdout",
     "output_type": "stream",
     "text": [
      "The number of roles in the movie 'Inception' that received an 'n' value is: 51\n"
     ]
    }
   ],
   "source": [
    "import pandas as pd\n",
    "inception_cast = cast[cast['title'] == 'Inception']\n",
    "\n",
    "roles_with_n_value = inception_cast['n'].notna().sum()\n",
    "\n",
    "print(f\"The number of roles in the movie 'Inception' that received an 'n' value is: {roles_with_n_value}\")\n"
   ]
  },
  {
   "cell_type": "markdown",
   "id": "95746158",
   "metadata": {},
   "source": [
    "# Display the cast of \"North by Northwest\" in their correct \"n\"-value order, ignoring roles that did not earn a numeric \"n\" value."
   ]
  },
  {
   "cell_type": "code",
   "execution_count": 7,
   "id": "eff48aaf",
   "metadata": {},
   "outputs": [
    {
     "name": "stdout",
     "output_type": "stream",
     "text": [
      "                           character     n\n",
      "871426            Roger O. Thornhill   1.0\n",
      "3518333                  Eve Kendall   2.0\n",
      "1457165              Phillip Vandamm   3.0\n",
      "3157232              Clara Thornhill   4.0\n",
      "356707                 The Professor   5.0\n",
      "3048272                Mrs. Townsend   6.0\n",
      "1695173              Lester Townsend   7.0\n",
      "1275337                      Leonard   8.0\n",
      "2447081                     Valerian   9.0\n",
      "1811387              Victor Larrabee  10.0\n",
      "665768                         Licht  11.0\n",
      "2295714                   Auctioneer  12.0\n",
      "464736                     Dr. Cross  13.0\n",
      "1508344               Sergeant Flamm  14.0\n",
      "206471                Captain Junket  15.0\n",
      "1384780  Charley - Chicago Policeman  16.0\n"
     ]
    }
   ],
   "source": [
    "import pandas as pd\n",
    "north_by_northwest_cast = cast[(cast['title'] == 'North by Northwest') & cast['n'].notna()]\n",
    "north_by_northwest_cast_sorted = north_by_northwest_cast.sort_values(by='n')\n",
    "print(north_by_northwest_cast_sorted[['character', 'n']])\n"
   ]
  },
  {
   "cell_type": "markdown",
   "id": "b84e2270",
   "metadata": {},
   "source": [
    "# Display the entire cast, in \"n\"-order, of the 1972 film \"Sleuth\"."
   ]
  },
  {
   "cell_type": "code",
   "execution_count": 8,
   "id": "b0de8f39",
   "metadata": {},
   "outputs": [
    {
     "name": "stdout",
     "output_type": "stream",
     "text": [
      "                          character    n\n",
      "1705394                 Andrew Wyke  1.0\n",
      "326773                  Milo Tindle  2.0\n",
      "373876            Inspector Doppler  3.0\n",
      "1465483  Detective Sergeant Tarrant  4.0\n",
      "2724553             Marguerite Wyke  5.0\n",
      "1448690      Police Constable Higgs  6.0\n"
     ]
    }
   ],
   "source": [
    "import pandas as pd\n",
    "sleuth_1972_cast = cast[(cast['title'] == 'Sleuth') & (cast['year'] == 1972) & cast['n'].notna()]\n",
    "sleuth_1972_cast_sorted = sleuth_1972_cast.sort_values(by='n')\n",
    "print(sleuth_1972_cast_sorted[['character', 'n']])\n"
   ]
  },
  {
   "cell_type": "markdown",
   "id": "f618a6df",
   "metadata": {},
   "source": [
    "# Now display the entire cast, in \"n\"-order, of the 2007 version of \"Sleuth\""
   ]
  },
  {
   "cell_type": "code",
   "execution_count": 9,
   "id": "f0f6add1",
   "metadata": {},
   "outputs": [
    {
     "name": "stdout",
     "output_type": "stream",
     "text": [
      "           character    n\n",
      "326774        Andrew  1.0\n",
      "1293634         Milo  2.0\n",
      "1805907  Man on T.V.  3.0\n"
     ]
    }
   ],
   "source": [
    "import pandas as pd\n",
    "sleuth_2007_cast = cast[(cast['title'] == 'Sleuth') & (cast['year'] == 2007) & cast['n'].notna()]\n",
    "sleuth_2007_cast_sorted = sleuth_2007_cast.sort_values(by='n')\n",
    "print(sleuth_2007_cast_sorted[['character', 'n']])\n"
   ]
  },
  {
   "cell_type": "markdown",
   "id": "5d6c36e6",
   "metadata": {},
   "source": [
    "# How many roles were credited in the silent 1921 version of Hamlet?"
   ]
  },
  {
   "cell_type": "code",
   "execution_count": 10,
   "id": "4526ec69",
   "metadata": {},
   "outputs": [
    {
     "name": "stdout",
     "output_type": "stream",
     "text": [
      "The number of credited roles in the silent 1921 version of 'Hamlet' is: 9\n"
     ]
    }
   ],
   "source": [
    "import pandas as pd\n",
    "hamlet_1921_cast = cast[(cast['title'] == 'Hamlet') & (cast['year'] == 1921)]\n",
    "number_of_roles_in_hamlet_1921 = hamlet_1921_cast.shape[0]\n",
    "\n",
    "print(f\"The number of credited roles in the silent 1921 version of 'Hamlet' is: {number_of_roles_in_hamlet_1921}\")\n"
   ]
  },
  {
   "cell_type": "markdown",
   "id": "cd6def2e",
   "metadata": {},
   "source": [
    "# How many \"Hamist roles have been listed in all im credits through history?"
   ]
  },
  {
   "cell_type": "code",
   "execution_count": 11,
   "id": "5fce78b5",
   "metadata": {},
   "outputs": [
    {
     "name": "stdout",
     "output_type": "stream",
     "text": [
      "The total number of 'Hamlet' roles listed in IMDb credits through history is: 178\n"
     ]
    }
   ],
   "source": [
    "import pandas as pd\n",
    "hamlet_roles = cast[cast['character'].str.contains('Hamlet', case=False, na=False)]\n",
    "\n",
    "total_hamlet_roles = hamlet_roles.shape[0]\n",
    "\n",
    "print(f\"The total number of 'Hamlet' roles listed in IMDb credits through history is: {total_hamlet_roles}\")\n"
   ]
  },
  {
   "cell_type": "markdown",
   "id": "6936a9fb",
   "metadata": {},
   "source": [
    "# how many people have played an \"Ophelia\"?"
   ]
  },
  {
   "cell_type": "code",
   "execution_count": 12,
   "id": "641e233b",
   "metadata": {},
   "outputs": [
    {
     "name": "stdout",
     "output_type": "stream",
     "text": [
      "The number of people who have played the character 'Ophelia' is: 115\n"
     ]
    }
   ],
   "source": [
    "import pandas as pd\n",
    "ophelia_roles = cast[cast['character'] == 'Ophelia']\n",
    "\n",
    "# Count the number of unique actors who have played \"Ophelia\"\n",
    "unique_ophelia_actors = ophelia_roles['name'].nunique()\n",
    "\n",
    "print(f\"The number of people who have played the character 'Ophelia' is: {unique_ophelia_actors}\")\n"
   ]
  },
  {
   "cell_type": "markdown",
   "id": "4fa4a549",
   "metadata": {},
   "source": [
    "# How many people have played a role called \"The Dude\"?"
   ]
  },
  {
   "cell_type": "code",
   "execution_count": 13,
   "id": "42a4f099",
   "metadata": {},
   "outputs": [
    {
     "name": "stdout",
     "output_type": "stream",
     "text": [
      "The number of people who have played the character 'The Dude' is: 19\n"
     ]
    }
   ],
   "source": [
    "import pandas as pd\n",
    "the_dude_roles = cast[cast['character'] == 'The Dude']\n",
    "unique_the_dude_actors = the_dude_roles['name'].nunique()\n",
    "\n",
    "print(f\"The number of people who have played the character 'The Dude' is: {unique_the_dude_actors}\")\n"
   ]
  },
  {
   "cell_type": "markdown",
   "id": "d72cd0fb",
   "metadata": {},
   "source": [
    "# How many people have played a role calles\"The Stranger\"?"
   ]
  },
  {
   "cell_type": "code",
   "execution_count": 14,
   "id": "7b060a45",
   "metadata": {},
   "outputs": [
    {
     "name": "stdout",
     "output_type": "stream",
     "text": [
      "The number of people who have played the character 'The Stranger' is: 202\n"
     ]
    }
   ],
   "source": [
    "import pandas as pd\n",
    "the_stranger_roles = cast[cast['character'] == 'The Stranger']\n",
    "\n",
    "# Count the number of unique actors who have played \"The Stranger\"\n",
    "unique_the_stranger_actors = the_stranger_roles['name'].nunique()\n",
    "\n",
    "print(f\"The number of people who have played the character 'The Stranger' is: {unique_the_stranger_actors}\")\n"
   ]
  },
  {
   "cell_type": "markdown",
   "id": "0bed0bee",
   "metadata": {},
   "source": [
    "# How many roles has Sidney Poitier played throughout his career?"
   ]
  },
  {
   "cell_type": "code",
   "execution_count": 15,
   "id": "d888dc4c",
   "metadata": {},
   "outputs": [
    {
     "name": "stdout",
     "output_type": "stream",
     "text": [
      "Sidney Poitier has played 41 roles throughout his career.\n"
     ]
    }
   ],
   "source": [
    "import pandas as pd\n",
    "sidney_poitier_roles = cast[cast['name'] == 'Sidney Poitier']\n",
    "\n",
    "number_of_roles_played_by_sidney_poitier = sidney_poitier_roles['character'].nunique()\n",
    "\n",
    "print(f\"Sidney Poitier has played {number_of_roles_played_by_sidney_poitier} roles throughout his career.\")\n"
   ]
  },
  {
   "cell_type": "markdown",
   "id": "d3568872",
   "metadata": {},
   "source": [
    "# How many roles has Judi Dench played?"
   ]
  },
  {
   "cell_type": "code",
   "execution_count": 16,
   "id": "955f27f2",
   "metadata": {},
   "outputs": [
    {
     "name": "stdout",
     "output_type": "stream",
     "text": [
      "Judi Dench has played 46 roles throughout her career.\n"
     ]
    }
   ],
   "source": [
    "import pandas as pd\n",
    "judi_dench_roles = cast[cast['name'] == 'Judi Dench']\n",
    "\n",
    "# Count the number of unique characters she has portrayed\n",
    "number_of_roles_played_by_judi_dench = judi_dench_roles['character'].nunique()\n",
    "\n",
    "print(f\"Judi Dench has played {number_of_roles_played_by_judi_dench} roles throughout her career.\")\n"
   ]
  },
  {
   "cell_type": "markdown",
   "id": "ed86daa6",
   "metadata": {},
   "source": [
    "# List the supporting roles (having n=2) played by Cary Grant in the 1940s, in order by year."
   ]
  },
  {
   "cell_type": "code",
   "execution_count": 17,
   "id": "9db95d65",
   "metadata": {},
   "outputs": [
    {
     "name": "stdout",
     "output_type": "stream",
     "text": [
      "          character  year\n",
      "871423   Nick Arden  1940\n",
      "871433  Roger Adams  1941\n"
     ]
    }
   ],
   "source": [
    "import pandas as pd\n",
    "cary_grant_supporting_roles_1940s = cast[(cast['name'] == 'Cary Grant') & (cast['n'] == 2) & (cast['year'] >= 1940) & (cast['year'] <= 1949)]\n",
    "cary_grant_supporting_roles_1940s_sorted = cary_grant_supporting_roles_1940s.sort_values(by='year')\n",
    "\n",
    "print(cary_grant_supporting_roles_1940s_sorted[['character', 'year']])\n"
   ]
  },
  {
   "cell_type": "markdown",
   "id": "1e4914f2",
   "metadata": {},
   "source": [
    "# List the leading roles that Cary Grant played in the 1940s in orderby year"
   ]
  },
  {
   "cell_type": "code",
   "execution_count": 18,
   "id": "dccafe98",
   "metadata": {},
   "outputs": [
    {
     "name": "stdout",
     "output_type": "stream",
     "text": [
      "                                   character  year\n",
      "871448                           Matt Howard  1940\n",
      "871407                          Walter Burns  1940\n",
      "871450                    C. K. Dexter Haven  1940\n",
      "871438                      Johnnie Aysgarth  1941\n",
      "871452                          Leopold Dilg  1942\n",
      "871429                 Patrick 'Pat' O'Toole  1942\n",
      "871398                         Capt. Cassidy  1943\n",
      "871422  Joe Adams -posing as Joe Bascopolous  1943\n",
      "871430                           Jerry Flynn  1944\n",
      "871390                     Mortimer Brewster  1944\n",
      "871425                            Ernie Mott  1944\n",
      "871424                           Cole Porter  1946\n",
      "871427                                Devlin  1946\n",
      "871444                           Dick Nugent  1947\n",
      "871445                                Dudley  1947\n",
      "871421                         Jim Blandings  1948\n",
      "871402                     Dr. Madison Brown  1948\n",
      "871411                 Captain Henri Rochard  1949\n"
     ]
    }
   ],
   "source": [
    "import pandas as pd\n",
    "cary_grant_leading_roles_1940s = cast[(cast['name'] == 'Cary Grant') & (cast['n'] == 1) & (cast['year'] >= 1940) & (cast['year'] <= 1949)]\n",
    "cary_grant_leading_roles_1940s_sorted = cary_grant_leading_roles_1940s.sort_values(by='year')\n",
    "print(cary_grant_leading_roles_1940s_sorted[['character', 'year']])\n"
   ]
  },
  {
   "cell_type": "markdown",
   "id": "f9b5aae0",
   "metadata": {},
   "source": [
    "# How many roles were available for actors in the 1950s?"
   ]
  },
  {
   "cell_type": "code",
   "execution_count": 19,
   "id": "e4642892",
   "metadata": {},
   "outputs": [
    {
     "name": "stdout",
     "output_type": "stream",
     "text": [
      "The number of roles available for actors in the 1950s is: 215471\n"
     ]
    }
   ],
   "source": [
    "import pandas as pd\n",
    "roles_in_1950s = cast[(cast['year'] >= 1950) & (cast['year'] <= 1959)]\n",
    "number_of_roles_in_1950s = roles_in_1950s.shape[0]\n",
    "\n",
    "print(f\"The number of roles available for actors in the 1950s is: {number_of_roles_in_1950s}\")\n"
   ]
  },
  {
   "cell_type": "markdown",
   "id": "cc24373c",
   "metadata": {},
   "source": [
    "# How many roles were available for actresses in the 1950s?"
   ]
  },
  {
   "cell_type": "code",
   "execution_count": 20,
   "id": "1eab1a04",
   "metadata": {},
   "outputs": [
    {
     "name": "stdout",
     "output_type": "stream",
     "text": [
      "The number of roles available for actresses in the 1950s is: 57733\n"
     ]
    }
   ],
   "source": [
    "import pandas as pd\n",
    "actress_roles_in_1950s = cast[(cast['year'] >= 1950) & (cast['year'] <= 1959) & (cast['type'] == 'actress')]\n",
    "number_of_actress_roles_in_1950s = actress_roles_in_1950s.shape[0]\n",
    "\n",
    "print(f\"The number of roles available for actresses in the 1950s is: {number_of_actress_roles_in_1950s}\")\n"
   ]
  },
  {
   "cell_type": "markdown",
   "id": "a31e0e40",
   "metadata": {},
   "source": [
    "# How many leading roles (n=1) were available from the beginning of film history through 19807"
   ]
  },
  {
   "cell_type": "code",
   "execution_count": 21,
   "id": "39830a1a",
   "metadata": {},
   "outputs": [
    {
     "name": "stdout",
     "output_type": "stream",
     "text": [
      "The number of leading roles (n=1) available from the beginning of film history through 1980 is: 65140\n"
     ]
    }
   ],
   "source": [
    "import pandas as pd\n",
    "leading_roles_through_1980 = cast[(cast['n'] == 1) & (cast['year'] <= 1980)]\n",
    "\n",
    "# Count the number of leading roles available from the beginning of film history through 1980\n",
    "number_of_leading_roles_through_1980 = leading_roles_through_1980.shape[0]\n",
    "\n",
    "print(f\"The number of leading roles (n=1) available from the beginning of film history through 1980 is: {number_of_leading_roles_through_1980}\")\n"
   ]
  },
  {
   "cell_type": "markdown",
   "id": "949b9c94",
   "metadata": {},
   "source": [
    "# How many non leading roles were available through from the beginning of film history through 1980"
   ]
  },
  {
   "cell_type": "code",
   "execution_count": 22,
   "id": "6f77f78c",
   "metadata": {},
   "outputs": [
    {
     "name": "stdout",
     "output_type": "stream",
     "text": [
      "The number of non-leading roles (n not equal to 1) available from the beginning of film history through 1980 is: 1117667\n"
     ]
    }
   ],
   "source": [
    "import pandas as pd\n",
    "non_leading_roles_through_1980 = cast[(cast['n'] != 1) & (cast['year'] <= 1980)]\n",
    "number_of_non_leading_roles_through_1980 = non_leading_roles_through_1980.shape[0]\n",
    "\n",
    "print(f\"The number of non-leading roles (n not equal to 1) available from the beginning of film history through 1980 is: {number_of_non_leading_roles_through_1980}\")\n"
   ]
  },
  {
   "cell_type": "markdown",
   "id": "275b70a5",
   "metadata": {},
   "source": [
    "# How many roles through 1980 were minor enough that they did not warrant a numeric \"n\" rank? "
   ]
  },
  {
   "cell_type": "code",
   "execution_count": 24,
   "id": "953952c3",
   "metadata": {},
   "outputs": [
    {
     "name": "stdout",
     "output_type": "stream",
     "text": [
      "The number of roles through 1980 that were minor enough to not warrant a numeric 'n' rank is: 1458573\n"
     ]
    }
   ],
   "source": [
    "import pandas as pd\n",
    "minor_roles_through_1980 = cast[(cast['n'].isna()) | (cast['n'] == '') & (cast['year'] <= 1980)]\n",
    "number_of_minor_roles_through_1980 = minor_roles_through_1980.shape[0]\n",
    "\n",
    "print(f\"The number of roles through 1980 that were minor enough to not warrant a numeric 'n' rank is: {number_of_minor_roles_through_1980}\")\n"
   ]
  }
 ],
 "metadata": {
  "kernelspec": {
   "display_name": "Python 3 (ipykernel)",
   "language": "python",
   "name": "python3"
  },
  "language_info": {
   "codemirror_mode": {
    "name": "ipython",
    "version": 3
   },
   "file_extension": ".py",
   "mimetype": "text/x-python",
   "name": "python",
   "nbconvert_exporter": "python",
   "pygments_lexer": "ipython3",
   "version": "3.11.4"
  }
 },
 "nbformat": 4,
 "nbformat_minor": 5
}
