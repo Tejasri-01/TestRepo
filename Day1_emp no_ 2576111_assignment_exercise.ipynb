{
 "cells": [
  {
   "cell_type": "markdown",
   "id": "873988da",
   "metadata": {},
   "source": [
    "# Manipulate usinga list"
   ]
  },
  {
   "cell_type": "code",
   "execution_count": 18,
   "id": "ae6e6963",
   "metadata": {},
   "outputs": [
    {
     "data": {
      "text/plain": [
       "[34, 78, 'python', '$389', 5823]"
      ]
     },
     "execution_count": 18,
     "metadata": {},
     "output_type": "execute_result"
    }
   ],
   "source": [
    "list = [34,78,\"python\",\"$389\",5823]\n",
    "list"
   ]
  },
  {
   "cell_type": "code",
   "execution_count": 19,
   "id": "b5f4e98a",
   "metadata": {},
   "outputs": [
    {
     "name": "stdout",
     "output_type": "stream",
     "text": [
      "[34, 78, 'python', '$389', 5823, 'day1']\n"
     ]
    }
   ],
   "source": [
    "list.append(\"day1\")\n",
    "print(list)"
   ]
  },
  {
   "cell_type": "code",
   "execution_count": 20,
   "id": "ed669003",
   "metadata": {},
   "outputs": [
    {
     "name": "stdout",
     "output_type": "stream",
     "text": [
      "['day1', 5823, '$389', 'python', 78, 34]\n"
     ]
    }
   ],
   "source": [
    "list.reverse()\n",
    "print(list)"
   ]
  },
  {
   "cell_type": "code",
   "execution_count": 22,
   "id": "71b2dd84",
   "metadata": {},
   "outputs": [
    {
     "data": {
      "text/plain": [
       "['day1', 5823, '$389', 'python', 78, 34]"
      ]
     },
     "execution_count": 22,
     "metadata": {},
     "output_type": "execute_result"
    }
   ],
   "source": [
    "list"
   ]
  },
  {
   "cell_type": "code",
   "execution_count": 16,
   "id": "9c42353a",
   "metadata": {},
   "outputs": [
    {
     "name": "stdout",
     "output_type": "stream",
     "text": [
      "[34, 78, 'python', '$389', 5823, 34, 78, 'python', '$389', 5823, 34, 78, 'python', '$389', 5823, 34, 78, 'python', '$389', 5823, 34, 78, 'python', '$389', 5823]\n"
     ]
    }
   ],
   "source": [
    "list = [34,78,\"python\",\"$389\",5823]\n",
    "new_item =5\n",
    "list_item = list * new_item\n",
    "print(list_item)"
   ]
  },
  {
   "cell_type": "code",
   "execution_count": 24,
   "id": "69ff7fb9",
   "metadata": {},
   "outputs": [
    {
     "data": {
      "text/plain": [
       "['day1', 5823, '$389', 'python', 78, 34]"
      ]
     },
     "execution_count": 24,
     "metadata": {},
     "output_type": "execute_result"
    }
   ],
   "source": [
    "list"
   ]
  },
  {
   "cell_type": "code",
   "execution_count": null,
   "id": "754d4a9c",
   "metadata": {},
   "outputs": [],
   "source": []
  },
  {
   "cell_type": "code",
   "execution_count": 27,
   "id": "e0072f90",
   "metadata": {},
   "outputs": [
    {
     "data": {
      "text/plain": [
       "[56, 89, 456, 'welcome', 789]"
      ]
     },
     "execution_count": 27,
     "metadata": {},
     "output_type": "execute_result"
    }
   ],
   "source": [
    "list2 = [56,89,456,\"welcome\",789]\n",
    "list2"
   ]
  },
  {
   "cell_type": "code",
   "execution_count": 28,
   "id": "5be32841",
   "metadata": {},
   "outputs": [
    {
     "name": "stdout",
     "output_type": "stream",
     "text": [
      "['day1', 5823, '$389', 'python', 78, 34, 56, 89, 456, 'welcome', 789]\n"
     ]
    }
   ],
   "source": [
    "concate = list + list2\n",
    "print(concate)"
   ]
  },
  {
   "cell_type": "code",
   "execution_count": 61,
   "id": "00814957",
   "metadata": {},
   "outputs": [
    {
     "name": "stdout",
     "output_type": "stream",
     "text": [
      "[0, 3, 7, 9, 56, 90, 134]\n"
     ]
    }
   ],
   "source": [
    "lst =[3,7,90,134,9,56,0]\n",
    "lst.sort()\n",
    "print(lst)"
   ]
  },
  {
   "cell_type": "markdown",
   "id": "94f5b68a",
   "metadata": {},
   "source": [
    "# Programs to do in the tuples"
   ]
  },
  {
   "cell_type": "code",
   "execution_count": 29,
   "id": "e99512ae",
   "metadata": {},
   "outputs": [
    {
     "data": {
      "text/plain": [
       "(345, 9898, 'mphasis', 'domain_aiml', 630)"
      ]
     },
     "execution_count": 29,
     "metadata": {},
     "output_type": "execute_result"
    }
   ],
   "source": [
    "tup =(345,9898,\"mphasis\",\"domain_aiml\",630)\n",
    "tup"
   ]
  },
  {
   "cell_type": "code",
   "execution_count": 30,
   "id": "9f831c57",
   "metadata": {},
   "outputs": [
    {
     "data": {
      "text/plain": [
       "'domain_aiml'"
      ]
     },
     "execution_count": 30,
     "metadata": {},
     "output_type": "execute_result"
    }
   ],
   "source": [
    "tup[3]"
   ]
  },
  {
   "cell_type": "code",
   "execution_count": 31,
   "id": "a57b421f",
   "metadata": {},
   "outputs": [
    {
     "data": {
      "text/plain": [
       "5"
      ]
     },
     "execution_count": 31,
     "metadata": {},
     "output_type": "execute_result"
    }
   ],
   "source": [
    "len(tup)"
   ]
  },
  {
   "cell_type": "code",
   "execution_count": 38,
   "id": "dafa8549",
   "metadata": {},
   "outputs": [
    {
     "name": "stdout",
     "output_type": "stream",
     "text": [
      "(345, 9898, 'mphasis', 'domain_aiml', 630, 6)\n"
     ]
    }
   ],
   "source": [
    "a=6\n",
    "new = tup+(a,)\n",
    "print(new)"
   ]
  },
  {
   "cell_type": "code",
   "execution_count": 42,
   "id": "6f5d0040",
   "metadata": {},
   "outputs": [
    {
     "data": {
      "text/plain": [
       "(345, 9898, 'mphasis', 'domain_aiml', 630, 6)"
      ]
     },
     "execution_count": 42,
     "metadata": {},
     "output_type": "execute_result"
    }
   ],
   "source": [
    "new"
   ]
  },
  {
   "cell_type": "code",
   "execution_count": 41,
   "id": "79040994",
   "metadata": {},
   "outputs": [
    {
     "name": "stdout",
     "output_type": "stream",
     "text": [
      "(630, 'domain_aiml', 'mphasis', 9898, 345)\n"
     ]
    }
   ],
   "source": [
    "reverse = tup[::-1]\n",
    "print(reverse)"
   ]
  },
  {
   "cell_type": "code",
   "execution_count": 15,
   "id": "897df2e3",
   "metadata": {},
   "outputs": [
    {
     "name": "stdout",
     "output_type": "stream",
     "text": [
      "(345, 9898, 'mphasis', 'domain_aiml', 630, 345, 9898, 'mphasis', 'domain_aiml', 630, 345, 9898, 'mphasis', 'domain_aiml', 630, 345, 9898, 'mphasis', 'domain_aiml', 630, 345, 9898, 'mphasis', 'domain_aiml', 630)\n"
     ]
    }
   ],
   "source": [
    "tup =(345,9898,\"mphasis\",\"domain_aiml\",630)\n",
    "new_item = 5\n",
    "new_tuple =  tup * new_item\n",
    "print(new_tuple)"
   ]
  },
  {
   "cell_type": "code",
   "execution_count": null,
   "id": "7517706c",
   "metadata": {},
   "outputs": [],
   "source": []
  },
  {
   "cell_type": "code",
   "execution_count": 65,
   "id": "68e894bd",
   "metadata": {},
   "outputs": [
    {
     "data": {
      "text/plain": [
       "(56, 98, 32)"
      ]
     },
     "execution_count": 65,
     "metadata": {},
     "output_type": "execute_result"
    }
   ],
   "source": [
    "add_tuple =(56,98,32)\n",
    "add_tuple"
   ]
  },
  {
   "cell_type": "code",
   "execution_count": 66,
   "id": "4c290071",
   "metadata": {},
   "outputs": [
    {
     "name": "stdout",
     "output_type": "stream",
     "text": [
      "(345, 9898, 'mphasis', 'domain_aiml', 630, 56, 98, 32)\n"
     ]
    }
   ],
   "source": [
    "concate = tup + add_tuple\n",
    "print(concate)"
   ]
  },
  {
   "cell_type": "code",
   "execution_count": 68,
   "id": "037de47b",
   "metadata": {},
   "outputs": [
    {
     "name": "stdout",
     "output_type": "stream",
     "text": [
      "[1, 5, 20, 30, 45, 67, 70, 89, 234]\n"
     ]
    }
   ],
   "source": [
    "tuples = [45,67,89,234,70,5,20,1,30]\n",
    "tuples.sort()\n",
    "print(tuples)"
   ]
  },
  {
   "cell_type": "markdown",
   "id": "367dedd3",
   "metadata": {},
   "source": [
    "# python program to implement the following using list"
   ]
  },
  {
   "cell_type": "code",
   "execution_count": 69,
   "id": "6610e0ed",
   "metadata": {},
   "outputs": [
    {
     "data": {
      "text/plain": [
       "tuple"
      ]
     },
     "execution_count": 69,
     "metadata": {},
     "output_type": "execute_result"
    }
   ],
   "source": [
    "tupe =(67,89,90,10,20,30,40,50,60,70)\n",
    "type(tupe)"
   ]
  },
  {
   "cell_type": "code",
   "execution_count": 75,
   "id": "e3ae2a87",
   "metadata": {},
   "outputs": [
    {
     "name": "stdout",
     "output_type": "stream",
     "text": [
      "70\n"
     ]
    }
   ],
   "source": [
    "last_element =tupe[-1]\n",
    "print(last_element)"
   ]
  },
  {
   "cell_type": "code",
   "execution_count": 78,
   "id": "e4fed8eb",
   "metadata": {},
   "outputs": [
    {
     "name": "stdout",
     "output_type": "stream",
     "text": [
      "(67, 89, 90, 10)\n"
     ]
    }
   ],
   "source": [
    "select_values =tupe[0:4]\n",
    "print(select_values)"
   ]
  },
  {
   "cell_type": "code",
   "execution_count": 79,
   "id": "5315e0ed",
   "metadata": {},
   "outputs": [
    {
     "name": "stdout",
     "output_type": "stream",
     "text": [
      "(90, 10, 20, 30, 40, 50, 60, 70)\n"
     ]
    }
   ],
   "source": [
    "select_values = tupe[2:]\n",
    "print(select_values)"
   ]
  },
  {
   "cell_type": "code",
   "execution_count": 80,
   "id": "aeaba0a9",
   "metadata": {},
   "outputs": [
    {
     "name": "stdout",
     "output_type": "stream",
     "text": [
      "(67, 89, 90, 10, 20, 30)\n"
     ]
    }
   ],
   "source": [
    "select_values = tupe[:6]\n",
    "print(select_values)"
   ]
  },
  {
   "cell_type": "markdown",
   "id": "08fb297f",
   "metadata": {},
   "source": [
    "# write apython program: tuple1(10,50,20,40,30)"
   ]
  },
  {
   "cell_type": "code",
   "execution_count": 81,
   "id": "eb5a8134",
   "metadata": {},
   "outputs": [
    {
     "data": {
      "text/plain": [
       "(10, 50, 20, 40, 30)"
      ]
     },
     "execution_count": 81,
     "metadata": {},
     "output_type": "execute_result"
    }
   ],
   "source": [
    "tuple1 = (10,50,20,40,30)\n",
    "tuple1"
   ]
  },
  {
   "cell_type": "code",
   "execution_count": 82,
   "id": "8d951717",
   "metadata": {},
   "outputs": [
    {
     "name": "stdout",
     "output_type": "stream",
     "text": [
      "(10, 50)\n"
     ]
    }
   ],
   "source": [
    "select_values = tuple1[:2]\n",
    "print(select_values)"
   ]
  },
  {
   "cell_type": "code",
   "execution_count": 83,
   "id": "885ec854",
   "metadata": {},
   "outputs": [
    {
     "name": "stdout",
     "output_type": "stream",
     "text": [
      "5\n"
     ]
    }
   ],
   "source": [
    "length = len(tuple1)\n",
    "print(length)"
   ]
  },
  {
   "cell_type": "code",
   "execution_count": 86,
   "id": "09a24bd9",
   "metadata": {},
   "outputs": [
    {
     "name": "stdout",
     "output_type": "stream",
     "text": [
      "10\n"
     ]
    }
   ],
   "source": [
    "min= tuple1[1]\n",
    "for i in tuple1:\n",
    "    if i<min:\n",
    "        min=i\n",
    "        print(min)"
   ]
  },
  {
   "cell_type": "code",
   "execution_count": 2,
   "id": "bd064e37",
   "metadata": {},
   "outputs": [
    {
     "name": "stdout",
     "output_type": "stream",
     "text": [
      "20\n",
      "70\n",
      "90\n",
      "130\n",
      "160\n"
     ]
    }
   ],
   "source": [
    "tuple1 = (10,50,20,40,30)\n",
    "sum = tuple1[0]\n",
    "for i in tuple1:\n",
    "    sum = sum + i\n",
    "    print(sum)"
   ]
  },
  {
   "cell_type": "code",
   "execution_count": 6,
   "id": "67126ae8",
   "metadata": {},
   "outputs": [
    {
     "data": {
      "text/plain": [
       "(10, 50, 20, 40, 30)"
      ]
     },
     "execution_count": 6,
     "metadata": {},
     "output_type": "execute_result"
    }
   ],
   "source": [
    "tuple1 =  (10,50,20,40,30)\n",
    "tuple1"
   ]
  },
  {
   "cell_type": "code",
   "execution_count": 7,
   "id": "5a14a038",
   "metadata": {},
   "outputs": [
    {
     "name": "stdout",
     "output_type": "stream",
     "text": [
      "(10, 50, 20, 40, 30, 10, 50, 20, 40, 30, 10, 50, 20, 40, 30)\n"
     ]
    }
   ],
   "source": [
    "times_to_repeat = 3\n",
    "result_tuple = tuple1 * times_to_repeat\n",
    "print(result_tuple)"
   ]
  },
  {
   "cell_type": "markdown",
   "id": "e4e04547",
   "metadata": {},
   "source": [
    "# 5. python program"
   ]
  },
  {
   "cell_type": "code",
   "execution_count": 21,
   "id": "7ee8f44c",
   "metadata": {},
   "outputs": [
    {
     "data": {
      "text/plain": [
       "'hello world'"
      ]
     },
     "execution_count": 21,
     "metadata": {},
     "output_type": "execute_result"
    }
   ],
   "source": [
    "string = \"hello world\"\n",
    "string"
   ]
  },
  {
   "cell_type": "raw",
   "id": "f366cb93",
   "metadata": {},
   "source": [
    "length = len(string)\n",
    "print(length)"
   ]
  },
  {
   "cell_type": "code",
   "execution_count": 25,
   "id": "5ca9e336",
   "metadata": {},
   "outputs": [
    {
     "name": "stdout",
     "output_type": "stream",
     "text": [
      "dlrow olleh\n"
     ]
    }
   ],
   "source": [
    "reverse_string = string[::-1]\n",
    "print(reverse_string)"
   ]
  },
  {
   "cell_type": "code",
   "execution_count": 28,
   "id": "15d8e923",
   "metadata": {},
   "outputs": [
    {
     "name": "stdout",
     "output_type": "stream",
     "text": [
      "hello worldhello worldhello world\n"
     ]
    }
   ],
   "source": [
    "string = \"hello world\"\n",
    "time_to_repeat = 3\n",
    "result_tuple = string * time_to_repeat\n",
    "print(result_tuple)"
   ]
  },
  {
   "cell_type": "code",
   "execution_count": 29,
   "id": "fb96efe7",
   "metadata": {},
   "outputs": [
    {
     "name": "stdout",
     "output_type": "stream",
     "text": [
      "helloworld\n"
     ]
    }
   ],
   "source": [
    "string1 = \"hello\"\n",
    "string2 =\"world\"\n",
    "result_tuple = string1+string2\n",
    "print(result_tuple)"
   ]
  },
  {
   "cell_type": "code",
   "execution_count": 30,
   "id": "a26642c9",
   "metadata": {},
   "outputs": [
    {
     "name": "stdout",
     "output_type": "stream",
     "text": [
      "india\n"
     ]
    }
   ],
   "source": [
    "str1 = \"south india\"\n",
    "select_string = str1[6:]\n",
    "print(select_string)"
   ]
  },
  {
   "cell_type": "markdown",
   "id": "361f693a",
   "metadata": {},
   "source": [
    "# 6.perform the following"
   ]
  },
  {
   "cell_type": "code",
   "execution_count": 4,
   "id": "4925e790",
   "metadata": {},
   "outputs": [],
   "source": [
    "student = {\n",
    "    'name': 'Alice',\n",
    "    'age': 20,\n",
    "    'grade': 'A'\n",
    "}\n",
    "print(student['name'])  # Output: 'Alice'\n",
    "print(student['age'])   # Output: 20\n",
    "print(student['grade']) # Output: 'A'"
   ]
  },
  {
   "cell_type": "code",
   "execution_count": 6,
   "id": "184f642b",
   "metadata": {},
   "outputs": [
    {
     "name": "stdout",
     "output_type": "stream",
     "text": [
      "name: Alice\n",
      "age: 20\n",
      "grade: A\n"
     ]
    }
   ],
   "source": [
    "for key, value in student.items():\n",
    "    print(f'{key}: {value}')"
   ]
  },
  {
   "cell_type": "code",
   "execution_count": 7,
   "id": "f6403a07",
   "metadata": {},
   "outputs": [
    {
     "name": "stdout",
     "output_type": "stream",
     "text": [
      "{'name': 'Alice', 'age': 20, 'grade': 'A'}\n",
      "{'name': 'Alice', 'age': 20, 'grade': 'A', 'place': 'newyork'}\n"
     ]
    }
   ],
   "source": [
    "update_dict={'name': 'Alice',\n",
    "    'age': 20,\n",
    "    'grade': 'A','place':'newyork'}\n",
    "print(student)\n",
    "print(update_dict)"
   ]
  },
  {
   "cell_type": "code",
   "execution_count": 12,
   "id": "8c30149f",
   "metadata": {},
   "outputs": [
    {
     "name": "stdout",
     "output_type": "stream",
     "text": [
      "{'grade': 'A'}\n"
     ]
    }
   ],
   "source": [
    "del student['name']\n",
    "print(student)"
   ]
  },
  {
   "cell_type": "code",
   "execution_count": 13,
   "id": "b657bf54",
   "metadata": {},
   "outputs": [
    {
     "name": "stdout",
     "output_type": "stream",
     "text": [
      "{}\n"
     ]
    }
   ],
   "source": [
    "student.clear()\n",
    "print(student)"
   ]
  },
  {
   "cell_type": "markdown",
   "id": "95f26505",
   "metadata": {},
   "source": [
    "# 7. python program to insert a number to any position in a list"
   ]
  },
  {
   "cell_type": "code",
   "execution_count": 14,
   "id": "2405eb6c",
   "metadata": {},
   "outputs": [
    {
     "name": "stdout",
     "output_type": "stream",
     "text": [
      "Number 10 inserted at position 2.\n",
      "Updated List: [1, 2, 10, 3, 4, 5]\n"
     ]
    }
   ],
   "source": [
    "list = [1, 2, 3, 4, 5]\n",
    "number_to_insert = 10\n",
    "position = 2  \n",
    "if 0 <= position <= len(my_list):\n",
    "    my_list.insert(position, number_to_insert)\n",
    "    print(f\"Number {number_to_insert} inserted at position {position}.\")\n",
    "    print(\"Updated List:\", my_list)\n",
    "else:\n",
    "    print(\"Invalid position. Please choose a valid index.\")\n",
    "\n"
   ]
  },
  {
   "cell_type": "markdown",
   "id": "7f8de205",
   "metadata": {},
   "source": [
    "# 8.python program to delete an element from a list by index"
   ]
  },
  {
   "cell_type": "code",
   "execution_count": 17,
   "id": "9c08307b",
   "metadata": {},
   "outputs": [
    {
     "name": "stdout",
     "output_type": "stream",
     "text": [
      "Element deleted successfully.\n",
      "[1, 42, 4, 5]\n"
     ]
    }
   ],
   "source": [
    "my_list = [1, 42, 3, 4, 5]\n",
    "index_to_delete = 2\n",
    "if 0 <= index_to_delete < len(my_list):\n",
    "    del my_list[index_to_delete]\n",
    "    print(\"Element deleted successfully.\")\n",
    "else:\n",
    "    print(\"Invalid index. Element not deleted.\")\n",
    "print(my_list)\n"
   ]
  },
  {
   "cell_type": "markdown",
   "id": "cd998df2",
   "metadata": {},
   "source": [
    "# 9.write a program to display a number from 1 to 100"
   ]
  },
  {
   "cell_type": "code",
   "execution_count": 23,
   "id": "7fddee57",
   "metadata": {},
   "outputs": [
    {
     "name": "stdout",
     "output_type": "stream",
     "text": [
      "1\n",
      "2\n",
      "3\n",
      "4\n",
      "5\n",
      "6\n",
      "7\n",
      "8\n",
      "9\n",
      "10\n",
      "11\n",
      "12\n",
      "13\n",
      "14\n",
      "15\n",
      "16\n",
      "17\n",
      "18\n",
      "19\n",
      "20\n",
      "21\n",
      "22\n",
      "23\n",
      "24\n",
      "25\n",
      "26\n",
      "27\n",
      "28\n",
      "29\n",
      "30\n",
      "31\n",
      "32\n",
      "33\n",
      "34\n",
      "35\n",
      "36\n",
      "37\n",
      "38\n",
      "39\n",
      "40\n",
      "41\n",
      "42\n",
      "43\n",
      "44\n",
      "45\n",
      "46\n",
      "47\n",
      "48\n",
      "49\n",
      "50\n",
      "51\n",
      "52\n",
      "53\n",
      "54\n",
      "55\n",
      "56\n",
      "57\n",
      "58\n",
      "59\n",
      "60\n",
      "61\n",
      "62\n",
      "63\n",
      "64\n",
      "65\n",
      "66\n",
      "67\n",
      "68\n",
      "69\n",
      "70\n",
      "71\n",
      "72\n",
      "73\n",
      "74\n",
      "75\n",
      "76\n",
      "77\n",
      "78\n",
      "79\n",
      "80\n",
      "81\n",
      "82\n",
      "83\n",
      "84\n",
      "85\n",
      "86\n",
      "87\n",
      "88\n",
      "89\n",
      "90\n",
      "91\n",
      "92\n",
      "93\n",
      "94\n",
      "95\n",
      "96\n",
      "97\n",
      "98\n",
      "99\n"
     ]
    }
   ],
   "source": [
    "for i in range(1,101):\n",
    "    print(i)"
   ]
  },
  {
   "cell_type": "markdown",
   "id": "28b96d5e",
   "metadata": {},
   "source": [
    "# 10.python program to find the sum of all items in a tuple"
   ]
  },
  {
   "cell_type": "code",
   "execution_count": 24,
   "id": "97cf05d1",
   "metadata": {},
   "outputs": [
    {
     "name": "stdout",
     "output_type": "stream",
     "text": [
      "115\n"
     ]
    }
   ],
   "source": [
    "list=[7,3,6,89,1,4,5]\n",
    "sum=0\n",
    "for i in list:\n",
    "    sum+=i\n",
    "print(sum)"
   ]
  },
  {
   "cell_type": "markdown",
   "id": "eb8e145e",
   "metadata": {},
   "source": [
    "# 11.Create a dictionary containing three lambda functions square, cube and square root.\n",
    "\n",
    "Eg. dict('Square: function for squaring, 'Cube: function for cube, 'Squareroot\":\n",
    "\n",
    "function for square root)\n",
    "\n",
    "Pass the values (input from the user) to the functions in the dictionary respectively.\n",
    "\n",
    "Then add the outputs of each function and print it."
   ]
  },
  {
   "cell_type": "code",
   "execution_count": 41,
   "id": "e2980861",
   "metadata": {},
   "outputs": [
    {
     "name": "stdout",
     "output_type": "stream",
     "text": [
      "Enter a number: 5\n",
      "Square: 25.0\n",
      "Cube: 125.0\n",
      "SquareRoot: 2.23606797749979\n",
      "Sum of the results: 152.2360679774998\n"
     ]
    }
   ],
   "source": [
    "# Define the dictionary with lambda functions\n",
    "functions_dict = {\n",
    "    'Square': lambda x: x**2,\n",
    "    'Cube': lambda x: x**3,\n",
    "    'SquareRoot': lambda x: x**0.5\n",
    "}\n",
    "\n",
    "# Get user input\n",
    "try:\n",
    "    num = float(input(\"Enter a number: \"))\n",
    "except ValueError:\n",
    "    print(\"Invalid input. Please enter a valid number.\")\n",
    "    exit()\n",
    "\n",
    "# Initialize a variable to store the sum of results\n",
    "total = 0\n",
    "\n",
    "# Apply the functions and accumulate the results\n",
    "for function_name, function in functions_dict.items():\n",
    "    result = function(num)\n",
    "    total += result\n",
    "    print(f\"{function_name}: {result}\")\n",
    "\n",
    "# Print the total sum of the results\n",
    "print(f\"Sum of the results: {total}\")\n"
   ]
  },
  {
   "cell_type": "markdown",
   "id": "3a19e5b3",
   "metadata": {},
   "source": [
    "# 12.A list of words is given. Find the words from the list that have their second character in uppercasets=['hello', 'Dear, 'how', 'ARe\", \"You']"
   ]
  },
  {
   "cell_type": "code",
   "execution_count": 42,
   "id": "4481dc39",
   "metadata": {},
   "outputs": [
    {
     "name": "stdout",
     "output_type": "stream",
     "text": [
      "['ARe']\n"
     ]
    }
   ],
   "source": [
    "ts = ['hello', 'Dear', 'how', 'ARe', 'You']\n",
    "result_words = [word for word in ts if len(word) > 1 and word[1].isupper()]\n",
    "print(result_words)\n"
   ]
  },
  {
   "cell_type": "markdown",
   "id": "3939ab3d",
   "metadata": {},
   "source": [
    "# 13.A dictionary of names and their weights on earth is given. Find how much they will weigh on themoon. (Use map and lambda functions) Formula: wMoon = (wEarth GMoon)/GEarth0\n",
    "Weight of people in kg.\n",
    "WeightOnEarth (John:45, 'Shelly':65, Marry:35)\n",
    "#Gravitational force on the Moon: 1.622 m/s2\n",
    "GMoon=1.622\n",
    "Gravitational force on the Earth: 9.81 m/s2GEarth-9.81"
   ]
  },
  {
   "cell_type": "code",
   "execution_count": 43,
   "id": "d8ec12ba",
   "metadata": {},
   "outputs": [
    {
     "name": "stdout",
     "output_type": "stream",
     "text": [
      "John's weight on the Moon: 7.440366972477065 kg\n",
      "Shelly's weight on the Moon: 10.747196738022426 kg\n",
      "Marry's weight on the Moon: 5.786952089704383 kg\n"
     ]
    }
   ],
   "source": [
    "WeightOnEarth = {'John': 45, 'Shelly': 65, 'Marry': 35}\n",
    "GMoon = 1.622\n",
    "GEarth = 9.81\n",
    "WeightOnMoon = dict(map(lambda item: (item[0], (item[1] * GMoon) / GEarth), WeightOnEarth.items()))\n",
    "for name, weight_moon in WeightOnMoon.items():\n",
    "    print(f\"{name}'s weight on the Moon: {weight_moon} kg\")\n"
   ]
  },
  {
   "cell_type": "markdown",
   "id": "811c6268",
   "metadata": {},
   "source": [
    "# Control structure"
   ]
  },
  {
   "cell_type": "markdown",
   "id": "e1c58f7e",
   "metadata": {},
   "source": [
    "# 1.Write a python program to find the first N Prime numbers"
   ]
  },
  {
   "cell_type": "code",
   "execution_count": 45,
   "id": "62344382",
   "metadata": {},
   "outputs": [
    {
     "name": "stdout",
     "output_type": "stream",
     "text": [
      "Enter the value of N: 6\n",
      "The first 6 prime numbers are:\n",
      "[2, 3, 5, 7, 11, 13]\n"
     ]
    }
   ],
   "source": [
    "def is_prime(num):\n",
    "    if num <= 1:\n",
    "        return False\n",
    "    if num <= 3:\n",
    "        return True\n",
    "    if num % 2 == 0 or num % 3 == 0:\n",
    "        return False\n",
    "    i = 5\n",
    "    while i * i <= num:\n",
    "        if num % i == 0 or num % (i + 2) == 0:\n",
    "            return False\n",
    "        i += 6\n",
    "    return True\n",
    "\n",
    "def find_first_n_primes(N):\n",
    "    prime_list = []\n",
    "    num = 2\n",
    "    while len(prime_list) < N:\n",
    "        if is_prime(num):\n",
    "            prime_list.append(num)\n",
    "        num += 1\n",
    "    return prime_list\n",
    "\n",
    "N = int(input(\"Enter the value of N: \"))\n",
    "prime_numbers = find_first_n_primes(N)\n",
    "print(f\"The first {N} prime numbers are:\")\n",
    "print(prime_numbers)\n"
   ]
  },
  {
   "cell_type": "markdown",
   "id": "b2bb1d44",
   "metadata": {},
   "source": [
    "# 2.Write the python code that calculates the salary of an employee. Prompt the user to enter theBasic Salary, HRA, TA, and DA. Add these components to calculate the Gross Salary. Also, deduct 10% of salary from the Gross Salary to be paid as tax and display gross minus tax as net salary"
   ]
  },
  {
   "cell_type": "code",
   "execution_count": 46,
   "id": "4793d84d",
   "metadata": {},
   "outputs": [
    {
     "name": "stdout",
     "output_type": "stream",
     "text": [
      "Enter Basic Salary: 3000\n",
      "Enter HRA: 67.78\n",
      "Enter TA: 56.23\n",
      "Enter DA: 12.09\n",
      "Gross Salary: 3136.1000000000004\n",
      "Tax Deducted: 313.61000000000007\n",
      "Net Salary: 2822.4900000000002\n"
     ]
    }
   ],
   "source": [
    "\n",
    "basic_salary = float(input(\"Enter Basic Salary: \"))\n",
    "hra = float(input(\"Enter HRA: \"))\n",
    "ta = float(input(\"Enter TA: \"))\n",
    "da = float(input(\"Enter DA: \"))\n",
    "gross_salary = basic_salary + hra + ta + da\n",
    "tax = 0.10 * gross_salary\n",
    "net_salary = gross_salary - tax\n",
    "print(f\"Gross Salary: {gross_salary}\")\n",
    "print(f\"Tax Deducted: {tax}\")\n",
    "print(f\"Net Salary: {net_salary}\")\n"
   ]
  },
  {
   "cell_type": "markdown",
   "id": "73947559",
   "metadata": {},
   "source": [
    "# 3.Write a python program to search for a string in the given list."
   ]
  },
  {
   "cell_type": "code",
   "execution_count": 48,
   "id": "ad963060",
   "metadata": {},
   "outputs": [
    {
     "name": "stdout",
     "output_type": "stream",
     "text": [
      "orange not found in the list.\n"
     ]
    }
   ],
   "source": [
    "def search_string_in_list(search_str, my_list):\n",
    "    for item in my_list:\n",
    "        if search_str in item:\n",
    "            return True\n",
    "    return False\n",
    "my_list = [\"apple\", \"banana\", \"cherry\", \"date\"]\n",
    "search_str = \"orange\"\n",
    "\n",
    "if search_string_in_list(search_str, my_list):\n",
    "    print(f\"{search_str} found in the list.\")\n",
    "else:\n",
    "    print(f\"{search_str} not found in the list.\")\n"
   ]
  },
  {
   "cell_type": "markdown",
   "id": "ab86e897",
   "metadata": {},
   "source": [
    "# 4.Write a Python function that accepts a string and calculates the number of upper-case letters and lower-case letters."
   ]
  },
  {
   "cell_type": "code",
   "execution_count": 49,
   "id": "e764458d",
   "metadata": {},
   "outputs": [
    {
     "name": "stdout",
     "output_type": "stream",
     "text": [
      "Uppercase letters: 2\n",
      "Lowercase letters: 8\n"
     ]
    }
   ],
   "source": [
    "def count_upper_lower(input_string):\n",
    "    upper_count = 0\n",
    "    lower_count = 0\n",
    "\n",
    "    for char in input_string:\n",
    "        if char.isupper():\n",
    "            upper_count += 1\n",
    "        elif char.islower():\n",
    "            lower_count += 1\n",
    "\n",
    "    return upper_count, lower_count\n",
    "input_str = \"Hello World\"\n",
    "upper, lower = count_upper_lower(input_str)\n",
    "print(f\"Uppercase letters: {upper}\")\n",
    "print(f\"Lowercase letters: {lower}\")\n"
   ]
  },
  {
   "cell_type": "markdown",
   "id": "818f23ec",
   "metadata": {},
   "source": [
    "# 5.Write a program to display the sum of odd numbers and even numbers that fall between 12 and37."
   ]
  },
  {
   "cell_type": "code",
   "execution_count": 50,
   "id": "fae0874f",
   "metadata": {},
   "outputs": [
    {
     "name": "stdout",
     "output_type": "stream",
     "text": [
      "Sum of even numbers between 12 and 37: 312\n",
      "Sum of odd numbers between 12 and 37: 325\n"
     ]
    }
   ],
   "source": [
    "odd_sum = 0\n",
    "even_sum = 0\n",
    "for number in range(12, 38):\n",
    "    if number % 2 == 0:\n",
    "        even_sum += number  # Add even numbers to even_sum\n",
    "    else:\n",
    "        odd_sum += number   # Add odd numbers to odd_sum\n",
    "print(f\"Sum of even numbers between 12 and 37: {even_sum}\")\n",
    "print(f\"Sum of odd numbers between 12 and 37: {odd_sum}\")\n"
   ]
  },
  {
   "cell_type": "markdown",
   "id": "a33fad48",
   "metadata": {},
   "source": [
    "# 6.Write a python Program to print the table of any number."
   ]
  },
  {
   "cell_type": "code",
   "execution_count": 51,
   "id": "f29e4dc2",
   "metadata": {},
   "outputs": [
    {
     "name": "stdout",
     "output_type": "stream",
     "text": [
      "Enter a number: 7\n",
      "Multiplication table for 7:\n",
      "7 x 1 = 7\n",
      "7 x 2 = 14\n",
      "7 x 3 = 21\n",
      "7 x 4 = 28\n",
      "7 x 5 = 35\n",
      "7 x 6 = 42\n",
      "7 x 7 = 49\n",
      "7 x 8 = 56\n",
      "7 x 9 = 63\n",
      "7 x 10 = 70\n"
     ]
    }
   ],
   "source": [
    "number = int(input(\"Enter a number: \"))\n",
    "table_range = 10\n",
    "print(f\"Multiplication table for {number}:\")\n",
    "\n",
    "for i in range(1, table_range + 1):\n",
    "    result = number * i\n",
    "    print(f\"{number} x {i} = {result}\")\n"
   ]
  },
  {
   "cell_type": "markdown",
   "id": "56ade1ef",
   "metadata": {},
   "source": [
    "# 7.Write a Python program to sum the first 10 prime numbers."
   ]
  },
  {
   "cell_type": "code",
   "execution_count": 52,
   "id": "d71307a6",
   "metadata": {},
   "outputs": [
    {
     "name": "stdout",
     "output_type": "stream",
     "text": [
      "Sum of the first 10 prime numbers: 129\n"
     ]
    }
   ],
   "source": [
    "def is_prime(num):\n",
    "    if num <= 1:\n",
    "        return False\n",
    "    if num <= 3:\n",
    "        return True\n",
    "    if num % 2 == 0 or num % 3 == 0:\n",
    "        return False\n",
    "    i = 5\n",
    "    while i * i <= num:\n",
    "        if num % i == 0 or num % (i + 2) == 0:\n",
    "            return False\n",
    "        i += 6\n",
    "    return True\n",
    "\n",
    "def sum_first_10_primes():\n",
    "    prime_count = 0\n",
    "    num = 2\n",
    "    prime_sum = 0\n",
    "\n",
    "    while prime_count < 10:\n",
    "        if is_prime(num):\n",
    "            prime_sum += num\n",
    "            prime_count += 1\n",
    "        num += 1\n",
    "\n",
    "    return prime_sum\n",
    "\n",
    "result = sum_first_10_primes()\n",
    "print(\"Sum of the first 10 prime numbers:\", result)\n"
   ]
  },
  {
   "cell_type": "markdown",
   "id": "c8c70f12",
   "metadata": {},
   "source": [
    "# 8.Write a python program to implement arithmetic operations using nested if statement"
   ]
  },
  {
   "cell_type": "code",
   "execution_count": 53,
   "id": "bebae9bf",
   "metadata": {},
   "outputs": [
    {
     "name": "stdout",
     "output_type": "stream",
     "text": [
      "Enter the first number: 678.90\n",
      "Enter the second number: 56.8932\n",
      "Enter the operation (+, -, *, /): *\n",
      "Result: 38624.79348\n"
     ]
    }
   ],
   "source": [
    "num1 = float(input(\"Enter the first number: \"))\n",
    "num2 = float(input(\"Enter the second number: \"))\n",
    "operation = input(\"Enter the operation (+, -, *, /): \")\n",
    "if operation == \"+\":\n",
    "    result = num1 + num2\n",
    "elif operation == \"-\":\n",
    "    result = num1 - num2\n",
    "elif operation == \"*\":\n",
    "    result = num1 * num2\n",
    "elif operation == \"/\":\n",
    "    if num2 == 0:\n",
    "        print(\"Error: Division by zero is not allowed.\")\n",
    "    else:\n",
    "        result = num1 / num2\n",
    "else:\n",
    "    print(\"Invalid operation\")\n",
    "\n",
    "if operation in (\"+\", \"-\", \"*\", \"/\"):\n",
    "    print(\"Result:\", result)\n"
   ]
  },
  {
   "cell_type": "markdown",
   "id": "5810ba88",
   "metadata": {},
   "source": [
    "# 9.Write a python program to take the temperature in Celsius and convert it to a Fahrenheit."
   ]
  },
  {
   "cell_type": "code",
   "execution_count": 54,
   "id": "297043a4",
   "metadata": {},
   "outputs": [
    {
     "name": "stdout",
     "output_type": "stream",
     "text": [
      "Enter temperature in Celsius: 45\n",
      "45.0 degrees Celsius is equal to 113.0 degrees Fahrenheit.\n"
     ]
    }
   ],
   "source": [
    "celsius = float(input(\"Enter temperature in Celsius: \"))\n",
    "fahrenheit = (celsius * 9/5) + 32\n",
    "print(f\"{celsius} degrees Celsius is equal to {fahrenheit} degrees Fahrenheit.\")\n"
   ]
  },
  {
   "cell_type": "markdown",
   "id": "b73d9d3f",
   "metadata": {},
   "source": [
    "# 10.Write a python program to find a maximum and minimum number in a list without using an inbuilt function"
   ]
  },
  {
   "cell_type": "code",
   "execution_count": 55,
   "id": "fe1a6e22",
   "metadata": {},
   "outputs": [
    {
     "name": "stdout",
     "output_type": "stream",
     "text": [
      "Maximum value: 9\n",
      "Minimum value: 1\n"
     ]
    }
   ],
   "source": [
    "def find_max_min(numbers):\n",
    "    if not numbers:\n",
    "        return None, None\n",
    "    max_num = numbers[0]\n",
    "    min_num = numbers[0]\n",
    "    for num in numbers:\n",
    "        if num > max_num:\n",
    "            max_num = num\n",
    "        if num < min_num:\n",
    "            min_num = num\n",
    "\n",
    "    return max_num, min_num\n",
    "\n",
    "numbers = [3, 1, 4, 1, 5, 9, 2, 6, 5, 3, 5]\n",
    "max_value, min_value = find_max_min(numbers)\n",
    "\n",
    "if max_value is not None and min_value is not None:\n",
    "    print(\"Maximum value:\", max_value)\n",
    "    print(\"Minimum value:\", min_value)\n",
    "else:\n",
    "    print(\"The list is empty.\")\n",
    "\n",
    "    "
   ]
  },
  {
   "cell_type": "markdown",
   "id": "d3ed07de",
   "metadata": {},
   "source": [
    "# 11.Write a program in python to print out the number of seconds in 30-day month 30 days, 24 hoursin a day, 60 minutes per day, 60 seconds in a minute."
   ]
  },
  {
   "cell_type": "code",
   "execution_count": 56,
   "id": "d6515ea2",
   "metadata": {},
   "outputs": [
    {
     "name": "stdout",
     "output_type": "stream",
     "text": [
      "There are 2592000 seconds in a 30-day month.\n"
     ]
    }
   ],
   "source": [
    "days = 30\n",
    "hours_per_day = 24\n",
    "minutes_per_hour = 60\n",
    "seconds_per_minute = 60\n",
    "total_seconds = days * hours_per_day * minutes_per_hour * seconds_per_minute\n",
    "print(f\"There are {total_seconds} seconds in a {days}-day month.\")\n"
   ]
  },
  {
   "cell_type": "markdown",
   "id": "63851ab5",
   "metadata": {},
   "source": [
    "# 12.Write a program in python to print out the number of seconds in a year."
   ]
  },
  {
   "cell_type": "code",
   "execution_count": 57,
   "id": "fcc0e4cd",
   "metadata": {},
   "outputs": [
    {
     "name": "stdout",
     "output_type": "stream",
     "text": [
      "There are 31536000 seconds in a year (without considering leap years).\n",
      "There are 15638400 seconds in a year (considering leap years).\n"
     ]
    }
   ],
   "source": [
    "seconds_per_minute = 60\n",
    "minutes_per_hour = 60\n",
    "hours_per_day = 24\n",
    "days_per_year = 365\n",
    "seconds_per_day = seconds_per_minute * minutes_per_hour * hours_per_day\n",
    "total_seconds = days_per_year * seconds_per_day\n",
    "print(f\"There are {total_seconds} seconds in a year (without considering leap years).\")\n",
    "leap_year_seconds = 86_400  # 86,400 seconds in a leap year\n",
    "total_seconds_leap_year = (days_per_year // 4) * leap_year_seconds + (days_per_year // 4 - 1) * leap_year_seconds\n",
    "print(f\"There are {total_seconds_leap_year} seconds in a year (considering leap years).\")\n"
   ]
  },
  {
   "cell_type": "markdown",
   "id": "c375c606",
   "metadata": {},
   "source": [
    "# 13.A high-speed train can travel at an average speed of 150 mph, how long will it take a traintravelling at this speed to travel from London to Glasgow which is 414 miles away?"
   ]
  },
  {
   "cell_type": "code",
   "execution_count": 58,
   "id": "a2522800",
   "metadata": {},
   "outputs": [
    {
     "name": "stdout",
     "output_type": "stream",
     "text": [
      "It will take approximately 165.60 minutes for the train to travel from London to Glasgow.\n"
     ]
    }
   ],
   "source": [
    "distance = 414  # miles\n",
    "speed = 150     # mph\n",
    "time_hours = distance / speed\n",
    "time_minutes = time_hours * 60\n",
    "print(f\"It will take approximately {time_minutes:.2f} minutes for the train to travel from London to Glasgow.\")\n"
   ]
  },
  {
   "cell_type": "markdown",
   "id": "409b1286",
   "metadata": {},
   "source": [
    "# 14.Write a python program that defines a variable called days_in_each_school_year and assign 192 to the variable. The program should then print out the total hours that you spend in school from year 7 to year 11, if each day you spend 6 hours in school days_in_each_school_year = 192"
   ]
  },
  {
   "cell_type": "code",
   "execution_count": 59,
   "id": "2e9f9b81",
   "metadata": {},
   "outputs": [
    {
     "name": "stdout",
     "output_type": "stream",
     "text": [
      "Total hours spent in school from year 7 to year 11: 51840 hours\n"
     ]
    }
   ],
   "source": [
    "days_in_each_school_year = 192\n",
    "school_years = range(7, 12)\n",
    "total_hours = 0\n",
    "for year in school_years:\n",
    "    total_hours += year * days_in_each_school_year * 6\n",
    "print(f\"Total hours spent in school from year 7 to year 11: {total_hours} hours\")\n"
   ]
  },
  {
   "cell_type": "markdown",
   "id": "0788f49b",
   "metadata": {},
   "source": [
    "# 15.If the age of Ram,Sam and Khan are input through the keyboard,write a python program todetermine the eldest and youngest of the three."
   ]
  },
  {
   "cell_type": "code",
   "execution_count": 60,
   "id": "ec466c5b",
   "metadata": {},
   "outputs": [
    {
     "name": "stdout",
     "output_type": "stream",
     "text": [
      "Enter Ram's age: 45\n",
      "Enter Sam's age: 76\n",
      "Enter Khan's age: 34\n",
      "The eldest among Ram, Sam, and Khan is: Sam\n",
      "The youngest among Ram, Sam, and Khan is: Khan\n"
     ]
    }
   ],
   "source": [
    "ram_age = int(input(\"Enter Ram's age: \"))\n",
    "sam_age = int(input(\"Enter Sam's age: \"))\n",
    "khan_age = int(input(\"Enter Khan's age: \"))\n",
    "if ram_age >= sam_age and ram_age >= khan_age:\n",
    "    eldest = \"Ram\"\n",
    "elif sam_age >= ram_age and sam_age >= khan_age:\n",
    "    eldest = \"Sam\"\n",
    "else:\n",
    "    eldest = \"Khan\"\n",
    "\n",
    "if ram_age <= sam_age and ram_age <= khan_age:\n",
    "    youngest = \"Ram\"\n",
    "elif sam_age <= ram_age and sam_age <= khan_age:\n",
    "    youngest = \"Sam\"\n",
    "else:\n",
    "    youngest = \"Khan\"\n",
    "print(f\"The eldest among Ram, Sam, and Khan is: {eldest}\")\n",
    "print(f\"The youngest among Ram, Sam, and Khan is: {youngest}\")\n"
   ]
  },
  {
   "cell_type": "markdown",
   "id": "5e1b424c",
   "metadata": {},
   "source": [
    "# 16.Write a python program to rotate a list by right in times with and without slicing technique"
   ]
  },
  {
   "cell_type": "code",
   "execution_count": 61,
   "id": "84a7fd39",
   "metadata": {},
   "outputs": [
    {
     "name": "stdout",
     "output_type": "stream",
     "text": [
      "Rotated list using slicing: [4, 5, 1, 2, 3]\n",
      "Rotated list without slicing: [4, 5, 1, 2, 3]\n"
     ]
    }
   ],
   "source": [
    "def rotate_list_right_with_slicing(input_list, n):\n",
    "    # Check if the list is empty or n is non-positive\n",
    "    if not input_list or n <= 0:\n",
    "        return input_list\n",
    "    \n",
    "    n = n % len(input_list)  # Ensure n is within the length of the list\n",
    "    rotated_list = input_list[-n:] + input_list[:-n]\n",
    "    return rotated_list\n",
    "\n",
    "def rotate_list_right_without_slicing(input_list, n):\n",
    "    # Check if the list is empty or n is non-positive\n",
    "    if not input_list or n <= 0:\n",
    "        return input_list\n",
    "    \n",
    "    n = n % len(input_list)  \n",
    "    rotated_list = [0] * len(input_list)\n",
    "    \n",
    "    for i in range(len(input_list)):\n",
    "        rotated_list[(i + n) % len(input_list)] = input_list[i]\n",
    "    \n",
    "    return rotated_list\n",
    "my_list = [1, 2, 3, 4, 5]\n",
    "n = 2\n",
    "rotated_list_slicing = rotate_list_right_with_slicing(my_list, n)\n",
    "print(\"Rotated list using slicing:\", rotated_list_slicing)\n",
    "rotated_list_no_slicing = rotate_list_right_without_slicing(my_list, n)\n",
    "print(\"Rotated list without slicing:\", rotated_list_no_slicing)\n"
   ]
  },
  {
   "cell_type": "markdown",
   "id": "8a1e35b9",
   "metadata": {},
   "source": [
    "# 17.Python program to print the patterns given below:\n",
    "    \n",
    "1\n",
    "11\n",
    "\n",
    "121\n",
    "\n",
    "1331\n",
    "\n",
    "14641\n",
    "\n",
    "15101051\n",
    "\n",
    "1615201561"
   ]
  },
  {
   "cell_type": "code",
   "execution_count": 69,
   "id": "69858ebf",
   "metadata": {},
   "outputs": [
    {
     "name": "stdout",
     "output_type": "stream",
     "text": [
      "1\n",
      "1 1\n",
      "1 2 1\n",
      "1 3 3 1\n",
      "1 4 6 4 1\n",
      "1 5 10 10 5 1\n",
      "1 6 15 20 15 6 1\n"
     ]
    }
   ],
   "source": [
    "def generate_pascals_triangle(n):\n",
    "    triangle = []\n",
    "    for i in range(n):\n",
    "        row = [1] \n",
    "        \n",
    "        if triangle:\n",
    "            last_row = triangle[-1]\n",
    "            row.extend([last_row[j - 1] + last_row[j] for j in range(1, i)])\n",
    "            row.append(1)  \n",
    "        triangle.append(row)\n",
    "    return triangle\n",
    "n = 7 \n",
    "pascals_triangle = generate_pascals_triangle(n)\n",
    "for row in pascals_triangle:\n",
    "    print(\" \".join(map(str, row)))\n"
   ]
  },
  {
   "cell_type": "code",
   "execution_count": null,
   "id": "4c65e535",
   "metadata": {},
   "outputs": [],
   "source": [
    "     * \n",
    "    * * \n",
    "   * * * \n",
    "  * * * * \n",
    " * * * * * \n",
    "* * * * * * *         "
   ]
  },
  {
   "cell_type": "code",
   "execution_count": 67,
   "id": "33cfd727",
   "metadata": {},
   "outputs": [
    {
     "name": "stdout",
     "output_type": "stream",
     "text": [
      "     * \n",
      "    * * \n",
      "   * * * \n",
      "  * * * * \n",
      " * * * * * \n",
      "* * * * * * \n"
     ]
    }
   ],
   "source": [
    "n = 6  # Change this value to adjust the number of rows in the pyramid\n",
    "\n",
    "for i in range(1, n + 1):\n",
    "    # Print spaces before the asterisks\n",
    "    print(\" \" * (n - i), end=\"\")\n",
    "    \n",
    "    # Print asterisks for this row\n",
    "    print(\"* \" * i)\n"
   ]
  },
  {
   "cell_type": "code",
   "execution_count": null,
   "id": "21a85b22",
   "metadata": {},
   "outputs": [],
   "source": [
    "*         \n",
    "* *       \n",
    "* * *     \n",
    "* * * *   \n",
    "* * * * *"
   ]
  },
  {
   "cell_type": "code",
   "execution_count": 37,
   "id": "53e705f4",
   "metadata": {},
   "outputs": [
    {
     "name": "stdout",
     "output_type": "stream",
     "text": [
      "*         \n",
      "* *       \n",
      "* * *     \n",
      "* * * *   \n",
      "* * * * * \n"
     ]
    }
   ],
   "source": [
    "def star():\n",
    "    for i in range(0, 5):\n",
    "        for j in range(0, 5):\n",
    "            if i >= j:\n",
    "                print(\"*\", end=\" \")\n",
    "            else:\n",
    "                print(\" \", end=\" \")\n",
    "        print()\n",
    "\n",
    "star()\n"
   ]
  },
  {
   "cell_type": "code",
   "execution_count": null,
   "id": "364db01f",
   "metadata": {},
   "outputs": [],
   "source": [
    "P\n",
    "Py\n",
    "Pyt\n",
    "Pyth\n",
    "Pytho\n",
    "Python"
   ]
  },
  {
   "cell_type": "code",
   "execution_count": 65,
   "id": "38ae23ba",
   "metadata": {},
   "outputs": [
    {
     "name": "stdout",
     "output_type": "stream",
     "text": [
      "p\n",
      "py\n",
      "pyt\n",
      "pyth\n",
      "pytho\n",
      "python\n"
     ]
    }
   ],
   "source": [
    "word = \"python\"\n",
    "\n",
    "for i in range(1, len(word) + 1):\n",
    "    print(word[:i])\n"
   ]
  }
 ],
 "metadata": {
  "kernelspec": {
   "display_name": "Python 3 (ipykernel)",
   "language": "python",
   "name": "python3"
  },
  "language_info": {
   "codemirror_mode": {
    "name": "ipython",
    "version": 3
   },
   "file_extension": ".py",
   "mimetype": "text/x-python",
   "name": "python",
   "nbconvert_exporter": "python",
   "pygments_lexer": "ipython3",
   "version": "3.11.4"
  }
 },
 "nbformat": 4,
 "nbformat_minor": 5
}
