{
 "cells": [
  {
   "cell_type": "markdown",
   "id": "78650e3d",
   "metadata": {},
   "source": [
    "# 1. write a python function to list even and odd numbers in a list"
   ]
  },
  {
   "cell_type": "code",
   "execution_count": 4,
   "id": "dd37dd30",
   "metadata": {},
   "outputs": [
    {
     "name": "stdout",
     "output_type": "stream",
     "text": [
      "Even numbers: [54, 16, 72]\n",
      "Odd numbers: [91, 27, 33, 45, 81, 69]\n"
     ]
    }
   ],
   "source": [
    "def even_odd_separator(input_list):\n",
    "    even_numbers = []\n",
    "    odd_numbers = []\n",
    "    for number in input_list:\n",
    "        if number % 2 == 0:\n",
    "            even_numbers.append(number)\n",
    "        else:\n",
    "            odd_numbers.append(number)\n",
    "\n",
    "    return even_numbers, odd_numbers\n",
    "my_list = [91, 27, 33, 45, 54, 16, 72, 81, 69]\n",
    "even_num, odd_num = even_odd_separator(my_list)\n",
    "\n",
    "print(\"Even numbers:\", even_num)\n",
    "print(\"Odd numbers:\", odd_num3)\n"
   ]
  },
  {
   "cell_type": "markdown",
   "id": "c40f6be9",
   "metadata": {},
   "source": [
    "# 2.Write and run a Python program that asks the user to enter 8 integers (one at a time), and then prints out how many of those integers were even numbers. For example, if the user entered 19, 6,9, 20, 13, 7, 6, and 1, then your program should print out 3 since 3 of those numbers were even"
   ]
  },
  {
   "cell_type": "code",
   "execution_count": 1,
   "id": "10172144",
   "metadata": {},
   "outputs": [
    {
     "name": "stdout",
     "output_type": "stream",
     "text": [
      "Enter integer 1: 345\n",
      "Enter integer 2: 56\n",
      "Enter integer 3: 78\n",
      "Enter integer 4: 89\n",
      "Enter integer 5: 2\n",
      "Enter integer 6: 45\n",
      "Enter integer 7: 987\n",
      "Enter integer 8: 453\n",
      "The number of even integers entered is: 3\n"
     ]
    }
   ],
   "source": [
    "even_count = 0\n",
    "for i in range(8):\n",
    "    user_input = int(input(f\"Enter integer {i + 1}: \"))\n",
    "    if user_input % 2 == 0:\n",
    "        even_count += 1\n",
    "print(f\"The number of even integers entered is: {even_count}\")\n"
   ]
  },
  {
   "cell_type": "markdown",
   "id": "034f25ef",
   "metadata": {},
   "source": [
    "# 3.Write a Python program where you take any positive integer n, if n is even, divide it by 2 to get n/2. If n is odd, multiply it by 3 and add 1 to obtain 3n+1. Repeat the process until you reach 1."
   ]
  },
  {
   "cell_type": "code",
   "execution_count": 6,
   "id": "fb862cca",
   "metadata": {},
   "outputs": [
    {
     "name": "stdout",
     "output_type": "stream",
     "text": [
      "Enter a positive integer: 8\n",
      "Collatz sequence:\n",
      "4\n",
      "2\n",
      "1\n"
     ]
    }
   ],
   "source": [
    "def collatz_sequence(n):\n",
    "    while n != 1:\n",
    "        if n % 2 == 0:\n",
    "            n = n // 2\n",
    "        else:\n",
    "            n = 3 * n + 1\n",
    "        print(n)\n",
    "n = int(input(\"Enter a positive integer: \"))\n",
    "while n <= 0:\n",
    "    print(\"Please enter a positive integer.\")\n",
    "    n = int(input(\"Enter a positive integer: \"))\n",
    "print(\"Collatz sequence:\")\n",
    "collatz_sequence(n)\n"
   ]
  },
  {
   "cell_type": "markdown",
   "id": "a6bd3d7e",
   "metadata": {},
   "source": [
    "# 4.sum of all multiples of 3 or 5 below 200"
   ]
  },
  {
   "cell_type": "code",
   "execution_count": 7,
   "id": "f9edbced",
   "metadata": {},
   "outputs": [
    {
     "name": "stdout",
     "output_type": "stream",
     "text": [
      "The sum of all multiples of 3 and 5 below 500 is: 57918\n"
     ]
    }
   ],
   "source": [
    "total_sum = 0\n",
    "\n",
    "for number in range(1, 500):\n",
    "    if number % 3 == 0 or number % 5 == 0:\n",
    "        total_sum += number\n",
    "\n",
    "print(\"The sum of all multiples of 3 and 5 below 500 is:\", total_sum)\n"
   ]
  },
  {
   "cell_type": "markdown",
   "id": "80ab105d",
   "metadata": {},
   "source": [
    "# 5.find first n prime numbers from a list of gvien numbers"
   ]
  },
  {
   "cell_type": "code",
   "execution_count": 11,
   "id": "7001cf81",
   "metadata": {},
   "outputs": [
    {
     "name": "stdout",
     "output_type": "stream",
     "text": [
      "[13, 7, 67, 17, 67]\n"
     ]
    }
   ],
   "source": [
    "def is_prime(num):\n",
    "    if num <= 1:\n",
    "        return False\n",
    "    for i in range(2, int(num**0.5) + 1):\n",
    "        if num % i == 0:\n",
    "            return False\n",
    "    return True\n",
    "def prime_separator(input_list):\n",
    "    prime = []\n",
    "    for a in input_list:\n",
    "        if is_prime(a):\n",
    "            prime.append(a)\n",
    "    return prime\n",
    "my_list = [13, 7, 67, 98, 12, 17, 67, 52]\n",
    "prime_result = prime_separator(my_list)\n",
    "print(prime_result)"
   ]
  },
  {
   "cell_type": "markdown",
   "id": "d074631e",
   "metadata": {},
   "source": [
    "# 6.To write a Python program to compute matrix multiplication."
   ]
  },
  {
   "cell_type": "code",
   "execution_count": 11,
   "id": "3575cc89",
   "metadata": {},
   "outputs": [
    {
     "name": "stdout",
     "output_type": "stream",
     "text": [
      "[19, 22]\n",
      "[43, 50]\n"
     ]
    }
   ],
   "source": [
    "def matrix_multiplication(mat1, mat2):\n",
    "    if len(mat1[0]) != len(mat2):\n",
    "        raise ValueError(\"Number of columns in the first matrix must be equal to the number of rows in the second matrix\")\n",
    "    result = [[0 for _ in range(len(mat2[0]))] for _ in range(len(mat1))]\n",
    "    for i in range(len(mat1)):\n",
    "        for j in range(len(mat2[0])):\n",
    "            for k in range(len(mat2)):\n",
    "                result[i][j] += mat1[i][k] * mat2[k][j]\n",
    "    return result\n",
    "matrix1 = [\n",
    "    [1, 2],\n",
    "    [3, 4],\n",
    "]\n",
    "\n",
    "matrix2 = [\n",
    "    [5, 6],\n",
    "    [7, 8],\n",
    "]\n",
    "result_matrix = matrix_multiplication(matrix1, matrix2)\n",
    "for row in result_matrix:\n",
    "    print(row)\n"
   ]
  },
  {
   "cell_type": "markdown",
   "id": "a39384a3",
   "metadata": {},
   "source": [
    "# 7.python function count the number of vowels in a string"
   ]
  },
  {
   "cell_type": "code",
   "execution_count": 15,
   "id": "24e20c50",
   "metadata": {},
   "outputs": [
    {
     "name": "stdout",
     "output_type": "stream",
     "text": [
      "Number of vowels: 8\n"
     ]
    }
   ],
   "source": [
    "def count_vowels(string):\n",
    "    vowels = set(\"AEIOUaeiou\")\n",
    "    vowel_count = 0\n",
    "    for char in string:\n",
    "        if char in vowels:\n",
    "            vowel_count += 1\n",
    "    return vowel_count\n",
    "input_string = \"mpHasis in aiMl Training\"\n",
    "result = count_vowels(input_string)\n",
    "print(\"Number of vowels:\", result)\n"
   ]
  },
  {
   "cell_type": "markdown",
   "id": "fb7ce0cf",
   "metadata": {},
   "source": [
    "# 8.finding factorial for the given number using a recursive function"
   ]
  },
  {
   "cell_type": "code",
   "execution_count": 13,
   "id": "54fa8997",
   "metadata": {},
   "outputs": [
    {
     "name": "stdout",
     "output_type": "stream",
     "text": [
      "The factorial of 7 is 5040\n"
     ]
    }
   ],
   "source": [
    "def factorial(n):\n",
    "    if n == 0:\n",
    "        return 1\n",
    "    else:\n",
    "        return n * factorial(n - 1)\n",
    "number = 7  \n",
    "result = factorial(number)\n",
    "print(f\"The factorial of {number} is {result}\")\n"
   ]
  },
  {
   "cell_type": "markdown",
   "id": "e72c71e4",
   "metadata": {},
   "source": [
    "# 9.for generating the fibonacci series using the function"
   ]
  },
  {
   "cell_type": "code",
   "execution_count": 22,
   "id": "b44b2ee3",
   "metadata": {},
   "outputs": [
    {
     "name": "stdout",
     "output_type": "stream",
     "text": [
      "[0, 1, 1, 2, 3, 5, 8, 13, 21, 34]\n"
     ]
    }
   ],
   "source": [
    "def generate_fibonacci(n):\n",
    "    fibonacci_series = []\n",
    "    a, b = 0, 1\n",
    "    for _ in range(n):\n",
    "        fibonacci_series.append(a)\n",
    "        a, b = b, a + b\n",
    "    return fibonacci_series\n",
    "num_terms = 10  \n",
    "result = generate_fibonacci(num_terms)\n",
    "print(result)"
   ]
  },
  {
   "cell_type": "markdown",
   "id": "c0ce5c96",
   "metadata": {},
   "source": [
    "# 10.python program to display the given integers in reverse order using the function without inbuilt function"
   ]
  },
  {
   "cell_type": "code",
   "execution_count": 27,
   "id": "fc0155dd",
   "metadata": {},
   "outputs": [
    {
     "name": "stdout",
     "output_type": "stream",
     "text": [
      "Enter an integer: 3456789\n",
      "The integer in reverse order is: 9876543\n"
     ]
    }
   ],
   "source": [
    "def reverse_integer(n):\n",
    "    if n < 10:\n",
    "        return str(n)\n",
    "    else:\n",
    "        last_digit = n % 10\n",
    "        remaining_digits = n // 10\n",
    "        return str(last_digit) + reverse_integer(remaining_digits)\n",
    "number = int(input(\"Enter an integer: \"))\n",
    "reversed_number = reverse_integer(number)\n",
    "print(\"The integer in reverse order is:\", reversed_number)\n"
   ]
  },
  {
   "cell_type": "markdown",
   "id": "d5e6a98b",
   "metadata": {},
   "source": [
    "# 11. python function to display all integers within the range 200-300 without in a inbuilt evennumber "
   ]
  },
  {
   "cell_type": "code",
   "execution_count": 36,
   "id": "c53a43cf",
   "metadata": {},
   "outputs": [
    {
     "name": "stdout",
     "output_type": "stream",
     "text": [
      "Integers in the range {start_range}-{end_range} with an even digit sum:\n",
      "200\n",
      "202\n",
      "204\n",
      "206\n",
      "208\n",
      "211\n",
      "213\n",
      "215\n",
      "217\n",
      "219\n",
      "220\n",
      "222\n",
      "224\n",
      "226\n",
      "228\n",
      "231\n",
      "233\n",
      "235\n",
      "237\n",
      "239\n",
      "240\n",
      "242\n",
      "244\n",
      "246\n",
      "248\n",
      "251\n",
      "253\n",
      "255\n",
      "257\n",
      "259\n",
      "260\n",
      "262\n",
      "264\n",
      "266\n",
      "268\n",
      "271\n",
      "273\n",
      "275\n",
      "277\n",
      "279\n",
      "280\n",
      "282\n",
      "284\n",
      "286\n",
      "288\n",
      "291\n",
      "293\n",
      "295\n",
      "297\n",
      "299\n"
     ]
    }
   ],
   "source": [
    "def is_even_digit_sum(n):\n",
    "    digit_sum = sum(int(digit) for digit in str(n))\n",
    "    return digit_sum % 2 == 0\n",
    "\n",
    "def find_integers_with_even_digit_sum(start, end):\n",
    "    for num in range(start, end + 1):\n",
    "        if is_even_digit_sum(num):\n",
    "            print(num)\n",
    "start_range = 200\n",
    "end_range = 300\n",
    "print(f\"Integers in the range {start_range}-{end_range} with an even digit sum:\")\n",
    "find_integers_with_even_digit_sum(start_range, end_range)\n"
   ]
  },
  {
   "cell_type": "markdown",
   "id": "8b1683f4",
   "metadata": {},
   "source": [
    "# 12.find the number of digits and sum of digit for a integer"
   ]
  },
  {
   "cell_type": "code",
   "execution_count": 33,
   "id": "a3f0c904",
   "metadata": {},
   "outputs": [
    {
     "name": "stdout",
     "output_type": "stream",
     "text": [
      "Enter an integer: 23\n",
      "Number of digits: 2\n",
      "Sum of digits: 5\n"
     ]
    }
   ],
   "source": [
    "def count_digits_and_sum(n):\n",
    "    digit_count = 0\n",
    "    digit_sum = 0\n",
    "    n = abs(n)\n",
    "    while n > 0:\n",
    "        digit = n % 10\n",
    "        digit_count += 1\n",
    "        digit_sum += digit\n",
    "        n //= 10\n",
    "    \n",
    "    return digit_count, digit_sum\n",
    "number = int(input(\"Enter an integer: \"))\n",
    "count, sum_of_digits = count_digits_and_sum(number)\n",
    "print(f\"Number of digits: {count}\")\n",
    "print(f\"Sum of digits: {sum_of_digits}\")\n"
   ]
  },
  {
   "cell_type": "code",
   "execution_count": 35,
   "id": "b8121354",
   "metadata": {},
   "outputs": [
    {
     "name": "stdout",
     "output_type": "stream",
     "text": [
      "Enter an integer: 45678\n",
      "Number of digits: 5\n"
     ]
    }
   ],
   "source": [
    "def count_digits_and_sum(n):\n",
    "    digit_count = 0\n",
    "    n = abs(n)\n",
    "    while n > 0:\n",
    "        digit_count += 1\n",
    "        n //= 10\n",
    "    \n",
    "    return digit_count\n",
    "\n",
    "# Input the integer\n",
    "number = int(input(\"Enter an integer: \"))\n",
    "count= count_digits_and_sum(number)\n",
    "print(f\"Number of digits: {count}\")\n",
    "\n"
   ]
  },
  {
   "cell_type": "markdown",
   "id": "fb3c7e91",
   "metadata": {},
   "source": [
    "# 13.Write functions called is sotted that takes a list as a meter and returns True if the int is sortedin ascending order and False otherwise and has duplicates that takes a list and returns True there is any element that appears more than once it should not modify the original list"
   ]
  },
  {
   "cell_type": "code",
   "execution_count": 19,
   "id": "4ed902ec",
   "metadata": {},
   "outputs": [
    {
     "name": "stdout",
     "output_type": "stream",
     "text": [
      "Is my_sorted_list sorted in ascending order? True\n",
      "Is my_unsorted_list sorted in ascending order? False\n",
      "Does my_list_with_duplicates have duplicates? True\n"
     ]
    }
   ],
   "source": [
    "def is_sorted(lst):\n",
    "    return all(lst[i] <= lst[i+1] for i in range(len(lst)-1))\n",
    "def has_duplicates(lst):\n",
    "    seen = set()\n",
    "    for item in lst:\n",
    "        if item in seen:\n",
    "            return True\n",
    "        seen.add(item)\n",
    "    return False\n",
    "my_sorted_list = [1, 2, 3, 4, 5]\n",
    "my_unsorted_list = [5, 2, 1, 4, 3]\n",
    "my_list_with_duplicates = [1, 2, 2, 3, 4]\n",
    "result_sorted = is_sorted(my_sorted_list)\n",
    "result_unsorted = is_sorted(my_unsorted_list)\n",
    "result_duplicates = has_duplicates(my_list_with_duplicates)\n",
    "print(f\"Is my_sorted_list sorted in ascending order? {result_sorted}\")\n",
    "print(f\"Is my_unsorted_list sorted in ascending order? {result_unsorted}\")\n",
    "print(f\"Does my_list_with_duplicates have duplicates? {result_duplicates}\")\n",
    "\n"
   ]
  },
  {
   "cell_type": "markdown",
   "id": "75186fc6",
   "metadata": {},
   "source": [
    "# 14.Write functions called nested_sum that takes a list of integers and adds up the elements from all the nested lists and cumsum that takes a list of numbers and returns the cumulative sum; that is, a new list where the i\" element is the sum of the first i+1 elements from the original list."
   ]
  },
  {
   "cell_type": "code",
   "execution_count": 20,
   "id": "4896db1e",
   "metadata": {},
   "outputs": [
    {
     "name": "stdout",
     "output_type": "stream",
     "text": [
      "Nested Sum: 45\n",
      "Cumulative Sum: [1, 3, 6, 10, 15]\n"
     ]
    }
   ],
   "source": [
    "def nested_sum(lst):\n",
    "    total = 0\n",
    "    for item in lst:\n",
    "        if isinstance(item, list):\n",
    "            total += nested_sum(item)\n",
    "        else:\n",
    "            total += item\n",
    "    return total\n",
    "\n",
    "def cumsum(lst):\n",
    "    cumulative_sum = 0\n",
    "    cumulative_list = []\n",
    "    for num in lst:\n",
    "        cumulative_sum += num\n",
    "        cumulative_list.append(cumulative_sum)\n",
    "    return cumulative_list\n",
    "nested_list = [1, 2, [3, 4, [5, 6]], 7, [8, 9]]\n",
    "result_nested_sum = nested_sum(nested_list)\n",
    "print(\"Nested Sum:\", result_nested_sum)\n",
    "\n",
    "original_list = [1, 2, 3, 4, 5]\n",
    "result_cumsum = cumsum(original_list)\n",
    "print(\"Cumulative Sum:\", result_cumsum)\n"
   ]
  }
 ],
 "metadata": {
  "kernelspec": {
   "display_name": "Python 3 (ipykernel)",
   "language": "python",
   "name": "python3"
  },
  "language_info": {
   "codemirror_mode": {
    "name": "ipython",
    "version": 3
   },
   "file_extension": ".py",
   "mimetype": "text/x-python",
   "name": "python",
   "nbconvert_exporter": "python",
   "pygments_lexer": "ipython3",
   "version": "3.11.4"
  }
 },
 "nbformat": 4,
 "nbformat_minor": 5
}
