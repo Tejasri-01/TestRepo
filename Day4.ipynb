{
 "cells": [
  {
   "cell_type": "markdown",
   "id": "c09eeb58",
   "metadata": {},
   "source": [
    "# 1.Write a python program with Exception handling to Input marks for five subjects Physics,Chemistry, Biology, Mathematics, and Computer. Calculate the percentage and grade according to the following\n",
    "\n",
    "Percentage >90%ade A\n",
    "\n",
    "Percentage >= 80%: Grade B\n",
    "\n",
    "Percentage > 70%: Grade C\n",
    "\n",
    "Percentage > 60%: Grade D\n",
    "\n",
    "Percentage > 40% Grade E\n",
    "\n",
    "Percentage < 40%: Grade F"
   ]
  },
  {
   "cell_type": "code",
   "execution_count": 9,
   "id": "58f7799a",
   "metadata": {},
   "outputs": [
    {
     "name": "stdout",
     "output_type": "stream",
     "text": [
      "Enter Physics marks: 45\n",
      "Enter Chemistry marks: 35\n",
      "Enter Biology marks: 67\n",
      "Enter Mathematics marks: 89\n",
      "Enter Computer marks: 98\n",
      "Total Marks: 334.0\n",
      "Percentage: 66.80%\n",
      "Grade: D\n"
     ]
    }
   ],
   "source": [
    "   try:\n",
    "    physics = float(input(\"Enter Physics marks: \"))\n",
    "    chemistry = float(input(\"Enter Chemistry marks: \"))\n",
    "    biology = float(input(\"Enter Biology marks: \"))\n",
    "    mathematics = float(input(\"Enter Mathematics marks: \"))\n",
    "    computer = float(input(\"Enter Computer marks: \"))\n",
    "    total_marks = physics + chemistry + biology + mathematics + computer\n",
    "    percentage = (total_marks / 500) * 100\n",
    "    if percentage > 90:\n",
    "        grade = \"A\"\n",
    "    elif percentage >= 80:\n",
    "        grade = \"B\"\n",
    "    elif percentage > 70:\n",
    "        grade = \"C\"\n",
    "    elif percentage > 60:\n",
    "        grade = \"D\"\n",
    "    elif percentage > 40:\n",
    "        grade = \"E\"\n",
    "    else:\n",
    "        grade = \"F\"\n",
    "\n",
    "    print(f\"Total Marks: {total_marks}\")\n",
    "    print(f\"Percentage: {percentage:.2f}%\")\n",
    "    print(f\"Grade: {grade}\")\n",
    "\n",
    "#except ValueError:\n",
    "    #print(\"Invalid input! Please enter numeric values for marks.\")\n",
    "#except KeyboardInterrupt:\n",
    "    #print(\"\\nProgram terminated by user.\")\n",
    "except Exception as e:\n",
    "    print(f\"An error occurred: {e}\")\n",
    "\n",
    "        \n",
    "    "
   ]
  },
  {
   "cell_type": "markdown",
   "id": "9e5ad171",
   "metadata": {},
   "source": [
    "# 2Write a python program with Exception handling to input electricity unit charges and calculate the total electricity bill according to the given condition:\n",
    "\n",
    "For the first 50 units Rs. 0.50/unit\n",
    "\n",
    "For the next 100 units Rs. 0.75/unit\n",
    "\n",
    "For the next 100 units Rs. 1.20/unit\n",
    "\n",
    "For units above 250 Rs 150/unit\n",
    "\n",
    "An additional surcharge of 20% is added to the bill"
   ]
  },
  {
   "cell_type": "code",
   "execution_count": 17,
   "id": "71b82cd8",
   "metadata": {},
   "outputs": [
    {
     "name": "stdout",
     "output_type": "stream",
     "text": [
      "Enter the number of electricity units consumed: 150\n",
      "Total Electricity Bill: Rs. 120.00\n"
     ]
    }
   ],
   "source": [
    "try:\n",
    "    units = float(input(\"Enter the number of electricity units consumed: \"))\n",
    "    bill = 0.0\n",
    "    surcharge = 0.0\n",
    "    if units <= 50:\n",
    "        bill = units * 0.50\n",
    "    elif units <= 150:\n",
    "        bill = 50 * 0.50 + (units - 50) * 0.75\n",
    "    elif units <= 250:\n",
    "        bill = 50 * 0.50 + 100 * 0.75 + (units - 150) * 1.20\n",
    "    else:\n",
    "        bill = 50 * 0.50 + 100 * 0.75 + 100 * 1.20 + (units - 250) * 150.0\n",
    "\n",
    "    surcharge = 0.20 * bill\n",
    "\n",
    "    total_bill = bill + surcharge\n",
    "\n",
    "    print(f\"Total Electricity Bill: Rs. {total_bill:.2f}\")\n",
    "except Exception as e:\n",
    "    print(f\"An error occurred: {e}\")\n"
   ]
  },
  {
   "cell_type": "markdown",
   "id": "e1ddcadd",
   "metadata": {},
   "source": [
    "# 3.Write a python program with Exception handling to input the week number and print the weekday"
   ]
  },
  {
   "cell_type": "code",
   "execution_count": 28,
   "id": "6459400c",
   "metadata": {},
   "outputs": [
    {
     "name": "stdout",
     "output_type": "stream",
     "text": [
      "Enter weekday number (1-7) : 8\n",
      "\n",
      "Please enter a valid weekday number (1-7)\n"
     ]
    }
   ],
   "source": [
    "try:\n",
    "    weekday = int(input(\"Enter weekday number (1-7) : \"))\n",
    "\n",
    "    if weekday == 1:\n",
    "        print(\"\\nMonday\")\n",
    "    elif weekday == 2:\n",
    "        print(\"\\nTuesday\")\n",
    "    elif weekday == 3:\n",
    "        print(\"\\nWednesday\")\n",
    "    elif weekday == 4:\n",
    "        print(\"\\nThursday\")\n",
    "    elif weekday == 5:\n",
    "        print(\"\\nFriday\")\n",
    "    elif weekday == 6:\n",
    "        print(\"\\nSaturday\")\n",
    "    elif weekday == 7:\n",
    "        print(\"\\nSunday\")\n",
    "    else:\n",
    "        print(\"\\nPlease enter a valid weekday number (1-7)\")\n",
    "\n",
    "except ValueError as ve:\n",
    "    print(f\"Error: {ve}. Please enter a valid integer for the weekday number.\")\n",
    "except Exception as e:\n",
    "    print(f\"An error occurred: {e}\")\n"
   ]
  },
  {
   "cell_type": "markdown",
   "id": "936e2919",
   "metadata": {},
   "source": [
    "# 4.Write a Python program to implement word count using command line arguments. Create a text document \"apple.txt\" whch contains text for wordcount.\n",
    "\n",
    "Create a wordcount program which calls the \"apple.txt\" document by opening the file.\n",
    "\n",
    "If the word is present again in the \"aaple.txt\" the wordcount is incremented by I until all\n",
    "\n",
    "the words are counted in the document.\n",
    "\n",
    "iv) Close the file.\n",
    "\n",
    "Create a command.py program which imports the wordcount.py program. Count the number of words using command line arguments. vi)\n",
    "\n",
    "vii)Print each word and its count."
   ]
  },
  {
   "cell_type": "code",
   "execution_count": 2,
   "id": "129f0935",
   "metadata": {},
   "outputs": [
    {
     "name": "stdout",
     "output_type": "stream",
     "text": [
      "Usage: python wordcount.py <filename>\n"
     ]
    }
   ],
   "source": [
    "# wordcount.py\n",
    "\n",
    "def count_words(filename):\n",
    "    try:\n",
    "        with open(filename, 'r') as file:\n",
    "            text = file.read()\n",
    "            words = text.split()\n",
    "            word_count = {}\n",
    "            for word in words:\n",
    "                word = word.lower()\n",
    "                if word in word_count:\n",
    "                    word_count[word] += 1\n",
    "                else:\n",
    "                    word_count[word] = 1\n",
    "            return word_count\n",
    "    except FileNotFoundError:\n",
    "        return None\n",
    "\n",
    "if __name__ == \"__main__\":\n",
    "    import sys\n",
    "    if len(sys.argv) != 2:\n",
    "        print(\"Usage: python wordcount.py <filename>\")\n",
    "    else:\n",
    "        filename = sys.argv[1]\n",
    "        word_count = count_words(filename)\n",
    "        if word_count is None:\n",
    "            print(f\"File '{filename}' not found.\")\n",
    "        else:\n",
    "            for word, count in word_count.items():\n",
    "                print(f\"{word}: {count}\")\n"
   ]
  },
  {
   "cell_type": "code",
   "execution_count": 3,
   "id": "aa8373b7",
   "metadata": {},
   "outputs": [
    {
     "ename": "ModuleNotFoundError",
     "evalue": "No module named 'wordcount'",
     "output_type": "error",
     "traceback": [
      "\u001b[1;31m---------------------------------------------------------------------------\u001b[0m",
      "\u001b[1;31mModuleNotFoundError\u001b[0m                       Traceback (most recent call last)",
      "Cell \u001b[1;32mIn[3], line 2\u001b[0m\n\u001b[0;32m      1\u001b[0m \u001b[38;5;66;03m# command.py\u001b[39;00m\n\u001b[1;32m----> 2\u001b[0m \u001b[38;5;28;01mimport\u001b[39;00m \u001b[38;5;21;01mwordcount\u001b[39;00m\n\u001b[0;32m      4\u001b[0m \u001b[38;5;28;01mif\u001b[39;00m \u001b[38;5;18m__name__\u001b[39m \u001b[38;5;241m==\u001b[39m \u001b[38;5;124m\"\u001b[39m\u001b[38;5;124m__main__\u001b[39m\u001b[38;5;124m\"\u001b[39m:\n\u001b[0;32m      5\u001b[0m     \u001b[38;5;28;01mimport\u001b[39;00m \u001b[38;5;21;01msys\u001b[39;00m\n",
      "\u001b[1;31mModuleNotFoundError\u001b[0m: No module named 'wordcount'"
     ]
    }
   ],
   "source": [
    "# command.py\n",
    "import wordcount\n",
    "\n",
    "if __name__ == \"__main__\":\n",
    "    import sys\n",
    "    if len(sys.argv) != 2:\n",
    "        print(\"Usage: python command.py <filename>\")\n",
    "    else:\n",
    "        filename = sys.argv[1]\n",
    "        word_count = wordcount.count_words(filename)\n",
    "        if word_count is None:\n",
    "            print(f\"File '{filename}' not found.\")\n",
    "        else:\n",
    "            for word, count in word_count.items():\n",
    "                print(f\"{word}: {count}\")\n",
    "\n"
   ]
  },
  {
   "cell_type": "markdown",
   "id": "6b9c59db",
   "metadata": {},
   "source": [
    "# 5.Write a Python program for finding the most frequent words in a text read from a file.\n",
    "\n",
    "i) Initially open the text file in read mode. Make all the letters in the document into lowercase letters and split the words in each line.\n",
    "\n",
    "Get the words in an order iv) Sort the words for finding the most frequent words in the file."
   ]
  },
  {
   "cell_type": "code",
   "execution_count": 9,
   "id": "9019547e",
   "metadata": {},
   "outputs": [
    {
     "name": "stdout",
     "output_type": "stream",
     "text": [
      "Most frequent words in the file:\n"
     ]
    }
   ],
   "source": [
    "from collections import Counter\n",
    "\n",
    "# Function to read and process the text file\n",
    "def find_most_frequent_words(file_path):\n",
    "    try:\n",
    "        with open(file_path, 'r', encoding='utf-8') as file:\n",
    "            # Read the content, convert to lowercase, and split into words\n",
    "            text = file.read().lower().split()\n",
    "\n",
    "            # Count word frequencies using Counter\n",
    "            word_counts = Counter(text)\n",
    "\n",
    "            # Sort words by frequency in descending order\n",
    "            sorted_words = sorted(word_counts.items(), key=lambda x: x[1], reverse=True)\n",
    "\n",
    "            return sorted_words\n",
    "    except FileNotFoundError:\n",
    "        return None\n",
    "\n",
    "# Main program\n",
    "if __name__ == \"__main__\":\n",
    "    file_path = \"mach.txt\"  # Replace with the path to your text file\n",
    "\n",
    "    result = find_most_frequent_words(file_path)\n",
    "\n",
    "    if result is not None:\n",
    "        print(\"Most frequent words in the text file:\")\n",
    "        for word, frequency in result:\n",
    "            print(f\"{word}: {frequency}\")\n",
    "    else:\n",
    "        print(\"File not found. Please provide a valid file path.\")\n",
    "\n"
   ]
  },
  {
   "cell_type": "markdown",
   "id": "036b13fe",
   "metadata": {},
   "source": [
    "# 6.Assome cut you are developing a stadent gradebook system for a school. The systemshould allow wachers to input stadent grades for various subjects, store the data in files,and provide stadens with the ability to view their grades\n",
    "\n",
    "Design a Python program that accomplishes the following tasks\n",
    "\n",
    "Teachers should be able to input grades for students in different subjects. Some the dent grade dats in separate text files for each subject Students should be able to view their grades for each subject iv. Implement error handling for file operations, such as file not found orpermission issues"
   ]
  },
  {
   "cell_type": "code",
   "execution_count": 1,
   "id": "9ae28be6",
   "metadata": {},
   "outputs": [
    {
     "name": "stdout",
     "output_type": "stream",
     "text": [
      "\n",
      "Options:\n",
      "1. Input Grades (Teacher)\n",
      "2. View Grades (Student)\n",
      "3. Exit\n",
      "Select an option: 1\n",
      "Enter student name: john\n",
      "Enter subject: mathematics\n",
      "Enter grade: A\n",
      "Grade added successfully.\n",
      "\n",
      "Options:\n",
      "1. Input Grades (Teacher)\n",
      "2. View Grades (Student)\n",
      "3. Exit\n",
      "Select an option: 3\n"
     ]
    }
   ],
   "source": [
    "import os\n",
    "\n",
    "# Function for teachers to input and save student grades\n",
    "def input_grades():\n",
    "    student_name = input(\"Enter student name: \")\n",
    "    subject = input(\"Enter subject: \")\n",
    "    grade = input(\"Enter grade: \")\n",
    "\n",
    "    try:\n",
    "        with open(f\"{subject}.txt\", \"a\") as file:\n",
    "            file.write(f\"{student_name}: {grade}\\n\")\n",
    "        print(\"Grade added successfully.\")\n",
    "    except FileNotFoundError:\n",
    "        print(f\"Error: {subject}.txt not found.\")\n",
    "    except PermissionError:\n",
    "        print(f\"Error: Permission denied for {subject}.txt\")\n",
    "\n",
    "# Function for students to view their grades\n",
    "def view_grades():\n",
    "    student_name = input(\"Enter your name: \")\n",
    "    subject = input(\"Enter subject to view grades: \")\n",
    "\n",
    "    try:\n",
    "        with open(f\"{subject}.txt\", \"r\") as file:\n",
    "            grades = file.readlines()\n",
    "            for line in grades:\n",
    "                if student_name in line:\n",
    "                    print(line.strip())\n",
    "    except FileNotFoundError:\n",
    "        print(f\"Error: {subject}.txt not found.\")\n",
    "    except PermissionError:\n",
    "        print(f\"Error: Permission denied for {subject}.txt\")\n",
    "\n",
    "# Main program\n",
    "while True:\n",
    "    print(\"\\nOptions:\")\n",
    "    print(\"1. Input Grades (Teacher)\")\n",
    "    print(\"2. View Grades (Student)\")\n",
    "    print(\"3. Exit\")\n",
    "    choice = input(\"Select an option: \")\n",
    "\n",
    "    if choice == \"1\":\n",
    "        input_grades()\n",
    "    elif choice == \"2\":\n",
    "        view_grades()\n",
    "    elif choice == \"3\":\n",
    "        break\n",
    "    else:\n",
    "        print(\"Invalid option. Please try again.\")\n",
    "\n"
   ]
  }
 ],
 "metadata": {
  "kernelspec": {
   "display_name": "Python 3 (ipykernel)",
   "language": "python",
   "name": "python3"
  },
  "language_info": {
   "codemirror_mode": {
    "name": "ipython",
    "version": 3
   },
   "file_extension": ".py",
   "mimetype": "text/x-python",
   "name": "python",
   "nbconvert_exporter": "python",
   "pygments_lexer": "ipython3",
   "version": "3.11.4"
  }
 },
 "nbformat": 4,
 "nbformat_minor": 5
}
