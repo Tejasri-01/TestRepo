{
 "cells": [
  {
   "cell_type": "code",
   "execution_count": 5,
   "id": "af3968b9",
   "metadata": {},
   "outputs": [
    {
     "name": "stdout",
     "output_type": "stream",
     "text": [
      "<mysql.connector.connection_cext.CMySQLConnection object at 0x00000206E173F890>\n"
     ]
    }
   ],
   "source": [
    "import mysql.connector\n",
    "conn=mysql.connector.connect(user='root',\n",
    "                             password='Supriya@161148',\n",
    "                             host='127.0.0.1',\n",
    "                             database='python_db')\n",
    "print(conn)"
   ]
  },
  {
   "cell_type": "code",
   "execution_count": 6,
   "id": "bd1e0a5d",
   "metadata": {},
   "outputs": [
    {
     "data": {
      "text/plain": [
       "<mysql.connector.cursor_cext.CMySQLCursor at 0x206e08b3d10>"
      ]
     },
     "execution_count": 6,
     "metadata": {},
     "output_type": "execute_result"
    }
   ],
   "source": [
    "curs=conn.cursor()\n",
    "curs"
   ]
  },
  {
   "cell_type": "markdown",
   "id": "1dd4133f",
   "metadata": {},
   "source": [
    "# 1.Implement Inventory Management in Python with MySQL\n",
    "\n",
    "a) Inventory management, a critical element of the supply chain, is the tracking of\n",
    "\n",
    "inventory from manufacturers to warehouses and from these facilities to a point of sale. The goal of inventory management is to have the right products in the right place at the right time. b) The required Database is Inventory, and the required Tables are Purchases, Sales and\n",
    "\n",
    "Inventory\n",
    "\n",
    "c) Note: Apply your thoughts to demonstrate the DB Operation in Python."
   ]
  },
  {
   "cell_type": "code",
   "execution_count": 19,
   "id": "fd7618d6",
   "metadata": {},
   "outputs": [
    {
     "ename": "ProgrammingError",
     "evalue": "1050 (42S01): Table 'purchase' already exists",
     "output_type": "error",
     "traceback": [
      "\u001b[1;31m---------------------------------------------------------------------------\u001b[0m",
      "\u001b[1;31mMySQLInterfaceError\u001b[0m                       Traceback (most recent call last)",
      "File \u001b[1;32m~\\anaconda3\\Lib\\site-packages\\mysql\\connector\\connection_cext.py:633\u001b[0m, in \u001b[0;36mCMySQLConnection.cmd_query\u001b[1;34m(self, query, raw, buffered, raw_as_string)\u001b[0m\n\u001b[0;32m    632\u001b[0m         query \u001b[38;5;241m=\u001b[39m query\u001b[38;5;241m.\u001b[39mencode(\u001b[38;5;124m\"\u001b[39m\u001b[38;5;124mutf-8\u001b[39m\u001b[38;5;124m\"\u001b[39m)\n\u001b[1;32m--> 633\u001b[0m     \u001b[38;5;28mself\u001b[39m\u001b[38;5;241m.\u001b[39m_cmysql\u001b[38;5;241m.\u001b[39mquery(\n\u001b[0;32m    634\u001b[0m         query,\n\u001b[0;32m    635\u001b[0m         raw\u001b[38;5;241m=\u001b[39mraw,\n\u001b[0;32m    636\u001b[0m         buffered\u001b[38;5;241m=\u001b[39mbuffered,\n\u001b[0;32m    637\u001b[0m         raw_as_string\u001b[38;5;241m=\u001b[39mraw_as_string,\n\u001b[0;32m    638\u001b[0m         query_attrs\u001b[38;5;241m=\u001b[39m\u001b[38;5;28mself\u001b[39m\u001b[38;5;241m.\u001b[39mquery_attrs,\n\u001b[0;32m    639\u001b[0m     )\n\u001b[0;32m    640\u001b[0m \u001b[38;5;28;01mexcept\u001b[39;00m MySQLInterfaceError \u001b[38;5;28;01mas\u001b[39;00m err:\n",
      "\u001b[1;31mMySQLInterfaceError\u001b[0m: Table 'purchase' already exists",
      "\nThe above exception was the direct cause of the following exception:\n",
      "\u001b[1;31mProgrammingError\u001b[0m                          Traceback (most recent call last)",
      "Cell \u001b[1;32mIn[19], line 7\u001b[0m\n\u001b[0;32m      1\u001b[0m purchase_table\u001b[38;5;241m=\u001b[39m\u001b[38;5;124m'''\u001b[39m\n\u001b[0;32m      2\u001b[0m \n\u001b[0;32m      3\u001b[0m \u001b[38;5;124mcreate table purchase(purchase_id int primary key ,product_name varchar(50) not null,\u001b[39m\n\u001b[0;32m      4\u001b[0m \u001b[38;5;124mquantity int not null,purchase_date date not null)\u001b[39m\n\u001b[0;32m      5\u001b[0m \n\u001b[0;32m      6\u001b[0m \u001b[38;5;124m'''\u001b[39m\n\u001b[1;32m----> 7\u001b[0m curs\u001b[38;5;241m.\u001b[39mexecute(purchase_table)\n",
      "File \u001b[1;32m~\\anaconda3\\Lib\\site-packages\\mysql\\connector\\cursor_cext.py:330\u001b[0m, in \u001b[0;36mCMySQLCursor.execute\u001b[1;34m(self, operation, params, multi)\u001b[0m\n\u001b[0;32m    325\u001b[0m             \u001b[38;5;28;01mraise\u001b[39;00m ProgrammingError(\n\u001b[0;32m    326\u001b[0m                 \u001b[38;5;124m\"\u001b[39m\u001b[38;5;124mNot all parameters were used in the SQL statement\u001b[39m\u001b[38;5;124m\"\u001b[39m\n\u001b[0;32m    327\u001b[0m             )\n\u001b[0;32m    329\u001b[0m \u001b[38;5;28;01mtry\u001b[39;00m:\n\u001b[1;32m--> 330\u001b[0m     result \u001b[38;5;241m=\u001b[39m \u001b[38;5;28mself\u001b[39m\u001b[38;5;241m.\u001b[39m_cnx\u001b[38;5;241m.\u001b[39mcmd_query(\n\u001b[0;32m    331\u001b[0m         stmt,\n\u001b[0;32m    332\u001b[0m         raw\u001b[38;5;241m=\u001b[39m\u001b[38;5;28mself\u001b[39m\u001b[38;5;241m.\u001b[39m_raw,\n\u001b[0;32m    333\u001b[0m         buffered\u001b[38;5;241m=\u001b[39m\u001b[38;5;28mself\u001b[39m\u001b[38;5;241m.\u001b[39m_buffered,\n\u001b[0;32m    334\u001b[0m         raw_as_string\u001b[38;5;241m=\u001b[39m\u001b[38;5;28mself\u001b[39m\u001b[38;5;241m.\u001b[39m_raw_as_string,\n\u001b[0;32m    335\u001b[0m     )\n\u001b[0;32m    336\u001b[0m \u001b[38;5;28;01mexcept\u001b[39;00m MySQLInterfaceError \u001b[38;5;28;01mas\u001b[39;00m err:\n\u001b[0;32m    337\u001b[0m     \u001b[38;5;28;01mraise\u001b[39;00m get_mysql_exception(\n\u001b[0;32m    338\u001b[0m         msg\u001b[38;5;241m=\u001b[39merr\u001b[38;5;241m.\u001b[39mmsg, errno\u001b[38;5;241m=\u001b[39merr\u001b[38;5;241m.\u001b[39merrno, sqlstate\u001b[38;5;241m=\u001b[39merr\u001b[38;5;241m.\u001b[39msqlstate\n\u001b[0;32m    339\u001b[0m     ) \u001b[38;5;28;01mfrom\u001b[39;00m \u001b[38;5;21;01merr\u001b[39;00m\n",
      "File \u001b[1;32m~\\anaconda3\\Lib\\site-packages\\mysql\\connector\\opentelemetry\\context_propagation.py:77\u001b[0m, in \u001b[0;36mwith_context_propagation.<locals>.wrapper\u001b[1;34m(cnx, *args, **kwargs)\u001b[0m\n\u001b[0;32m     75\u001b[0m \u001b[38;5;250m\u001b[39m\u001b[38;5;124;03m\"\"\"Context propagation decorator.\"\"\"\u001b[39;00m\n\u001b[0;32m     76\u001b[0m \u001b[38;5;28;01mif\u001b[39;00m \u001b[38;5;129;01mnot\u001b[39;00m OTEL_ENABLED \u001b[38;5;129;01mor\u001b[39;00m \u001b[38;5;129;01mnot\u001b[39;00m cnx\u001b[38;5;241m.\u001b[39motel_context_propagation:\n\u001b[1;32m---> 77\u001b[0m     \u001b[38;5;28;01mreturn\u001b[39;00m method(cnx, \u001b[38;5;241m*\u001b[39margs, \u001b[38;5;241m*\u001b[39m\u001b[38;5;241m*\u001b[39mkwargs)\n\u001b[0;32m     79\u001b[0m current_span \u001b[38;5;241m=\u001b[39m trace\u001b[38;5;241m.\u001b[39mget_current_span()\n\u001b[0;32m     80\u001b[0m tp_header \u001b[38;5;241m=\u001b[39m \u001b[38;5;28;01mNone\u001b[39;00m\n",
      "File \u001b[1;32m~\\anaconda3\\Lib\\site-packages\\mysql\\connector\\connection_cext.py:641\u001b[0m, in \u001b[0;36mCMySQLConnection.cmd_query\u001b[1;34m(self, query, raw, buffered, raw_as_string)\u001b[0m\n\u001b[0;32m    633\u001b[0m     \u001b[38;5;28mself\u001b[39m\u001b[38;5;241m.\u001b[39m_cmysql\u001b[38;5;241m.\u001b[39mquery(\n\u001b[0;32m    634\u001b[0m         query,\n\u001b[0;32m    635\u001b[0m         raw\u001b[38;5;241m=\u001b[39mraw,\n\u001b[1;32m   (...)\u001b[0m\n\u001b[0;32m    638\u001b[0m         query_attrs\u001b[38;5;241m=\u001b[39m\u001b[38;5;28mself\u001b[39m\u001b[38;5;241m.\u001b[39mquery_attrs,\n\u001b[0;32m    639\u001b[0m     )\n\u001b[0;32m    640\u001b[0m \u001b[38;5;28;01mexcept\u001b[39;00m MySQLInterfaceError \u001b[38;5;28;01mas\u001b[39;00m err:\n\u001b[1;32m--> 641\u001b[0m     \u001b[38;5;28;01mraise\u001b[39;00m get_mysql_exception(\n\u001b[0;32m    642\u001b[0m         err\u001b[38;5;241m.\u001b[39merrno, msg\u001b[38;5;241m=\u001b[39merr\u001b[38;5;241m.\u001b[39mmsg, sqlstate\u001b[38;5;241m=\u001b[39merr\u001b[38;5;241m.\u001b[39msqlstate\n\u001b[0;32m    643\u001b[0m     ) \u001b[38;5;28;01mfrom\u001b[39;00m \u001b[38;5;21;01merr\u001b[39;00m\n\u001b[0;32m    644\u001b[0m \u001b[38;5;28;01mexcept\u001b[39;00m \u001b[38;5;167;01mAttributeError\u001b[39;00m \u001b[38;5;28;01mas\u001b[39;00m err:\n\u001b[0;32m    645\u001b[0m     addr \u001b[38;5;241m=\u001b[39m (\n\u001b[0;32m    646\u001b[0m         \u001b[38;5;28mself\u001b[39m\u001b[38;5;241m.\u001b[39m_unix_socket \u001b[38;5;28;01mif\u001b[39;00m \u001b[38;5;28mself\u001b[39m\u001b[38;5;241m.\u001b[39m_unix_socket \u001b[38;5;28;01melse\u001b[39;00m \u001b[38;5;124mf\u001b[39m\u001b[38;5;124m\"\u001b[39m\u001b[38;5;132;01m{\u001b[39;00m\u001b[38;5;28mself\u001b[39m\u001b[38;5;241m.\u001b[39m_host\u001b[38;5;132;01m}\u001b[39;00m\u001b[38;5;124m:\u001b[39m\u001b[38;5;132;01m{\u001b[39;00m\u001b[38;5;28mself\u001b[39m\u001b[38;5;241m.\u001b[39m_port\u001b[38;5;132;01m}\u001b[39;00m\u001b[38;5;124m\"\u001b[39m\n\u001b[0;32m    647\u001b[0m     )\n",
      "\u001b[1;31mProgrammingError\u001b[0m: 1050 (42S01): Table 'purchase' already exists"
     ]
    }
   ],
   "source": [
    "\n",
    "purchase_table='''\n",
    "\n",
    "create table purchase(purchase_id int primary key ,product_name varchar(50) not null,\n",
    "quantity int not null,purchase_date date not null)\n",
    "\n",
    "'''\n",
    "curs.execute(purchase_table)"
   ]
  },
  {
   "cell_type": "code",
   "execution_count": 17,
   "id": "df128bc1",
   "metadata": {},
   "outputs": [
    {
     "ename": "ProgrammingError",
     "evalue": "1050 (42S01): Table 'purchase' already exists",
     "output_type": "error",
     "traceback": [
      "\u001b[1;31m---------------------------------------------------------------------------\u001b[0m",
      "\u001b[1;31mMySQLInterfaceError\u001b[0m                       Traceback (most recent call last)",
      "File \u001b[1;32m~\\anaconda3\\Lib\\site-packages\\mysql\\connector\\connection_cext.py:633\u001b[0m, in \u001b[0;36mCMySQLConnection.cmd_query\u001b[1;34m(self, query, raw, buffered, raw_as_string)\u001b[0m\n\u001b[0;32m    632\u001b[0m         query \u001b[38;5;241m=\u001b[39m query\u001b[38;5;241m.\u001b[39mencode(\u001b[38;5;124m\"\u001b[39m\u001b[38;5;124mutf-8\u001b[39m\u001b[38;5;124m\"\u001b[39m)\n\u001b[1;32m--> 633\u001b[0m     \u001b[38;5;28mself\u001b[39m\u001b[38;5;241m.\u001b[39m_cmysql\u001b[38;5;241m.\u001b[39mquery(\n\u001b[0;32m    634\u001b[0m         query,\n\u001b[0;32m    635\u001b[0m         raw\u001b[38;5;241m=\u001b[39mraw,\n\u001b[0;32m    636\u001b[0m         buffered\u001b[38;5;241m=\u001b[39mbuffered,\n\u001b[0;32m    637\u001b[0m         raw_as_string\u001b[38;5;241m=\u001b[39mraw_as_string,\n\u001b[0;32m    638\u001b[0m         query_attrs\u001b[38;5;241m=\u001b[39m\u001b[38;5;28mself\u001b[39m\u001b[38;5;241m.\u001b[39mquery_attrs,\n\u001b[0;32m    639\u001b[0m     )\n\u001b[0;32m    640\u001b[0m \u001b[38;5;28;01mexcept\u001b[39;00m MySQLInterfaceError \u001b[38;5;28;01mas\u001b[39;00m err:\n",
      "\u001b[1;31mMySQLInterfaceError\u001b[0m: Table 'purchase' already exists",
      "\nThe above exception was the direct cause of the following exception:\n",
      "\u001b[1;31mProgrammingError\u001b[0m                          Traceback (most recent call last)",
      "Cell \u001b[1;32mIn[17], line 1\u001b[0m\n\u001b[1;32m----> 1\u001b[0m curs\u001b[38;5;241m.\u001b[39mexecute(purchase_table)\n",
      "File \u001b[1;32m~\\anaconda3\\Lib\\site-packages\\mysql\\connector\\cursor_cext.py:330\u001b[0m, in \u001b[0;36mCMySQLCursor.execute\u001b[1;34m(self, operation, params, multi)\u001b[0m\n\u001b[0;32m    325\u001b[0m             \u001b[38;5;28;01mraise\u001b[39;00m ProgrammingError(\n\u001b[0;32m    326\u001b[0m                 \u001b[38;5;124m\"\u001b[39m\u001b[38;5;124mNot all parameters were used in the SQL statement\u001b[39m\u001b[38;5;124m\"\u001b[39m\n\u001b[0;32m    327\u001b[0m             )\n\u001b[0;32m    329\u001b[0m \u001b[38;5;28;01mtry\u001b[39;00m:\n\u001b[1;32m--> 330\u001b[0m     result \u001b[38;5;241m=\u001b[39m \u001b[38;5;28mself\u001b[39m\u001b[38;5;241m.\u001b[39m_cnx\u001b[38;5;241m.\u001b[39mcmd_query(\n\u001b[0;32m    331\u001b[0m         stmt,\n\u001b[0;32m    332\u001b[0m         raw\u001b[38;5;241m=\u001b[39m\u001b[38;5;28mself\u001b[39m\u001b[38;5;241m.\u001b[39m_raw,\n\u001b[0;32m    333\u001b[0m         buffered\u001b[38;5;241m=\u001b[39m\u001b[38;5;28mself\u001b[39m\u001b[38;5;241m.\u001b[39m_buffered,\n\u001b[0;32m    334\u001b[0m         raw_as_string\u001b[38;5;241m=\u001b[39m\u001b[38;5;28mself\u001b[39m\u001b[38;5;241m.\u001b[39m_raw_as_string,\n\u001b[0;32m    335\u001b[0m     )\n\u001b[0;32m    336\u001b[0m \u001b[38;5;28;01mexcept\u001b[39;00m MySQLInterfaceError \u001b[38;5;28;01mas\u001b[39;00m err:\n\u001b[0;32m    337\u001b[0m     \u001b[38;5;28;01mraise\u001b[39;00m get_mysql_exception(\n\u001b[0;32m    338\u001b[0m         msg\u001b[38;5;241m=\u001b[39merr\u001b[38;5;241m.\u001b[39mmsg, errno\u001b[38;5;241m=\u001b[39merr\u001b[38;5;241m.\u001b[39merrno, sqlstate\u001b[38;5;241m=\u001b[39merr\u001b[38;5;241m.\u001b[39msqlstate\n\u001b[0;32m    339\u001b[0m     ) \u001b[38;5;28;01mfrom\u001b[39;00m \u001b[38;5;21;01merr\u001b[39;00m\n",
      "File \u001b[1;32m~\\anaconda3\\Lib\\site-packages\\mysql\\connector\\opentelemetry\\context_propagation.py:77\u001b[0m, in \u001b[0;36mwith_context_propagation.<locals>.wrapper\u001b[1;34m(cnx, *args, **kwargs)\u001b[0m\n\u001b[0;32m     75\u001b[0m \u001b[38;5;250m\u001b[39m\u001b[38;5;124;03m\"\"\"Context propagation decorator.\"\"\"\u001b[39;00m\n\u001b[0;32m     76\u001b[0m \u001b[38;5;28;01mif\u001b[39;00m \u001b[38;5;129;01mnot\u001b[39;00m OTEL_ENABLED \u001b[38;5;129;01mor\u001b[39;00m \u001b[38;5;129;01mnot\u001b[39;00m cnx\u001b[38;5;241m.\u001b[39motel_context_propagation:\n\u001b[1;32m---> 77\u001b[0m     \u001b[38;5;28;01mreturn\u001b[39;00m method(cnx, \u001b[38;5;241m*\u001b[39margs, \u001b[38;5;241m*\u001b[39m\u001b[38;5;241m*\u001b[39mkwargs)\n\u001b[0;32m     79\u001b[0m current_span \u001b[38;5;241m=\u001b[39m trace\u001b[38;5;241m.\u001b[39mget_current_span()\n\u001b[0;32m     80\u001b[0m tp_header \u001b[38;5;241m=\u001b[39m \u001b[38;5;28;01mNone\u001b[39;00m\n",
      "File \u001b[1;32m~\\anaconda3\\Lib\\site-packages\\mysql\\connector\\connection_cext.py:641\u001b[0m, in \u001b[0;36mCMySQLConnection.cmd_query\u001b[1;34m(self, query, raw, buffered, raw_as_string)\u001b[0m\n\u001b[0;32m    633\u001b[0m     \u001b[38;5;28mself\u001b[39m\u001b[38;5;241m.\u001b[39m_cmysql\u001b[38;5;241m.\u001b[39mquery(\n\u001b[0;32m    634\u001b[0m         query,\n\u001b[0;32m    635\u001b[0m         raw\u001b[38;5;241m=\u001b[39mraw,\n\u001b[1;32m   (...)\u001b[0m\n\u001b[0;32m    638\u001b[0m         query_attrs\u001b[38;5;241m=\u001b[39m\u001b[38;5;28mself\u001b[39m\u001b[38;5;241m.\u001b[39mquery_attrs,\n\u001b[0;32m    639\u001b[0m     )\n\u001b[0;32m    640\u001b[0m \u001b[38;5;28;01mexcept\u001b[39;00m MySQLInterfaceError \u001b[38;5;28;01mas\u001b[39;00m err:\n\u001b[1;32m--> 641\u001b[0m     \u001b[38;5;28;01mraise\u001b[39;00m get_mysql_exception(\n\u001b[0;32m    642\u001b[0m         err\u001b[38;5;241m.\u001b[39merrno, msg\u001b[38;5;241m=\u001b[39merr\u001b[38;5;241m.\u001b[39mmsg, sqlstate\u001b[38;5;241m=\u001b[39merr\u001b[38;5;241m.\u001b[39msqlstate\n\u001b[0;32m    643\u001b[0m     ) \u001b[38;5;28;01mfrom\u001b[39;00m \u001b[38;5;21;01merr\u001b[39;00m\n\u001b[0;32m    644\u001b[0m \u001b[38;5;28;01mexcept\u001b[39;00m \u001b[38;5;167;01mAttributeError\u001b[39;00m \u001b[38;5;28;01mas\u001b[39;00m err:\n\u001b[0;32m    645\u001b[0m     addr \u001b[38;5;241m=\u001b[39m (\n\u001b[0;32m    646\u001b[0m         \u001b[38;5;28mself\u001b[39m\u001b[38;5;241m.\u001b[39m_unix_socket \u001b[38;5;28;01mif\u001b[39;00m \u001b[38;5;28mself\u001b[39m\u001b[38;5;241m.\u001b[39m_unix_socket \u001b[38;5;28;01melse\u001b[39;00m \u001b[38;5;124mf\u001b[39m\u001b[38;5;124m\"\u001b[39m\u001b[38;5;132;01m{\u001b[39;00m\u001b[38;5;28mself\u001b[39m\u001b[38;5;241m.\u001b[39m_host\u001b[38;5;132;01m}\u001b[39;00m\u001b[38;5;124m:\u001b[39m\u001b[38;5;132;01m{\u001b[39;00m\u001b[38;5;28mself\u001b[39m\u001b[38;5;241m.\u001b[39m_port\u001b[38;5;132;01m}\u001b[39;00m\u001b[38;5;124m\"\u001b[39m\n\u001b[0;32m    647\u001b[0m     )\n",
      "\u001b[1;31mProgrammingError\u001b[0m: 1050 (42S01): Table 'purchase' already exists"
     ]
    }
   ],
   "source": [
    "curs.execute(purchase_table)"
   ]
  },
  {
   "cell_type": "code",
   "execution_count": 22,
   "id": "ba7e8580",
   "metadata": {},
   "outputs": [],
   "source": [
    "sales_table=''' \n",
    "create table sales(sales_id int auto_increment primary key,product_name varchar(50)\n",
    "not null,quantity int not null, sale_date date not null)\n",
    "'''\n",
    "curs.execute(sales_table)"
   ]
  },
  {
   "cell_type": "code",
   "execution_count": 26,
   "id": "c8d1cff7",
   "metadata": {},
   "outputs": [],
   "source": [
    "inventory_table='''\n",
    "create table inventory(inverty_id int auto_increment primary key,product_name varchar(50)\n",
    "not null,quantity int not null)\n",
    "'''\n",
    "curs.execute(inventory_table)"
   ]
  },
  {
   "cell_type": "code",
   "execution_count": 24,
   "id": "501279f5",
   "metadata": {},
   "outputs": [
    {
     "name": "stdout",
     "output_type": "stream",
     "text": [
      "('book_db',)\n",
      "('department_db',)\n",
      "('employee',)\n",
      "('information_schema',)\n",
      "('job_db',)\n",
      "('location_db',)\n",
      "('mysql',)\n",
      "('performance_schema',)\n",
      "('python_db',)\n",
      "('sakila',)\n",
      "('shirt_db',)\n",
      "('sys',)\n",
      "('world',)\n"
     ]
    }
   ],
   "source": [
    "curs=conn.cursor()\n",
    "curs.execute(\"show databases\")\n",
    "for i in curs:\n",
    "    print(i)"
   ]
  },
  {
   "cell_type": "code",
   "execution_count": 27,
   "id": "d8c24c3c",
   "metadata": {},
   "outputs": [
    {
     "name": "stdout",
     "output_type": "stream",
     "text": [
      "('inventory',)\n",
      "('inverty',)\n",
      "('purchase',)\n",
      "('sales',)\n"
     ]
    }
   ],
   "source": [
    "curs.execute(\"show tables\")\n",
    "for i in curs:\n",
    "    print(i)"
   ]
  },
  {
   "cell_type": "code",
   "execution_count": 39,
   "id": "7a46e225",
   "metadata": {},
   "outputs": [
    {
     "name": "stdout",
     "output_type": "stream",
     "text": [
      "5 is inserted now\n"
     ]
    }
   ],
   "source": [
    "cus_insert=\"insert into purchase(purchase_id,product_name,quantity,purchase_date)values(%s,%s,%s,%s)\"\n",
    "cus_val=[(101,\"product a\",2,\"2023-9-12\"),\n",
    "         (102,\"product b\",4,\"2023-8-11\"),\n",
    "         (103,\"product c\",6,\"2023-10-25\"),\n",
    "         (104,\"product d\",7,\"2023-11-30\"),\n",
    "         (105,\"product e\",1,\"2023-3-3\")\n",
    "        ]\n",
    "curs.executemany(cus_insert,cus_val)\n",
    "conn.commit()\n",
    "print(curs.rowcount,'is inserted now')"
   ]
  },
  {
   "cell_type": "code",
   "execution_count": 40,
   "id": "7f88919a",
   "metadata": {},
   "outputs": [
    {
     "name": "stdout",
     "output_type": "stream",
     "text": [
      "5 is inserted now\n"
     ]
    }
   ],
   "source": [
    "cus_insert=\"insert into sales(sales_id,product_name,quantity,sale_date)values(%s,%s,%s,%s)\"\n",
    "cus_val=[(111,\"sale a\",15,\"2022-9-19\"),\n",
    "         (112,\"sale b\",20,\"2022-1-1\"),\n",
    "         (113,\"sale c\",2,\"2022-5-25\"),\n",
    "         (114,\"sale d\",10,\"2022-8-14\"),\n",
    "         (115,\"sale e\",100,\"2022-12-12\")\n",
    "        ]\n",
    "curs.executemany(cus_insert,cus_val)\n",
    "conn.commit()\n",
    "print(curs.rowcount,'is inserted now')"
   ]
  },
  {
   "cell_type": "code",
   "execution_count": 41,
   "id": "e41968f2",
   "metadata": {},
   "outputs": [
    {
     "name": "stdout",
     "output_type": "stream",
     "text": [
      "3 is inserted now\n"
     ]
    }
   ],
   "source": [
    "cus_insert=\"insert into inventory(inverty_id,product_name,quantity)values(%s,%s,%s)\"\n",
    "cus_val=[(121,\"inverty a\",10),\n",
    "         (122,\"inverty b\",20),\n",
    "         (123,\"inverty c\",12)\n",
    "        \n",
    "        ]\n",
    "curs.executemany(cus_insert,cus_val)\n",
    "conn.commit()\n",
    "print(curs.rowcount,'is inserted now')"
   ]
  },
  {
   "cell_type": "code",
   "execution_count": 42,
   "id": "46b35260",
   "metadata": {},
   "outputs": [
    {
     "name": "stdout",
     "output_type": "stream",
     "text": [
      "(101, 'product a', 2, datetime.date(2023, 9, 12))\n",
      "(102, 'product b', 4, datetime.date(2023, 8, 11))\n",
      "(103, 'product c', 6, datetime.date(2023, 10, 25))\n",
      "(104, 'product d', 7, datetime.date(2023, 11, 30))\n",
      "(105, 'product e', 1, datetime.date(2023, 3, 3))\n"
     ]
    }
   ],
   "source": [
    "curs.execute(\"select * from purchase\")\n",
    "result=curs.fetchall()\n",
    "for i in result:\n",
    "    print(i)"
   ]
  },
  {
   "cell_type": "code",
   "execution_count": 44,
   "id": "afedec24",
   "metadata": {},
   "outputs": [
    {
     "name": "stdout",
     "output_type": "stream",
     "text": [
      "0 rocord(s) updated\n"
     ]
    }
   ],
   "source": [
    "sql=\"update inventory set product_name='inverty a' where quantity=10 \"\n",
    "curs.execute(sql)\n",
    "conn.commit()\n",
    "print(curs.rowcount,'rocord(s) updated')"
   ]
  },
  {
   "cell_type": "code",
   "execution_count": 50,
   "id": "2ec47e72",
   "metadata": {},
   "outputs": [],
   "source": [
    "curs.execute(\"alter table purchase add column rating decimal not null \")"
   ]
  },
  {
   "cell_type": "code",
   "execution_count": 51,
   "id": "8a295ddd",
   "metadata": {},
   "outputs": [
    {
     "name": "stdout",
     "output_type": "stream",
     "text": [
      "(101, 'product a', 2, datetime.date(2023, 9, 12), Decimal('0'))\n",
      "(102, 'product b', 4, datetime.date(2023, 8, 11), Decimal('0'))\n",
      "(103, 'product c', 6, datetime.date(2023, 10, 25), Decimal('0'))\n",
      "(104, 'product d', 7, datetime.date(2023, 11, 30), Decimal('0'))\n",
      "(105, 'product e', 1, datetime.date(2023, 3, 3), Decimal('0'))\n"
     ]
    }
   ],
   "source": [
    "curs.execute(\"select * from purchase\")\n",
    "result=curs.fetchall()\n",
    "for i in result:\n",
    "    print(i)"
   ]
  },
  {
   "cell_type": "code",
   "execution_count": 52,
   "id": "49a0a43e",
   "metadata": {},
   "outputs": [
    {
     "name": "stdout",
     "output_type": "stream",
     "text": [
      "1 record(s)deleted\n"
     ]
    }
   ],
   "source": [
    "sql=\"delete from purchase where product_name like '%product a%'\"\n",
    "curs.execute(sql)\n",
    "conn.commit()\n",
    "print(curs.rowcount,\"record(s)deleted\")"
   ]
  },
  {
   "cell_type": "markdown",
   "id": "b00f31c4",
   "metadata": {},
   "source": [
    "# 2.Customer Order Processing Scenario: You are building a customer order processing system for an e-commerce company. The system needs to interact with a MySQL database to store customer orders, products, and orderdetails\n",
    "\n",
    "1. Design a MySQL database schema for the order processing system, including tables for customers, products, and orders. 2. Write a Python program that connects to the database and allows customers to place\n",
    "\n",
    "new orders\n",
    "\n",
    "3. Implement a feature that calculates the total cost of an order and updates product\n",
    "\n",
    "quantities in the database. 4. How would you handle cases where a product is no longer available when a customer places an order?\n",
    "\n",
    "5. Develop a function to generate order reports for the company's finance department."
   ]
  },
  {
   "cell_type": "code",
   "execution_count": 29,
   "id": "33372a2d",
   "metadata": {},
   "outputs": [
    {
     "name": "stdout",
     "output_type": "stream",
     "text": [
      "<mysql.connector.connection_cext.CMySQLConnection object at 0x0000022E074C4890>\n"
     ]
    }
   ],
   "source": [
    "import mysql.connector\n",
    "conn=mysql.connector.connect(user='root',\n",
    "                            password='Supriya@161148',\n",
    "                            host='127.0.0.1',\n",
    "                            database='orders_processing')\n",
    "print(conn)"
   ]
  },
  {
   "cell_type": "code",
   "execution_count": null,
   "id": "1a7eb749",
   "metadata": {},
   "outputs": [],
   "source": [
    "curs=conn.cursor()"
   ]
  },
  {
   "cell_type": "code",
   "execution_count": 30,
   "id": "a94b582f",
   "metadata": {},
   "outputs": [
    {
     "data": {
      "text/plain": [
       "<mysql.connector.cursor_cext.CMySQLCursor at 0x22e0632e450>"
      ]
     },
     "execution_count": 30,
     "metadata": {},
     "output_type": "execute_result"
    }
   ],
   "source": [
    "curs"
   ]
  },
  {
   "cell_type": "code",
   "execution_count": 34,
   "id": "fccaf358",
   "metadata": {},
   "outputs": [],
   "source": [
    "customer_table='''\n",
    "\n",
    "CREATE TABLE customers (\n",
    "    customer_id INT AUTO_INCREMENT PRIMARY KEY,\n",
    "    first_name VARCHAR(50),\n",
    "    last_name VARCHAR(50),\n",
    "    email VARCHAR(100) UNIQUE,\n",
    "    phone VARCHAR(15),\n",
    "    address VARCHAR(100))\n",
    "    \n",
    "    \n",
    "'''\n",
    "curs.execute(customer_table)"
   ]
  },
  {
   "cell_type": "code",
   "execution_count": 35,
   "id": "abf3da19",
   "metadata": {},
   "outputs": [],
   "source": [
    "product_table='''\n",
    "CREATE TABLE products (\n",
    "    product_id INT AUTO_INCREMENT PRIMARY KEY,\n",
    "    product_name VARCHAR(100),\n",
    "    description TEXT,\n",
    "    price DECIMAL(10, 2),\n",
    "    stock_quantity INT)\n",
    "'''\n",
    "curs.execute(product_table)"
   ]
  },
  {
   "cell_type": "code",
   "execution_count": 36,
   "id": "0b9a3628",
   "metadata": {},
   "outputs": [],
   "source": [
    "order_table='''\n",
    "CREATE TABLE orders (\n",
    "    order_id INT AUTO_INCREMENT PRIMARY KEY,\n",
    "    customer_id INT,\n",
    "    order_date DATE,\n",
    "    status ENUM('Pending', 'Processing', 'Shipped', 'Delivered', 'Cancelled'),\n",
    "    FOREIGN KEY (customer_id) REFERENCES customers(customer_id))\n",
    "'''\n",
    "curs.execute(order_table)"
   ]
  },
  {
   "cell_type": "code",
   "execution_count": 37,
   "id": "24b8f86c",
   "metadata": {},
   "outputs": [],
   "source": [
    "order_details='''\n",
    "CREATE TABLE order_details (\n",
    "    order_detail_id INT AUTO_INCREMENT PRIMARY KEY,\n",
    "    order_id INT,\n",
    "    product_id INT,\n",
    "    quantity INT,\n",
    "    total_price DECIMAL(10, 2),\n",
    "    FOREIGN KEY (order_id) REFERENCES orders(order_id),\n",
    "    FOREIGN KEY (product_id) REFERENCES products(product_id)\n",
    ")\n",
    "\n",
    "'''\n",
    "curs.execute(order_details)"
   ]
  },
  {
   "cell_type": "code",
   "execution_count": 21,
   "id": "cae351b5",
   "metadata": {},
   "outputs": [
    {
     "name": "stdout",
     "output_type": "stream",
     "text": [
      "<mysql.connector.connection_cext.CMySQLConnection object at 0x0000021A2EF2CD10>\n"
     ]
    }
   ],
   "source": [
    "import mysql.connector\n",
    "conn=mysql.connector.connect(user='root',\n",
    "                            password='Supriya@161148',\n",
    "                            host='127.0.0.1',\n",
    "                            database='order_process')\n",
    "print(conn)"
   ]
  },
  {
   "cell_type": "code",
   "execution_count": 23,
   "id": "f0c5660c",
   "metadata": {},
   "outputs": [],
   "source": [
    "curs=conn.cursor()"
   ]
  },
  {
   "cell_type": "code",
   "execution_count": 24,
   "id": "3d46cbdc",
   "metadata": {},
   "outputs": [
    {
     "data": {
      "text/plain": [
       "<mysql.connector.cursor_cext.CMySQLCursor at 0x21a2e6e3310>"
      ]
     },
     "execution_count": 24,
     "metadata": {},
     "output_type": "execute_result"
    }
   ],
   "source": [
    "curs"
   ]
  },
  {
   "cell_type": "code",
   "execution_count": 25,
   "id": "682cca7a",
   "metadata": {},
   "outputs": [
    {
     "name": "stdout",
     "output_type": "stream",
     "text": [
      "('book_db',)\n",
      "('department_db',)\n",
      "('employee',)\n",
      "('employee_management',)\n",
      "('information_schema',)\n",
      "('job_db',)\n",
      "('location_db',)\n",
      "('mysql',)\n",
      "('order_process',)\n",
      "('orders_processing',)\n",
      "('performance_schema',)\n",
      "('python_db',)\n",
      "('sakila',)\n",
      "('shirt_db',)\n",
      "('sys',)\n",
      "('world',)\n"
     ]
    }
   ],
   "source": [
    "curs=conn.cursor()\n",
    "curs.execute(\"show databases\")\n",
    "for i in curs:\n",
    "    print(i)"
   ]
  },
  {
   "cell_type": "code",
   "execution_count": 26,
   "id": "1158071a",
   "metadata": {},
   "outputs": [
    {
     "name": "stdout",
     "output_type": "stream",
     "text": [
      "('customers',)\n",
      "('order_details',)\n",
      "('orders',)\n",
      "('process',)\n",
      "('products',)\n"
     ]
    }
   ],
   "source": [
    "curs.execute(\"show tables\")\n",
    "for i in curs:\n",
    "    print(i)    "
   ]
  },
  {
   "cell_type": "code",
   "execution_count": 38,
   "id": "6a578bcf",
   "metadata": {},
   "outputs": [
    {
     "name": "stdout",
     "output_type": "stream",
     "text": [
      "\n",
      "Options:\n",
      "1. Place an order\n",
      "2. Exit\n",
      "Enter your choice: 1\n",
      "Available Products:\n",
      "Product ID | Product Name | Price | Stock Quantity\n",
      "-----------------------------------------------\n",
      "Enter your customer ID: 101\n",
      "Enter the product ID you want to order: 101\n",
      "Enter the quantity: 45\n",
      "Product not available in sufficient quantity.\n",
      "\n",
      "Options:\n",
      "1. Place an order\n",
      "2. Exit\n",
      "Enter your choice: 2\n"
     ]
    }
   ],
   "source": [
    "import mysql.connector\n",
    "\n",
    "# Database connection configuration\n",
    "db_config = {\n",
    "    'host': '127.0.0.1',\n",
    "    'user': 'root',\n",
    "    'password': 'Supriya@161148',\n",
    "    'database': 'order_process'\n",
    "}\n",
    "\n",
    "# Function to display available products\n",
    "def display_products(cursor):\n",
    "    cursor.execute(\"SELECT * FROM products\")\n",
    "    products = cursor.fetchall()\n",
    "\n",
    "    print(\"Available Products:\")\n",
    "    print(\"Product ID | Product Name | Price |  Stock_Quantity\")\n",
    "    print(\"-----------------------------------------------\")\n",
    "    for product in products:\n",
    "        print(f\"{product[0]:<11} | {product[1]:<12} | {product[2]:<5} | {product[3]:<14}\")\n",
    "\n",
    "# Function to place a new order\n",
    "def place_order(cursor):\n",
    "    display_products(cursor)\n",
    "    customer_id = int(input(\"Enter your customer ID: \"))\n",
    "    product_id = int(input(\"Enter the product ID you want to order: \"))\n",
    "    quantity = int(input(\"Enter the quantity: \"))\n",
    "\n",
    "    # Check if the product is available in stock\n",
    "    cursor.execute(\"SELECT stock_quantity FROM products WHERE product_id = %s\", (product_id,))\n",
    "    stock_quantity = cursor.fetchone()\n",
    "\n",
    "    if stock_quantity and stock_quantity[0] >= quantity:\n",
    "        # Calculate total price\n",
    "        cursor.execute(\"SELECT price FROM products WHERE product_id = %s\", (product_id,))\n",
    "        price = cursor.fetchone()[0]\n",
    "        total_price = price * quantity\n",
    "\n",
    "        # Insert order into the database\n",
    "        cursor.execute(\n",
    "            \"INSERT INTO order_details (order_id, product_id, quantity, total_price) VALUES (%s, %s, %s, %s)\",\n",
    "            (customer_id, product_id, quantity, total_price)\n",
    "        )\n",
    "        print(\"Order placed successfully!\")\n",
    "    else:\n",
    "        print(\"Product not available in sufficient quantity.\")\n",
    "\n",
    "if __name__ == \"__main__\":\n",
    "    try:\n",
    "        # Connect to the database\n",
    "        conn = mysql.connector.connect(**db_config)\n",
    "        cursor = conn.cursor()\n",
    "\n",
    "        while True:\n",
    "            print(\"\\nOptions:\")\n",
    "            print(\"1. Place an order\")\n",
    "            print(\"2. Exit\")\n",
    "            choice = input(\"Enter your choice: \")\n",
    "\n",
    "            if choice == \"1\":\n",
    "                place_order(cursor)\n",
    "                conn.commit()\n",
    "            elif choice == \"2\":\n",
    "                break\n",
    "            else:\n",
    "                print(\"Invalid choice. Please try again.\")\n",
    "\n",
    "    except mysql.connector.Error as e:\n",
    "        print(f\"Error: {e}\")\n",
    "    finally:\n",
    "        if conn.is_connected():\n",
    "            cursor.close()\n",
    "            conn.close()\n"
   ]
  },
  {
   "cell_type": "code",
   "execution_count": 30,
   "id": "12d59c01",
   "metadata": {},
   "outputs": [
    {
     "name": "stdout",
     "output_type": "stream",
     "text": [
      "Product is not available in sufficient quantity.\n"
     ]
    }
   ],
   "source": [
    "import mysql.connector\n",
    "\n",
    "# Connect to the MySQL database\n",
    "db_connection = mysql.connector.connect(\n",
    "    host=\"127.0.0.1\",\n",
    "    user=\"root\",\n",
    "    password=\"Supriya@161148\",\n",
    "    database=\"order_process\"\n",
    ")\n",
    "\n",
    "# Create a cursor object to execute SQL queries\n",
    "curs = db_connection.cursor()\n",
    "\n",
    "def place_order(customer_id, product_id, quantity):\n",
    "    try:\n",
    "        # Check if the product is available\n",
    "        curs.execute(\"SELECT price FROM products WHERE product_id = %s\", (product_id,))\n",
    "        result = curs.fetchone()\n",
    "        if result and result[0] >= quantity:\n",
    "            # Calculate the total cost\n",
    "            curs.execute(\"SELECT price FROM products WHERE product_id = %s\", (product_id,))\n",
    "            price = cursor.fetchone()[0]\n",
    "            total_cost = price * quantity\n",
    "            \n",
    "            # Insert into orders table\n",
    "            curs.execute(\"INSERT INTO orders (customer_id) VALUES (%s)\", (customer_id,))\n",
    "            order_id = cursor.lastrowid\n",
    "            \n",
    "            # Insert into orderdetails table\n",
    "            curs.execute(\"INSERT INTO orderdetails (order_id, product_id, quantity) VALUES (%s, %s, %s)\", (order_id, product_id, quantity))\n",
    "            \n",
    "            # Update product quantity\n",
    "            curs.execute(\"UPDATE products SET stock_quantity = stock_quantity - %s WHERE product_id = %s\", (quantity, product_id))\n",
    "            \n",
    "            # Commit the transaction\n",
    "            db_connection.commit()\n",
    "            \n",
    "            print(f\"Order placed successfully. Total cost: ${total_cost}\")\n",
    "        else:\n",
    "            print(\"Product is not available in sufficient quantity.\")\n",
    "    except Exception as e:\n",
    "        print(f\"Error: {str(e)}\")\n",
    "\n",
    "# Usage\n",
    "customer_id = 1  # Replace with the actual customer ID\n",
    "product_id = 1   # Replace with the actual product ID\n",
    "quantity = 3     # Replace with the desired quantity\n",
    "place_order(customer_id, product_id, quantity)\n",
    "\n",
    "# Close the database connection when done\n",
    "db_connection.close()\n"
   ]
  },
  {
   "cell_type": "code",
   "execution_count": 20,
   "id": "3ab90e2d",
   "metadata": {},
   "outputs": [
    {
     "name": "stdout",
     "output_type": "stream",
     "text": [
      "<mysql.connector.connection_cext.CMySQLConnection object at 0x000002B2BE89B690>\n"
     ]
    }
   ],
   "source": [
    "import mysql.connector\n",
    "conn=mysql.connector.connect(user='root',\n",
    "                            password='Supriya@161148',\n",
    "                            host='127.0.0.1',\n",
    "                            database='order_process')\n",
    "print(conn)\n"
   ]
  },
  {
   "cell_type": "code",
   "execution_count": 21,
   "id": "6139a08d",
   "metadata": {},
   "outputs": [],
   "source": [
    "curs=conn.cursor()"
   ]
  },
  {
   "cell_type": "code",
   "execution_count": 22,
   "id": "c3659aa4",
   "metadata": {},
   "outputs": [
    {
     "data": {
      "text/plain": [
       "<mysql.connector.cursor_cext.CMySQLCursor at 0x2b2bdf1e110>"
      ]
     },
     "execution_count": 22,
     "metadata": {},
     "output_type": "execute_result"
    }
   ],
   "source": [
    "curs"
   ]
  },
  {
   "cell_type": "code",
   "execution_count": 28,
   "id": "c93819a3",
   "metadata": {},
   "outputs": [
    {
     "name": "stdout",
     "output_type": "stream",
     "text": [
      "Product not available or insufficient quantity.\n"
     ]
    },
    {
     "ename": "NameError",
     "evalue": "name 'db_connection' is not defined",
     "output_type": "error",
     "traceback": [
      "\u001b[1;31m---------------------------------------------------------------------------\u001b[0m",
      "\u001b[1;31mNameError\u001b[0m                                 Traceback (most recent call last)",
      "Cell \u001b[1;32mIn[28], line 34\u001b[0m\n\u001b[0;32m     30\u001b[0m place_order(customer_id\u001b[38;5;241m=\u001b[39m\u001b[38;5;241m1\u001b[39m, product_id\u001b[38;5;241m=\u001b[39m\u001b[38;5;241m1\u001b[39m, quantity\u001b[38;5;241m=\u001b[39m\u001b[38;5;241m2\u001b[39m)\n\u001b[0;32m     33\u001b[0m curs\u001b[38;5;241m.\u001b[39mclose()\n\u001b[1;32m---> 34\u001b[0m db_connection\u001b[38;5;241m.\u001b[39mclose()\n",
      "\u001b[1;31mNameError\u001b[0m: name 'db_connection' is not defined"
     ]
    }
   ],
   "source": []
  },
  {
   "cell_type": "markdown",
   "id": "9c57dfab",
   "metadata": {},
   "source": [
    "# 3.You are tasked with developing a Python program that connects to a MySQL database, retrieves data from a table, performs some operations on the data, and updates the database with the modified data. Please write Python code to accomplish this task\n",
    "\n",
    "Instructions:\n",
    "\n",
    "1. Assume that you have a MySQL database server running with the following details:\n",
    "\n",
    "L Host localhost Port: 3306\n",
    "\n",
    "Username: your username iv. Password your password\n",
    "\n",
    "V. Database Name your database\n",
    "\n",
    "v. Table Name your table\n",
    "\n",
    "vi. The table has the following columns: id (int), name (varchar),\n",
    "\n",
    "Quantity (int). program should Python\n",
    "\n",
    "Connect to the MySQL database\n",
    "\n",
    "4 Retrieve all records from the your table table. Calculate the total quantity of all records retrieved.\n",
    "\n",
    "v. Update the quantity column of each record by doubling its value.\n",
    "\n",
    "Commit the changes to the database\n",
    "\n",
    "Close the database connection\n",
    "\n",
    "1. Handle any potential errors that may occur during the database connection and data manipulation, such as connection failures or SQL errors. 4. Provide comments in your code to explain each step"
   ]
  },
  {
   "cell_type": "code",
   "execution_count": 49,
   "id": "ab1c4abd",
   "metadata": {},
   "outputs": [
    {
     "name": "stdout",
     "output_type": "stream",
     "text": [
      "<mysql.connector.connection_cext.CMySQLConnection object at 0x0000022E06E8FD50>\n"
     ]
    }
   ],
   "source": [
    "import mysql.connector\n",
    "conn=mysql.connector.connect(user='root',\n",
    "                            password='Supriya@161148',\n",
    "                            host='127.0.0.1',\n",
    "                            database='order_process')\n",
    "print(conn)"
   ]
  },
  {
   "cell_type": "code",
   "execution_count": 50,
   "id": "32839e9a",
   "metadata": {},
   "outputs": [
    {
     "data": {
      "text/plain": [
       "<mysql.connector.cursor_cext.CMySQLCursor at 0x22e07c84950>"
      ]
     },
     "execution_count": 50,
     "metadata": {},
     "output_type": "execute_result"
    }
   ],
   "source": [
    "curs=conn.cursor()\n",
    "curs"
   ]
  },
  {
   "cell_type": "code",
   "execution_count": 52,
   "id": "6df19a6b",
   "metadata": {},
   "outputs": [
    {
     "ename": "ProgrammingError",
     "evalue": "1050 (42S01): Table 'process' already exists",
     "output_type": "error",
     "traceback": [
      "\u001b[1;31m---------------------------------------------------------------------------\u001b[0m",
      "\u001b[1;31mMySQLInterfaceError\u001b[0m                       Traceback (most recent call last)",
      "File \u001b[1;32m~\\anaconda3\\Lib\\site-packages\\mysql\\connector\\connection_cext.py:633\u001b[0m, in \u001b[0;36mCMySQLConnection.cmd_query\u001b[1;34m(self, query, raw, buffered, raw_as_string)\u001b[0m\n\u001b[0;32m    632\u001b[0m         query \u001b[38;5;241m=\u001b[39m query\u001b[38;5;241m.\u001b[39mencode(\u001b[38;5;124m\"\u001b[39m\u001b[38;5;124mutf-8\u001b[39m\u001b[38;5;124m\"\u001b[39m)\n\u001b[1;32m--> 633\u001b[0m     \u001b[38;5;28mself\u001b[39m\u001b[38;5;241m.\u001b[39m_cmysql\u001b[38;5;241m.\u001b[39mquery(\n\u001b[0;32m    634\u001b[0m         query,\n\u001b[0;32m    635\u001b[0m         raw\u001b[38;5;241m=\u001b[39mraw,\n\u001b[0;32m    636\u001b[0m         buffered\u001b[38;5;241m=\u001b[39mbuffered,\n\u001b[0;32m    637\u001b[0m         raw_as_string\u001b[38;5;241m=\u001b[39mraw_as_string,\n\u001b[0;32m    638\u001b[0m         query_attrs\u001b[38;5;241m=\u001b[39m\u001b[38;5;28mself\u001b[39m\u001b[38;5;241m.\u001b[39mquery_attrs,\n\u001b[0;32m    639\u001b[0m     )\n\u001b[0;32m    640\u001b[0m \u001b[38;5;28;01mexcept\u001b[39;00m MySQLInterfaceError \u001b[38;5;28;01mas\u001b[39;00m err:\n",
      "\u001b[1;31mMySQLInterfaceError\u001b[0m: Table 'process' already exists",
      "\nThe above exception was the direct cause of the following exception:\n",
      "\u001b[1;31mProgrammingError\u001b[0m                          Traceback (most recent call last)",
      "Cell \u001b[1;32mIn[52], line 6\u001b[0m\n\u001b[0;32m      1\u001b[0m process_table\u001b[38;5;241m=\u001b[39m\u001b[38;5;124m'''\u001b[39m\n\u001b[0;32m      2\u001b[0m \n\u001b[0;32m      3\u001b[0m \u001b[38;5;124mcreate table process(id int primary key,name varchar(50),quantity int)\u001b[39m\n\u001b[0;32m      4\u001b[0m \n\u001b[0;32m      5\u001b[0m \u001b[38;5;124m'''\u001b[39m\n\u001b[1;32m----> 6\u001b[0m curs\u001b[38;5;241m.\u001b[39mexecute(process_table)\n",
      "File \u001b[1;32m~\\anaconda3\\Lib\\site-packages\\mysql\\connector\\cursor_cext.py:330\u001b[0m, in \u001b[0;36mCMySQLCursor.execute\u001b[1;34m(self, operation, params, multi)\u001b[0m\n\u001b[0;32m    325\u001b[0m             \u001b[38;5;28;01mraise\u001b[39;00m ProgrammingError(\n\u001b[0;32m    326\u001b[0m                 \u001b[38;5;124m\"\u001b[39m\u001b[38;5;124mNot all parameters were used in the SQL statement\u001b[39m\u001b[38;5;124m\"\u001b[39m\n\u001b[0;32m    327\u001b[0m             )\n\u001b[0;32m    329\u001b[0m \u001b[38;5;28;01mtry\u001b[39;00m:\n\u001b[1;32m--> 330\u001b[0m     result \u001b[38;5;241m=\u001b[39m \u001b[38;5;28mself\u001b[39m\u001b[38;5;241m.\u001b[39m_cnx\u001b[38;5;241m.\u001b[39mcmd_query(\n\u001b[0;32m    331\u001b[0m         stmt,\n\u001b[0;32m    332\u001b[0m         raw\u001b[38;5;241m=\u001b[39m\u001b[38;5;28mself\u001b[39m\u001b[38;5;241m.\u001b[39m_raw,\n\u001b[0;32m    333\u001b[0m         buffered\u001b[38;5;241m=\u001b[39m\u001b[38;5;28mself\u001b[39m\u001b[38;5;241m.\u001b[39m_buffered,\n\u001b[0;32m    334\u001b[0m         raw_as_string\u001b[38;5;241m=\u001b[39m\u001b[38;5;28mself\u001b[39m\u001b[38;5;241m.\u001b[39m_raw_as_string,\n\u001b[0;32m    335\u001b[0m     )\n\u001b[0;32m    336\u001b[0m \u001b[38;5;28;01mexcept\u001b[39;00m MySQLInterfaceError \u001b[38;5;28;01mas\u001b[39;00m err:\n\u001b[0;32m    337\u001b[0m     \u001b[38;5;28;01mraise\u001b[39;00m get_mysql_exception(\n\u001b[0;32m    338\u001b[0m         msg\u001b[38;5;241m=\u001b[39merr\u001b[38;5;241m.\u001b[39mmsg, errno\u001b[38;5;241m=\u001b[39merr\u001b[38;5;241m.\u001b[39merrno, sqlstate\u001b[38;5;241m=\u001b[39merr\u001b[38;5;241m.\u001b[39msqlstate\n\u001b[0;32m    339\u001b[0m     ) \u001b[38;5;28;01mfrom\u001b[39;00m \u001b[38;5;21;01merr\u001b[39;00m\n",
      "File \u001b[1;32m~\\anaconda3\\Lib\\site-packages\\mysql\\connector\\opentelemetry\\context_propagation.py:77\u001b[0m, in \u001b[0;36mwith_context_propagation.<locals>.wrapper\u001b[1;34m(cnx, *args, **kwargs)\u001b[0m\n\u001b[0;32m     75\u001b[0m \u001b[38;5;250m\u001b[39m\u001b[38;5;124;03m\"\"\"Context propagation decorator.\"\"\"\u001b[39;00m\n\u001b[0;32m     76\u001b[0m \u001b[38;5;28;01mif\u001b[39;00m \u001b[38;5;129;01mnot\u001b[39;00m OTEL_ENABLED \u001b[38;5;129;01mor\u001b[39;00m \u001b[38;5;129;01mnot\u001b[39;00m cnx\u001b[38;5;241m.\u001b[39motel_context_propagation:\n\u001b[1;32m---> 77\u001b[0m     \u001b[38;5;28;01mreturn\u001b[39;00m method(cnx, \u001b[38;5;241m*\u001b[39margs, \u001b[38;5;241m*\u001b[39m\u001b[38;5;241m*\u001b[39mkwargs)\n\u001b[0;32m     79\u001b[0m current_span \u001b[38;5;241m=\u001b[39m trace\u001b[38;5;241m.\u001b[39mget_current_span()\n\u001b[0;32m     80\u001b[0m tp_header \u001b[38;5;241m=\u001b[39m \u001b[38;5;28;01mNone\u001b[39;00m\n",
      "File \u001b[1;32m~\\anaconda3\\Lib\\site-packages\\mysql\\connector\\connection_cext.py:641\u001b[0m, in \u001b[0;36mCMySQLConnection.cmd_query\u001b[1;34m(self, query, raw, buffered, raw_as_string)\u001b[0m\n\u001b[0;32m    633\u001b[0m     \u001b[38;5;28mself\u001b[39m\u001b[38;5;241m.\u001b[39m_cmysql\u001b[38;5;241m.\u001b[39mquery(\n\u001b[0;32m    634\u001b[0m         query,\n\u001b[0;32m    635\u001b[0m         raw\u001b[38;5;241m=\u001b[39mraw,\n\u001b[1;32m   (...)\u001b[0m\n\u001b[0;32m    638\u001b[0m         query_attrs\u001b[38;5;241m=\u001b[39m\u001b[38;5;28mself\u001b[39m\u001b[38;5;241m.\u001b[39mquery_attrs,\n\u001b[0;32m    639\u001b[0m     )\n\u001b[0;32m    640\u001b[0m \u001b[38;5;28;01mexcept\u001b[39;00m MySQLInterfaceError \u001b[38;5;28;01mas\u001b[39;00m err:\n\u001b[1;32m--> 641\u001b[0m     \u001b[38;5;28;01mraise\u001b[39;00m get_mysql_exception(\n\u001b[0;32m    642\u001b[0m         err\u001b[38;5;241m.\u001b[39merrno, msg\u001b[38;5;241m=\u001b[39merr\u001b[38;5;241m.\u001b[39mmsg, sqlstate\u001b[38;5;241m=\u001b[39merr\u001b[38;5;241m.\u001b[39msqlstate\n\u001b[0;32m    643\u001b[0m     ) \u001b[38;5;28;01mfrom\u001b[39;00m \u001b[38;5;21;01merr\u001b[39;00m\n\u001b[0;32m    644\u001b[0m \u001b[38;5;28;01mexcept\u001b[39;00m \u001b[38;5;167;01mAttributeError\u001b[39;00m \u001b[38;5;28;01mas\u001b[39;00m err:\n\u001b[0;32m    645\u001b[0m     addr \u001b[38;5;241m=\u001b[39m (\n\u001b[0;32m    646\u001b[0m         \u001b[38;5;28mself\u001b[39m\u001b[38;5;241m.\u001b[39m_unix_socket \u001b[38;5;28;01mif\u001b[39;00m \u001b[38;5;28mself\u001b[39m\u001b[38;5;241m.\u001b[39m_unix_socket \u001b[38;5;28;01melse\u001b[39;00m \u001b[38;5;124mf\u001b[39m\u001b[38;5;124m\"\u001b[39m\u001b[38;5;132;01m{\u001b[39;00m\u001b[38;5;28mself\u001b[39m\u001b[38;5;241m.\u001b[39m_host\u001b[38;5;132;01m}\u001b[39;00m\u001b[38;5;124m:\u001b[39m\u001b[38;5;132;01m{\u001b[39;00m\u001b[38;5;28mself\u001b[39m\u001b[38;5;241m.\u001b[39m_port\u001b[38;5;132;01m}\u001b[39;00m\u001b[38;5;124m\"\u001b[39m\n\u001b[0;32m    647\u001b[0m     )\n",
      "\u001b[1;31mProgrammingError\u001b[0m: 1050 (42S01): Table 'process' already exists"
     ]
    }
   ],
   "source": [
    "process_table='''\n",
    "\n",
    "create table process(id int primary key,name varchar(50),quantity int)\n",
    "\n",
    "'''\n",
    "curs.execute(process_table)"
   ]
  },
  {
   "cell_type": "code",
   "execution_count": 54,
   "id": "2a9ecec9",
   "metadata": {},
   "outputs": [
    {
     "name": "stdout",
     "output_type": "stream",
     "text": [
      "Connected to the MySQL database\n",
      "Total Quantity before update: 0\n",
      "Quantity values updated successfully\n",
      "Database connection closed\n"
     ]
    }
   ],
   "source": [
    "import mysql.connector\n",
    "from mysql.connector import Error\n",
    "\n",
    "# Database connection details\n",
    "db_config = {\n",
    "    \"host\": \"localhost\",\n",
    "    \"port\": 3306,\n",
    "    \"user\": \"root\",\n",
    "    \"password\": \"Supriya@161148\",\n",
    "    \"database\": \"order_process\"\n",
    "}\n",
    "\n",
    "try:\n",
    "    # Connect to the MySQL database\n",
    "    connection = mysql.connector.connect(**db_config)\n",
    "\n",
    "    if connection.is_connected():\n",
    "        print(\"Connected to the MySQL database\")\n",
    "\n",
    "        # Retrieve all records from the table and calculate the total quantity\n",
    "        curs = connection.cursor()\n",
    "        curs.execute(\"SELECT id, name, Quantity FROM process \")\n",
    "        records = curs.fetchall()\n",
    "\n",
    "        total_quantity = 0\n",
    "        for record in records:\n",
    "            id, name, quantity = record\n",
    "            total_quantity += quantity\n",
    "\n",
    "        print(f\"Total Quantity before update: {total_quantity}\")\n",
    "\n",
    "        # Update the quantity column by doubling its value\n",
    "        curs.execute(\"UPDATE process SET Quantity = Quantity * 2\")\n",
    "        connection.commit()\n",
    "        print(\"Quantity values updated successfully\")\n",
    "\n",
    "except Error as e:\n",
    "    print(f\"Error: {e}\")\n",
    "\n",
    "finally:\n",
    "    if connection.is_connected():\n",
    "        curs.close()\n",
    "        connection.close()\n",
    "        print(\"Database connection closed\")\n"
   ]
  },
  {
   "cell_type": "markdown",
   "id": "1c353c50",
   "metadata": {},
   "source": [
    "# 4.You are developing an employe managemnt system for a company.the database should store employee Information, Including name, salary departmen view and update employee details. company. The database should store hire date. Manages should be able to\n",
    "\n",
    "1. Design the database schema for the employee management system. 2. Write Python code to connect to the database and retrieve a list of employees in a\n",
    "\n",
    "specific department.\n",
    "\n",
    "3. Implement a feature to update an employee's salary.\n",
    "\n"
   ]
  },
  {
   "cell_type": "code",
   "execution_count": 56,
   "id": "9368dfdb",
   "metadata": {},
   "outputs": [
    {
     "name": "stdout",
     "output_type": "stream",
     "text": [
      "<mysql.connector.connection_cext.CMySQLConnection object at 0x0000022E07D52650>\n"
     ]
    }
   ],
   "source": [
    "import mysql.connector\n",
    "conn=mysql.connector.connect(user='root',\n",
    "                            password='Supriya@161148',\n",
    "                            host='127.0.0.1',\n",
    "                            database='employee_management')\n",
    "print(conn)"
   ]
  },
  {
   "cell_type": "code",
   "execution_count": 57,
   "id": "3c19cfda",
   "metadata": {},
   "outputs": [
    {
     "data": {
      "text/plain": [
       "<mysql.connector.cursor_cext.CMySQLCursor at 0x22e07c3f290>"
      ]
     },
     "execution_count": 57,
     "metadata": {},
     "output_type": "execute_result"
    }
   ],
   "source": [
    "curs=conn.cursor()\n",
    "curs"
   ]
  },
  {
   "cell_type": "code",
   "execution_count": 58,
   "id": "1dfd9771",
   "metadata": {},
   "outputs": [],
   "source": [
    "employee_details='''\n",
    "\n",
    "CREATE TABLE employees (\n",
    "    employee_id INT AUTO_INCREMENT PRIMARY KEY,\n",
    "    first_name VARCHAR(50),\n",
    "    last_name VARCHAR(50),\n",
    "    salary DECIMAL(10, 2),\n",
    "    department VARCHAR(50),\n",
    "    hire_date DATE)\n",
    "\n",
    "'''\n",
    "curs.execute(employee_details)"
   ]
  },
  {
   "cell_type": "code",
   "execution_count": 59,
   "id": "8f643152",
   "metadata": {},
   "outputs": [
    {
     "name": "stdout",
     "output_type": "stream",
     "text": [
      "Connected to the MySQL database\n",
      "No employees found in Sales department\n",
      "Employee's salary updated successfully\n",
      "Database connection closed\n"
     ]
    }
   ],
   "source": [
    "import mysql.connector\n",
    "from mysql.connector import Error\n",
    "\n",
    "# Database connection details\n",
    "db_config = {\n",
    "    \"host\": \"localhost\",\n",
    "    \"port\": 3306,\n",
    "    \"user\": \"root\",\n",
    "    \"password\": \"Supriya@161148\",\n",
    "    \"database\": \"employee_management\"\n",
    "}\n",
    "\n",
    "def connect_to_database():\n",
    "    try:\n",
    "        # Connect to the MySQL database\n",
    "        connection = mysql.connector.connect(**db_config)\n",
    "\n",
    "        if connection.is_connected():\n",
    "            print(\"Connected to the MySQL database\")\n",
    "            return connection\n",
    "\n",
    "    except Error as e:\n",
    "        print(f\"Error: {e}\")\n",
    "        return None\n",
    "\n",
    "def retrieve_employees_in_department(connection, department):\n",
    "    try:\n",
    "        cursor = connection.cursor()\n",
    "\n",
    "        # Retrieve employees in a specific department\n",
    "        query = \"SELECT first_name, last_name, salary FROM employees WHERE department = %s\"\n",
    "        cursor.execute(query, (department,))\n",
    "        employees = cursor.fetchall()\n",
    "\n",
    "        if employees:\n",
    "            print(f\"Employees in {department} department:\")\n",
    "            for employee in employees:\n",
    "                first_name, last_name, salary = employee\n",
    "                print(f\"{first_name} {last_name}, Salary: {salary}\")\n",
    "        else:\n",
    "            print(f\"No employees found in {department} department\")\n",
    "\n",
    "    except Error as e:\n",
    "        print(f\"Error: {e}\")\n",
    "\n",
    "def update_employee_salary(connection, employee_id, new_salary):\n",
    "    try:\n",
    "        cursor = connection.cursor()\n",
    "\n",
    "        # Update an employee's salary\n",
    "        query = \"UPDATE employees SET salary = %s WHERE employee_id = %s\"\n",
    "        cursor.execute(query, (new_salary, employee_id))\n",
    "        connection.commit()\n",
    "        print(\"Employee's salary updated successfully\")\n",
    "\n",
    "    except Error as e:\n",
    "        print(f\"Error: {e}\")\n",
    "\n",
    "if __name__ == \"__main__\":\n",
    "    connection = connect_to_database()\n",
    "    if connection:\n",
    "        department = \"Sales\"  # Change this to the desired department\n",
    "        retrieve_employees_in_department(connection, department)\n",
    "        \n",
    "        employee_id_to_update = 1  # Replace with the employee_id you want to update\n",
    "        new_salary = 60000  # Replace with the new salary\n",
    "        update_employee_salary(connection, employee_id_to_update, new_salary)\n",
    "\n",
    "        connection.close()\n",
    "        print(\"Database connection closed\")\n"
   ]
  },
  {
   "cell_type": "markdown",
   "id": "bca90b4f",
   "metadata": {},
   "source": [
    "# 1.Module Import and Management\n",
    "\n",
    "Scenario: You are developing a complex Python project with multiple modules. To manage the project effectively, you need to import and use various modules. Additionally, you want to organize your code using namespaces and avoid naming conflicts.\n",
    "\n",
    "Design a Python program that demonstrates the following:\n",
    "\n",
    "1. Import multiple modules within your project. 2. Use the import statement to access functions, classes, and variables from imported modules.\n",
    "\n",
    "3. Create your custom module and use it in your main program. 4. Handle naming conflicts and ensure proper namespacing.\n",
    "\n",
    "5. Implement error handling for missing modules or incorrect module usage."
   ]
  },
  {
   "cell_type": "code",
   "execution_count": null,
   "id": "cb418d39",
   "metadata": {},
   "outputs": [],
   "source": [
    "import math\n",
    "\n",
    "def calculate_area(radius):\n",
    "    return math.pi * radius**2\n"
   ]
  },
  {
   "cell_type": "code",
   "execution_count": null,
   "id": "756d3d19",
   "metadata": {},
   "outputs": [],
   "source": [
    "def calculate_area(length, width):\n",
    "    return length * width\n"
   ]
  },
  {
   "cell_type": "code",
   "execution_count": null,
   "id": "afe60658",
   "metadata": {},
   "outputs": [],
   "source": [
    "def calculate_area(base, height):\n",
    "    return 0.5 * base * height\n"
   ]
  },
  {
   "cell_type": "code",
   "execution_count": null,
   "id": "532c9322",
   "metadata": {},
   "outputs": [],
   "source": [
    "def add(a, b):\n",
    "    return a + b\n",
    "\n",
    "def subtract(a, b):\n",
    "    return a - b\n"
   ]
  },
  {
   "cell_type": "code",
   "execution_count": null,
   "id": "898f4a6a",
   "metadata": {},
   "outputs": [],
   "source": [
    "try:\n",
    "    import circle\n",
    "    import rectangle\n",
    "    import triangle\n",
    "    import my_math\n",
    "\n",
    "    # Calculate area of a circle\n",
    "    radius = 5\n",
    "    circle_area = circle.calculate_area(radius)\n",
    "    print(f\"Circle area with radius {radius}: {circle_area:.2f}\")\n",
    "\n",
    "    # Calculate area of a rectangle\n",
    "    length = 4\n",
    "    width = 6\n",
    "    rectangle_area = rectangle.calculate_area(length, width)\n",
    "    print(f\"Rectangle area with length {length} and width {width}: {rectangle_area:.2f}\")\n",
    "\n",
    "    # Calculate area of a triangle\n",
    "    base = 3\n",
    "    height = 8\n",
    "    triangle_area = triangle.calculate_area(base, height)\n",
    "    print(f\"Triangle area with base {base} and height {height}: {triangle_area:.2f}\")\n",
    "\n",
    "    # Use functions from the custom module\n",
    "    x = 10\n",
    "    y = 5\n",
    "    addition_result = my_math.add(x, y)\n",
    "    subtraction_result = my_math.subtract(x, y)\n",
    "    print(f\"Addition: {addition_result}, Subtraction: {subtraction_result}\")\n",
    "except ImportError as e:\n",
    "    print(f\"Error importing module: {e}\")\n"
   ]
  },
  {
   "cell_type": "markdown",
   "id": "797fad0e",
   "metadata": {},
   "source": [
    "# 2.Virtual Environment Management Scenario: You are working on multiple Python projects with different dependencies and versions. To avoid conflicts and ensure project isolation, you decide to use virtual environments.\n",
    "\n",
    "Create a Python program that demonstrates the following:\n",
    "\n",
    "1. Create a virtual environment for a specific project.\n",
    "\n",
    "2. Activate and deactivate virtual environments. 3. Install, upgrade, and uninstall packages within a virtual environment.\n",
    "\n",
    "4. List the installed packages in a virtual environment.\n",
    "\n",
    "5 Implement error handling for virtual environment operations."
   ]
  },
  {
   "cell_type": "code",
   "execution_count": null,
   "id": "894b6102",
   "metadata": {},
   "outputs": [],
   "source": [
    "import os\n",
    "import subprocess\n",
    "import sys\n",
    "\n",
    "def create_virtual_environment(venv_name):\n",
    "    try:\n",
    "        subprocess.run([sys.executable, '-m', 'venv', venv_name], check=True)\n",
    "        print(f\"Virtual environment '{venv_name}' created successfully.\")\n",
    "    except subprocess.CalledProcessError:\n",
    "        print(f\"Error creating virtual environment '{venv_name}'.\")\n",
    "\n",
    "def activate_virtual_environment(venv_name):\n",
    "    try:\n",
    "        activate_script = os.path.join(venv_name, 'Scripts' if sys.platform == 'win32' else 'bin', 'activate')\n",
    "        subprocess.run([activate_script], shell=True, check=True)\n",
    "        print(f\"Activated virtual environment '{venv_name}'.\")\n",
    "    except subprocess.CalledProcessError:\n",
    "        print(f\"Error activating virtual environment '{venv_name}'.\")\n",
    "\n",
    "def deactivate_virtual_environment():\n",
    "    try:\n",
    "        subprocess.run(['deactivate'], shell=True, check=True)\n",
    "        print(\"Deactivated virtual environment.\")\n",
    "    except subprocess.CalledProcessError:\n",
    "        print(\"Error deactivating virtual environment.\")\n",
    "\n",
    "def install_package(venv_name, package_name):\n",
    "    try:\n",
    "        subprocess.run([os.path.join(venv_name, 'Scripts' if sys.platform == 'win32' else 'bin', 'pip'), 'install', package_name], check=True)\n",
    "        print(f\"Package '{package_name}' installed successfully in '{venv_name}'.\")\n",
    "    except subprocess.CalledProcessError:\n",
    "        print(f\"Error installing package '{package_name}' in '{venv_name}'.\")\n",
    "\n",
    "def upgrade_package(venv_name, package_name):\n",
    "    try:\n",
    "        subprocess.run([os.path.join(venv_name, 'Scripts' if sys.platform == 'win32' else 'bin', 'pip'), 'install', '--upgrade', package_name], check=True)\n",
    "        print(f\"Package '{package_name}' upgraded successfully in '{venv_name}'.\")\n",
    "    except subprocess.CalledProcessError:\n",
    "        print(f\"Error upgrading package '{package_name}' in '{venv_name}'.\")\n",
    "\n",
    "def uninstall_package(venv_name, package_name):\n",
    "    try:\n",
    "        subprocess.run([os.path.join(venv_name, 'Scripts' if sys.platform == 'win32' else 'bin', 'pip'), 'uninstall', package_name, '-y'], check=True)\n",
    "        print(f\"Package '{package_name}' uninstalled successfully from '{venv_name}'.\")\n",
    "    except subprocess.CalledProcessError:\n",
    "        print(f\"Error uninstalling package '{package_name}' from '{venv_name}'.\")\n",
    "\n",
    "def list_installed_packages(venv_name):\n",
    "    try:\n",
    "        result = subprocess.run([os.path.join(venv_name, 'Scripts' if sys.platform == 'win32' else 'bin', 'pip'), 'freeze'], stdout=subprocess.PIPE, text=True, check=True)\n",
    "        print(f\"Installed packages in '{venv_name}':\\n{result.stdout}\")\n",
    "    except subprocess.CalledProcessError:\n",
    "        print(f\"Error listing installed packages in '{venv_name}'.\")\n",
    "\n",
    "if __name__ == \"__main__\":\n",
    "    while True:\n",
    "        print(\"\\nOptions:\")\n",
    "        print(\"1. Create a virtual environment\")\n",
    "        print(\"2. Activate a virtual environment\")\n",
    "        print(\"3. Deactivate the current virtual environment\")\n",
    "        print(\"4. Install a package\")\n",
    "        print(\"5. Upgrade a package\")\n",
    "        print(\"6. Uninstall a package\")\n",
    "        print(\"7. List installed packages\")\n",
    "        print(\"8. Quit\")\n",
    "\n",
    "        choice = input(\"Enter your choice: \")\n",
    "\n",
    "        if choice == '1':\n",
    "            venv_name = input(\"Enter the name of the virtual environment: \")\n",
    "            create_virtual_environment(venv_name)\n",
    "        elif choice == '2':\n",
    "            venv_name = input(\"Enter the name of the virtual environment: \")\n",
    "            activate_virtual_environment(venv_name)\n",
    "        elif choice == '3':\n",
    "            deactivate_virtual_environment()\n",
    "        elif choice == '4':\n",
    "            venv_name = input(\"Enter the name of the virtual environment: \")\n",
    "            package_name = input(\"Enter the name of the package to install: \")\n",
    "            install_package(venv_name, package_name)\n",
    "        elif choice == '5':\n",
    "            venv_name = input(\"Enter the name of the virtual environment: \")\n",
    "            package_name = input(\"Enter the name of the package to upgrade: \")\n",
    "            upgrade_package(venv_name, package_name)\n",
    "        elif choice == '6':\n",
    "            venv_name = input(\"Enter the name of the virtual environment: \")\n",
    "            package_name = input(\"Enter the name of the package to uninstall: \")\n",
    "            uninstall_package(venv_name, package_name)\n",
    "        elif choice == '7':\n",
    "            venv_name = input(\"Enter the name of the virtual environment: \")\n",
    "            list_installed_packages(venv_name)\n",
    "        elif choice == '8':\n",
    "            break\n",
    "        else:\n",
    "            print(\"Invalid choice. Please select a valid option.\")\n"
   ]
  },
  {
   "cell_type": "markdown",
   "id": "57a084a9",
   "metadata": {},
   "source": [
    "# 3.Module Dependency Resolution\n",
    "\n",
    "Scenario: You are developing a Python application that relies on third-party packages. Managing dependencies and ensuring compatibility is crucial for your project's success.\n",
    "\n",
    "Design a Python program that demonstrates the following:\n",
    "\n",
    "1. Use a requirements.txt file to specify project dependencies. 2. Automatically install all project dependencies from the requirements.txt file.\n",
    "\n",
    "3. Ensure that the versions of installed packages are compatible.\n",
    "\n",
    "4. Implement error handling for dependency resolution and installation."
   ]
  },
  {
   "cell_type": "code",
   "execution_count": null,
   "id": "246e42a5",
   "metadata": {},
   "outputs": [],
   "source": [
    "import subprocess\n",
    "import sys\n",
    "\n",
    "def install_dependencies():\n",
    "    try:\n",
    "        # Install virtualenv if not already installed\n",
    "        subprocess.run([\"pip\", \"install\", \"virtualenv\"])\n",
    "        # Create a virtual environment named 'venv'\n",
    "        subprocess.run([\"python\", \"-m\", \"venv\", \"venv\"])\n",
    "        # Activate the virtual environment\n",
    "        if sys.platform == \"win32\":\n",
    "            activate_script = \"venv\\\\Scripts\\\\activate\"\n",
    "        else:\n",
    "            activate_script = \"venv/bin/activate\"\n",
    "        subprocess.run([activate_script], shell=True)\n",
    "        # Install project dependencies from requirements.txt\n",
    "        subprocess.run([\"pip\", \"install\", \"-r\", \"requirements.txt\"])\n",
    "        print(\"Dependencies installed successfully.\")\n",
    "    except Exception as e:\n",
    "        print(f\"An error occurred: {e}\")\n",
    "        sys.exit(1)\n",
    "\n",
    "if __name__ == \"__main__\":\n",
    "    install_dependencies()\n"
   ]
  }
 ],
 "metadata": {
  "kernelspec": {
   "display_name": "Python 3 (ipykernel)",
   "language": "python",
   "name": "python3"
  },
  "language_info": {
   "codemirror_mode": {
    "name": "ipython",
    "version": 3
   },
   "file_extension": ".py",
   "mimetype": "text/x-python",
   "name": "python",
   "nbconvert_exporter": "python",
   "pygments_lexer": "ipython3",
   "version": "3.11.4"
  }
 },
 "nbformat": 4,
 "nbformat_minor": 5
}
