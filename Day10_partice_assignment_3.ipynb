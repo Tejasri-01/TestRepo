{
 "cells": [
  {
   "cell_type": "code",
   "execution_count": 1,
   "id": "2744cf09",
   "metadata": {},
   "outputs": [],
   "source": [
    "%matplotlib inline\n",
    "import pandas as pd\n"
   ]
  },
  {
   "cell_type": "code",
   "execution_count": 3,
   "id": "13d02e74",
   "metadata": {},
   "outputs": [
    {
     "data": {
      "text/html": [
       "<div>\n",
       "<style scoped>\n",
       "    .dataframe tbody tr th:only-of-type {\n",
       "        vertical-align: middle;\n",
       "    }\n",
       "\n",
       "    .dataframe tbody tr th {\n",
       "        vertical-align: top;\n",
       "    }\n",
       "\n",
       "    .dataframe thead th {\n",
       "        text-align: right;\n",
       "    }\n",
       "</style>\n",
       "<table border=\"1\" class=\"dataframe\">\n",
       "  <thead>\n",
       "    <tr style=\"text-align: right;\">\n",
       "      <th></th>\n",
       "      <th>title</th>\n",
       "      <th>year</th>\n",
       "    </tr>\n",
       "  </thead>\n",
       "  <tbody>\n",
       "    <tr>\n",
       "      <th>0</th>\n",
       "      <td>Tasveer Mere Sanam</td>\n",
       "      <td>1996</td>\n",
       "    </tr>\n",
       "    <tr>\n",
       "      <th>1</th>\n",
       "      <td>Only You</td>\n",
       "      <td>1994</td>\n",
       "    </tr>\n",
       "    <tr>\n",
       "      <th>2</th>\n",
       "      <td>El pueblo del terror</td>\n",
       "      <td>1970</td>\n",
       "    </tr>\n",
       "    <tr>\n",
       "      <th>3</th>\n",
       "      <td>Machine</td>\n",
       "      <td>2007</td>\n",
       "    </tr>\n",
       "    <tr>\n",
       "      <th>4</th>\n",
       "      <td>MARy</td>\n",
       "      <td>2008</td>\n",
       "    </tr>\n",
       "  </tbody>\n",
       "</table>\n",
       "</div>"
      ],
      "text/plain": [
       "                  title  year\n",
       "0    Tasveer Mere Sanam  1996\n",
       "1              Only You  1994\n",
       "2  El pueblo del terror  1970\n",
       "3               Machine  2007\n",
       "4                  MARy  2008"
      ]
     },
     "execution_count": 3,
     "metadata": {},
     "output_type": "execute_result"
    }
   ],
   "source": [
    "titles=pd.read_csv('titles.csv',index_col=None)\n",
    "titles.head()"
   ]
  },
  {
   "cell_type": "code",
   "execution_count": 4,
   "id": "db3ee7f4",
   "metadata": {},
   "outputs": [
    {
     "data": {
      "text/html": [
       "<div>\n",
       "<style scoped>\n",
       "    .dataframe tbody tr th:only-of-type {\n",
       "        vertical-align: middle;\n",
       "    }\n",
       "\n",
       "    .dataframe tbody tr th {\n",
       "        vertical-align: top;\n",
       "    }\n",
       "\n",
       "    .dataframe thead th {\n",
       "        text-align: right;\n",
       "    }\n",
       "</style>\n",
       "<table border=\"1\" class=\"dataframe\">\n",
       "  <thead>\n",
       "    <tr style=\"text-align: right;\">\n",
       "      <th></th>\n",
       "      <th>title</th>\n",
       "      <th>year</th>\n",
       "      <th>name</th>\n",
       "      <th>type</th>\n",
       "      <th>character</th>\n",
       "      <th>n</th>\n",
       "    </tr>\n",
       "  </thead>\n",
       "  <tbody>\n",
       "    <tr>\n",
       "      <th>0</th>\n",
       "      <td>Closet Monster</td>\n",
       "      <td>2015</td>\n",
       "      <td>Buffy #1</td>\n",
       "      <td>actor</td>\n",
       "      <td>Buffy 4</td>\n",
       "      <td>31.0</td>\n",
       "    </tr>\n",
       "    <tr>\n",
       "      <th>1</th>\n",
       "      <td>Suuri illusioni</td>\n",
       "      <td>1985</td>\n",
       "      <td>Homo $</td>\n",
       "      <td>actor</td>\n",
       "      <td>Guests</td>\n",
       "      <td>22.0</td>\n",
       "    </tr>\n",
       "    <tr>\n",
       "      <th>2</th>\n",
       "      <td>Battle of the Sexes</td>\n",
       "      <td>2017</td>\n",
       "      <td>$hutter</td>\n",
       "      <td>actor</td>\n",
       "      <td>Bobby Riggs Fan</td>\n",
       "      <td>10.0</td>\n",
       "    </tr>\n",
       "    <tr>\n",
       "      <th>3</th>\n",
       "      <td>Secret in Their Eyes</td>\n",
       "      <td>2015</td>\n",
       "      <td>$hutter</td>\n",
       "      <td>actor</td>\n",
       "      <td>2002 Dodger Fan</td>\n",
       "      <td>NaN</td>\n",
       "    </tr>\n",
       "    <tr>\n",
       "      <th>4</th>\n",
       "      <td>Steve Jobs</td>\n",
       "      <td>2015</td>\n",
       "      <td>$hutter</td>\n",
       "      <td>actor</td>\n",
       "      <td>1988 Opera House Patron</td>\n",
       "      <td>NaN</td>\n",
       "    </tr>\n",
       "  </tbody>\n",
       "</table>\n",
       "</div>"
      ],
      "text/plain": [
       "                  title  year      name   type                character     n\n",
       "0        Closet Monster  2015  Buffy #1  actor                  Buffy 4  31.0\n",
       "1       Suuri illusioni  1985    Homo $  actor                   Guests  22.0\n",
       "2   Battle of the Sexes  2017   $hutter  actor          Bobby Riggs Fan  10.0\n",
       "3  Secret in Their Eyes  2015   $hutter  actor          2002 Dodger Fan   NaN\n",
       "4            Steve Jobs  2015   $hutter  actor  1988 Opera House Patron   NaN"
      ]
     },
     "execution_count": 4,
     "metadata": {},
     "output_type": "execute_result"
    }
   ],
   "source": [
    "cast=pd.read_csv('cast.csv',index_col=None)\n",
    "cast.head()"
   ]
  },
  {
   "cell_type": "markdown",
   "id": "c7e5ebab",
   "metadata": {},
   "source": [
    "# 1.Using groupby(), plot the number of films that have been released each decade in the history of cinema."
   ]
  },
  {
   "cell_type": "code",
   "execution_count": 1,
   "id": "9ae974de",
   "metadata": {},
   "outputs": [
    {
     "data": {
      "image/png": "[encoded data removed]",
      "text/plain": [
       "<Figure size 1000x600 with 1 Axes>"
      ]
     },
     "metadata": {},
     "output_type": "display_data"
    }
   ],
   "source": [
    "import pandas as pd\n",
    "import matplotlib.pyplot as plt\n",
    "titles = pd.read_csv('titles.csv', index_col=None)\n",
    "titles['decade'] = (titles['year'] // 10) * 10\n",
    "decade_counts = titles.groupby('decade')['title'].count().reset_index()\n",
    "decade_counts.columns = ['Decade', 'Number of Films']\n",
    "plt.figure(figsize=(10, 6))\n",
    "plt.bar(decade_counts['Decade'], decade_counts['Number of Films'], width=5)\n",
    "plt.xlabel('Decade')\n",
    "plt.ylabel('Number of Films')\n",
    "plt.title('Number of Films Released Each Decade')\n",
    "plt.xticks(decade_counts['Decade'])\n",
    "plt.grid(axis='y', linestyle='--', alpha=0.7)\n",
    "plt.show()\n"
   ]
  },
  {
   "cell_type": "markdown",
   "id": "947ca6c6",
   "metadata": {},
   "source": [
    "# 2.Use groupby() to plot the number of \"Hamlet\" films made each decade."
   ]
  },
  {
   "cell_type": "code",
   "execution_count": 9,
   "id": "4f9eb869",
   "metadata": {},
   "outputs": [
    {
     "data": {
      "image/png": "[encoded data removed]",
      "text/plain": [
       "<Figure size 1000x600 with 1 Axes>"
      ]
     },
     "metadata": {},
     "output_type": "display_data"
    }
   ],
   "source": [
    "import pandas as pd\n",
    "import matplotlib.pyplot as plt\n",
    "titles=pd.read_csv('titles.csv',index_col=None)\n",
    "titles['decade'] = (titles['year'] // 10) * 10\n",
    "\n",
    "# Filter the DataFrame to include only \"Hamlet\" films\n",
    "hamlet_films = titles[titles['title'] == 'Hamlet']\n",
    "\n",
    "# Group by decade and count the number of \"Hamlet\" films in each decade\n",
    "hamlet_decade_counts = hamlet_films.groupby('decade')['title'].count().reset_index()\n",
    "hamlet_decade_counts.columns = ['Decade', 'Number of \"Hamlet\" Films']\n",
    "plt.figure(figsize=(10, 6))\n",
    "plt.bar(hamlet_decade_counts['Decade'], hamlet_decade_counts['Number of \"Hamlet\" Films'], width=5)\n",
    "plt.xlabel('Decade')\n",
    "plt.ylabel('Number of \"Hamlet\" Films')\n",
    "plt.title('Number of \"Hamlet\" Films Made Each Decade')\n",
    "plt.xticks(hamlet_decade_counts['Decade'])\n",
    "plt.grid(axis='y', linestyle='--', alpha=0.7)\n",
    "plt.show()\n"
   ]
  },
  {
   "cell_type": "markdown",
   "id": "8df9bfea",
   "metadata": {},
   "source": [
    "# 3.How many leading (n=1) roles were available to actors, and how many to actresses, in each year of the 1950s?"
   ]
  },
  {
   "cell_type": "code",
   "execution_count": 3,
   "id": "d354fccd",
   "metadata": {},
   "outputs": [
    {
     "name": "stdout",
     "output_type": "stream",
     "text": [
      "Gender  actor  actress\n",
      "Year                  \n",
      "1950      625      288\n",
      "1951      651      285\n",
      "1952      613      304\n",
      "1953      664      312\n",
      "1954      636      316\n",
      "1955      648      285\n",
      "1956      668      307\n",
      "1957      739      315\n",
      "1958      715      301\n",
      "1959      733      327\n"
     ]
    }
   ],
   "source": [
    "import pandas as pd\n",
    "cast = pd.read_csv('cast.csv', index_col=None)\n",
    "roles_1950s = cast[(cast['year'] >= 1950) & (cast['year'] <= 1959\n",
    "leading_roles = roles_1950s[roles_1950s['n'] == 1]\n",
    "leading_roles_by_year_gender = leading_roles.groupby(['year', 'type'])['n'].count().reset_index()\n",
    "\n",
    "# Rename the columns for clarity\n",
    "leading_roles_by_year_gender.columns = ['Year', 'Gender', 'Number of Leading Roles']\n",
    "\n",
    "# Pivot the table to have 'Year' as the index and 'Gender' as columns\n",
    "pivot_table = leading_roles_by_year_gender.pivot(index='Year', columns='Gender', values='Number of Leading Roles')\n",
    "\n",
    "# Fill NaN values with 0, as there may be years with no leading roles of a particular gender\n",
    "pivot_table = pivot_table.fillna(0)\n",
    "\n",
    "# Display the result\n",
    "print(pivot_table)\n"
   ]
  },
  {
   "cell_type": "markdown",
   "id": "f42b5f7c",
   "metadata": {},
   "source": [
    "# 4.In the 1950s decade taken as a whole, how many total roles were available to actors, and how many to actresses, for each \"n\" number 1 through 5?"
   ]
  },
  {
   "cell_type": "code",
   "execution_count": 6,
   "id": "ce1f55cc",
   "metadata": {},
   "outputs": [
    {
     "name": "stdout",
     "output_type": "stream",
     "text": [
      "Total roles available to actors for each 'n' number:\n",
      "     n  Actor Roles\n",
      "0  1.0         6692\n",
      "1  2.0         4640\n",
      "2  3.0         5654\n",
      "3  4.0         5663\n",
      "4  5.0         5674\n",
      "\n",
      "Total roles available to actresses for each 'n' number:\n",
      "     n  Actress Roles\n",
      "0  1.0           3040\n",
      "1  2.0           4635\n",
      "2  3.0           3201\n",
      "3  4.0           2881\n",
      "4  5.0           2592\n"
     ]
    }
   ],
   "source": [
    "# Assuming you have a DataFrame named 'cast' with 'year', 'type', and 'n' columns.\n",
    "\n",
    "# Filter the data for the 1950s decade (1950-1959)\n",
    "cast_1950s = cast[(cast['year'] >= 1950) & (cast['year'] <= 1959)]\n",
    "\n",
    "# Filter the data for actors and actresses separately\n",
    "actors = cast_1950s[cast_1950s['type'] == 'actor']\n",
    "actresses = cast_1950s[cast_1950s['type'] == 'actress']\n",
    "\n",
    "# Group and count the roles for each \"n\" number from 1 to 5\n",
    "actor_roles_by_n = actors[actors['n'].between(1, 5)].groupby('n')['n'].count()\n",
    "actress_roles_by_n = actresses[actresses['n'].between(1, 5)].groupby('n')['n'].count()\n",
    "\n",
    "# Create DataFrames to display the results\n",
    "actor_results = pd.DataFrame({'n': actor_roles_by_n.index, 'Actor Roles': actor_roles_by_n.values})\n",
    "actress_results = pd.DataFrame({'n': actress_roles_by_n.index, 'Actress Roles': actress_roles_by_n.values})\n",
    "\n",
    "# Fill any missing values (NaN) with 0\n",
    "actor_results.fillna(0, inplace=True)\n",
    "actress_results.fillna(0, inplace=True)\n",
    "\n",
    "# Display the results\n",
    "print(\"Total roles available to actors for each 'n' number:\")\n",
    "print(actor_results)\n",
    "print(\"\\nTotal roles available to actresses for each 'n' number:\")\n",
    "print(actress_results)\n"
   ]
  },
  {
   "cell_type": "markdown",
   "id": "fc75b71c",
   "metadata": {},
   "source": [
    "# 5.Use groupby() to determine how many roles are listed for each of the Pink Panther movies."
   ]
  },
  {
   "cell_type": "code",
   "execution_count": 1,
   "id": "f6b80977",
   "metadata": {},
   "outputs": [
    {
     "name": "stdout",
     "output_type": "stream",
     "text": [
      "title\n",
      "Curse of the Pink Panther          67\n",
      "Revenge of the Pink Panther        68\n",
      "Son of the Pink Panther            46\n",
      "The Pink Panther                  111\n",
      "The Pink Panther 2                 84\n",
      "The Pink Panther Strikes Again     70\n",
      "The Return of the Pink Panther     30\n",
      "Trail of the Pink Panther          41\n",
      "Name: title, dtype: int64\n"
     ]
    }
   ],
   "source": [
    "import pandas as pd\n",
    "cast = pd.read_csv('cast.csv', index_col=None)\n",
    "pink_panther_roles = cast[cast['title'].str.contains('Pink Panther', case=False)]\n",
    "\n",
    "roles_per_movie = pink_panther_roles.groupby('title')['title'].count()\n",
    "print(roles_per_movie)\n"
   ]
  },
  {
   "cell_type": "markdown",
   "id": "a5769123",
   "metadata": {},
   "source": [
    "# 6.List, in order by year, each of the films in which Frank Oz has played more than 1 role."
   ]
  },
  {
   "cell_type": "code",
   "execution_count": 7,
   "id": "113128bf",
   "metadata": {},
   "outputs": [
    {
     "name": "stdout",
     "output_type": "stream",
     "text": [
      "                                   title  year  character\n",
      "24                      The Muppet Movie  1979          8\n",
      "0         An American Werewolf in London  1981          2\n",
      "22                The Great Muppet Caper  1981          6\n",
      "20                      The Dark Crystal  1982          2\n",
      "25            The Muppets Take Manhattan  1984          7\n",
      "2                       Follow That Bird  1985          3\n",
      "23            The Muppet Christmas Carol  1992          7\n",
      "7                 Muppet Treasure Island  1996          4\n",
      "8                     Muppets from Space  1999          4\n",
      "18  The Adventures of Elmo in Grouchland  1999          3\n"
     ]
    }
   ],
   "source": [
    "# Assuming you have a DataFrame named 'cast'\n",
    "\n",
    "# Filter roles for Frank Oz\n",
    "frank_oz_roles = cast[cast['name'] == 'Frank Oz']\n",
    "\n",
    "# Group roles by the film's title and year and count the number of roles\n",
    "roles_by_film_year = frank_oz_roles.groupby(['title', 'year'])['character'].count().reset_index()\n",
    "\n",
    "# Filter for films where Frank Oz played more than one role\n",
    "films_with_multiple_roles = roles_by_film_year[roles_by_film_year['character'] > 1]\n",
    "\n",
    "# Sort the result by year\n",
    "sorted_films = films_with_multiple_roles.sort_values('year')\n",
    "\n",
    "# Display the result\n",
    "print(sorted_films)\n"
   ]
  },
  {
   "cell_type": "markdown",
   "id": "3fac1ca4",
   "metadata": {},
   "source": [
    "# 7.List each of the characters that Frank Oz has portrayed at least twice."
   ]
  },
  {
   "cell_type": "code",
   "execution_count": 4,
   "id": "74943eb1",
   "metadata": {},
   "outputs": [
    {
     "name": "stdout",
     "output_type": "stream",
     "text": [
      "         character  count\n",
      "0           Animal      6\n",
      "2             Bert      3\n",
      "5   Cookie Monster      5\n",
      "10     Fozzie Bear      4\n",
      "15          Grover      2\n",
      "18      Miss Piggy      6\n",
      "25   Sam the Eagle      5\n",
      "34            Yoda      6\n"
     ]
    }
   ],
   "source": [
    "# Assuming you have a DataFrame named 'cast'\n",
    "\n",
    "# Filter roles for Frank Oz\n",
    "frank_oz_roles = cast[cast['name'] == 'Frank Oz']\n",
    "\n",
    "# Group roles by character and count the number of times each character appears\n",
    "character_counts = frank_oz_roles.groupby('character').size().reset_index(name='count')\n",
    "\n",
    "# Filter characters that appear at least twice\n",
    "characters_at_least_twice = character_counts[character_counts['count'] >= 2]\n",
    "\n",
    "# Display the result\n",
    "print(characters_at_least_twice)\n"
   ]
  }
 ],
 "metadata": {
  "kernelspec": {
   "display_name": "Python 3 (ipykernel)",
   "language": "python",
   "name": "python3"
  },
  "language_info": {
   "codemirror_mode": {
    "name": "ipython",
    "version": 3
   },
   "file_extension": ".py",
   "mimetype": "text/x-python",
   "name": "python",
   "nbconvert_exporter": "python",
   "pygments_lexer": "ipython3",
   "version": "3.11.4"
  }
 },
 "nbformat": 4,
 "nbformat_minor": 5
}
