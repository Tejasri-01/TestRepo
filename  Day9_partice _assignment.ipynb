{
 "cells": [
  {
   "cell_type": "markdown",
   "id": "10c80530",
   "metadata": {},
   "source": [
    "# 1. create a 3x3x3 array with random values"
   ]
  },
  {
   "cell_type": "code",
   "execution_count": 3,
   "id": "5ff1618b",
   "metadata": {},
   "outputs": [],
   "source": [
    "import numpy as np"
   ]
  },
  {
   "cell_type": "code",
   "execution_count": 4,
   "id": "55a927b5",
   "metadata": {
    "scrolled": true
   },
   "outputs": [
    {
     "data": {
      "text/plain": [
       "array([[[0.94400286, 0.92774809, 0.82683   ],\n",
       "        [0.77009046, 0.39617556, 0.41301399],\n",
       "        [0.59348121, 0.22273961, 0.11507996]],\n",
       "\n",
       "       [[0.03285221, 0.24561757, 0.53485514],\n",
       "        [0.78331319, 0.66902607, 0.35294574],\n",
       "        [0.47077232, 0.47815855, 0.90470158]],\n",
       "\n",
       "       [[0.70393015, 0.03789579, 0.32689065],\n",
       "        [0.26467989, 0.50101339, 0.01195   ],\n",
       "        [0.87488354, 0.67186517, 0.65023912]]])"
      ]
     },
     "execution_count": 4,
     "metadata": {},
     "output_type": "execute_result"
    }
   ],
   "source": [
    "e=np.random.random((3,3,3))\n",
    "e"
   ]
  },
  {
   "cell_type": "markdown",
   "id": "4b825dbe",
   "metadata": {},
   "source": [
    "# 2.create a 5X5 matrix with values 1,2,3,4 just below the diagonal"
   ]
  },
  {
   "cell_type": "code",
   "execution_count": 7,
   "id": "8fbeff33",
   "metadata": {},
   "outputs": [],
   "source": [
    "import numpy as np"
   ]
  },
  {
   "cell_type": "code",
   "execution_count": 20,
   "id": "6cae8b0c",
   "metadata": {},
   "outputs": [
    {
     "data": {
      "text/plain": [
       "array([[1., 0., 0., 0., 0.],\n",
       "       [0., 2., 0., 0., 0.],\n",
       "       [0., 0., 3., 0., 0.],\n",
       "       [0., 0., 0., 4., 0.],\n",
       "       [0., 0., 0., 0., 1.]])"
      ]
     },
     "execution_count": 20,
     "metadata": {},
     "output_type": "execute_result"
    }
   ],
   "source": [
    "a=np.zeros((5,5))\n",
    "np.fill_diagonal(a[0:],[1,2,3,4])\n",
    "a"
   ]
  },
  {
   "cell_type": "markdown",
   "id": "43b1afcb",
   "metadata": {},
   "source": [
    "# 3. create a 8x8 matrix and fill it with a checkerboard pattern"
   ]
  },
  {
   "cell_type": "code",
   "execution_count": 29,
   "id": "7b18388b",
   "metadata": {},
   "outputs": [
    {
     "data": {
      "text/plain": [
       "array([[0, 1, 0, 1, 0, 1, 0, 1],\n",
       "       [1, 0, 1, 0, 1, 0, 1, 0],\n",
       "       [0, 1, 0, 1, 0, 1, 0, 1],\n",
       "       [1, 0, 1, 0, 1, 0, 1, 0],\n",
       "       [0, 1, 0, 1, 0, 1, 0, 1],\n",
       "       [1, 0, 1, 0, 1, 0, 1, 0],\n",
       "       [0, 1, 0, 1, 0, 1, 0, 1],\n",
       "       [1, 0, 1, 0, 1, 0, 1, 0]])"
      ]
     },
     "execution_count": 29,
     "metadata": {},
     "output_type": "execute_result"
    }
   ],
   "source": [
    "matrix=np.zeros((8,8),dtype=int)\n",
    "matrix[1::2, ::2]=1\n",
    "matrix[::2, 1::2]= 1\n",
    "matrix"
   ]
  },
  {
   "cell_type": "markdown",
   "id": "7aa232b3",
   "metadata": {},
   "source": [
    "# 4.Normalize a 5x5 random matrix"
   ]
  },
  {
   "cell_type": "code",
   "execution_count": 33,
   "id": "69c911e6",
   "metadata": {},
   "outputs": [
    {
     "name": "stdout",
     "output_type": "stream",
     "text": [
      "Original Matrix:\n",
      "[[0.82386841 0.63092409 0.71222364 0.51766673 0.59709034]\n",
      " [0.85705278 0.79116949 0.39400284 0.30731005 0.97778659]\n",
      " [0.70827127 0.25335556 0.40147101 0.98207128 0.19887868]\n",
      " [0.6161454  0.62254277 0.91658141 0.64098755 0.06701948]\n",
      " [0.94629884 0.33834058 0.86922927 0.4306543  0.17118099]]\n",
      "\n",
      "Normalized Matrix:\n",
      "[[0.82711048 0.61625431 0.70510125 0.49248278 0.57927962]\n",
      " [0.8633755  0.79137598 0.35733864 0.26259778 0.99531754]\n",
      " [0.70078195 0.20363446 0.3655001  1.         0.14410026]\n",
      " [0.60010364 0.60709492 0.92843042 0.627252   0.        ]\n",
      " [0.96090666 0.29650901 0.87668239 0.3973926  0.11383127]]\n"
     ]
    }
   ],
   "source": [
    "matrix=np.random.random((5,5))\n",
    "min_value = np.min(matrix)\n",
    "max_value = np.max(matrix)\n",
    "\n",
    "normalized_matrix = (matrix - min_value) / (max_value - min_value)\n",
    "\n",
    "print(\"Original Matrix:\")\n",
    "print(matrix)\n",
    "\n",
    "print(\"\\nNormalized Matrix:\")\n",
    "print(normalized_matrix)"
   ]
  },
  {
   "cell_type": "markdown",
   "id": "9f039b19",
   "metadata": {},
   "source": [
    "# 5.how to find comman values between two arrays"
   ]
  },
  {
   "cell_type": "code",
   "execution_count": 34,
   "id": "c353040f",
   "metadata": {},
   "outputs": [
    {
     "name": "stdout",
     "output_type": "stream",
     "text": [
      "[3, 4, 5]\n"
     ]
    }
   ],
   "source": [
    "list1 = [1, 2, 3, 4, 5]\n",
    "list2 = [3, 4, 5, 6, 7]\n",
    "\n",
    "common_values = [value for value in list1 if value in list2]\n",
    "\n",
    "print(common_values)"
   ]
  },
  {
   "cell_type": "markdown",
   "id": "61771985",
   "metadata": {},
   "source": [
    "# 6.How to get the dates of yesterday,today and tomorrow"
   ]
  },
  {
   "cell_type": "code",
   "execution_count": 35,
   "id": "72ecc166",
   "metadata": {},
   "outputs": [
    {
     "name": "stdout",
     "output_type": "stream",
     "text": [
      "Yesterday: 2023-09-20\n",
      "Today: 2023-09-21\n",
      "Tomorrow: 2023-09-22\n"
     ]
    }
   ],
   "source": [
    "from datetime import datetime, timedelta\n",
    "\n",
    "today = datetime.now().date()\n",
    "\n",
    "yesterday = today - timedelta(days=1)\n",
    "tomorrow = today + timedelta(days=1)\n",
    "print(\"Yesterday:\", yesterday)\n",
    "print(\"Today:\", today)\n",
    "print(\"Tomorrow:\", tomorrow)\n"
   ]
  },
  {
   "cell_type": "markdown",
   "id": "526916b3",
   "metadata": {},
   "source": [
    "# 7.consider two random array A and B, check if they are equal"
   ]
  },
  {
   "cell_type": "code",
   "execution_count": 36,
   "id": "446b8365",
   "metadata": {},
   "outputs": [
    {
     "name": "stdout",
     "output_type": "stream",
     "text": [
      "Arrays A and B are not equal.\n"
     ]
    }
   ],
   "source": [
    "import numpy as np\n",
    "A = np.random.rand(5)\n",
    "B = np.random.rand(5)\n",
    "are_equal = np.array_equal(A, B)\n",
    "\n",
    "if are_equal:\n",
    "    print(\"Arrays A and B are equal.\")\n",
    "else:\n",
    "    print(\"Arrays A and B are not equal.\")\n"
   ]
  },
  {
   "cell_type": "markdown",
   "id": "63cff0db",
   "metadata": {},
   "source": [
    "# 8.Create random vector of size 10 and replace the maximum value by 0"
   ]
  },
  {
   "cell_type": "code",
   "execution_count": 40,
   "id": "ad8b8f00",
   "metadata": {},
   "outputs": [
    {
     "name": "stdout",
     "output_type": "stream",
     "text": [
      "Original Random Vector:\n",
      "[0.6439767  0.2447056  0.         0.28341856 0.23977514 0.76096753\n",
      " 0.2591262  0.78639465 0.33456294 0.63535763]\n"
     ]
    }
   ],
   "source": [
    "a=np.random.random((10))\n",
    "max_index = np.argmax(a)\n",
    "a[max_index] = 0\n",
    "\n",
    "print(\"Original Random Vector:\")\n",
    "print(a)"
   ]
  },
  {
   "cell_type": "markdown",
   "id": "9f70e6a7",
   "metadata": {},
   "source": [
    "# 9.How to print all the values of an array?"
   ]
  },
  {
   "cell_type": "code",
   "execution_count": 44,
   "id": "7fca2d34",
   "metadata": {},
   "outputs": [
    {
     "name": "stdout",
     "output_type": "stream",
     "text": [
      "1\n",
      "2\n",
      "3\n",
      "4\n",
      "5\n"
     ]
    }
   ],
   "source": [
    "import numpy as np\n",
    "\n",
    "my_array = np.array([1, 2, 3, 4, 5])\n",
    "for element in my_array:\n",
    "    print(element)\n"
   ]
  },
  {
   "cell_type": "markdown",
   "id": "2e1b16b9",
   "metadata": {},
   "source": [
    "# 10.Subtract the mean of each row of a matrix"
   ]
  },
  {
   "cell_type": "code",
   "execution_count": 45,
   "id": "2c7274eb",
   "metadata": {},
   "outputs": [
    {
     "name": "stdout",
     "output_type": "stream",
     "text": [
      "Original Matrix:\n",
      "[[1 2 3]\n",
      " [4 5 6]\n",
      " [7 8 9]]\n",
      "\n",
      "Centered Matrix (Mean Subtracted from Each Row):\n",
      "[[-1.  0.  1.]\n",
      " [-1.  0.  1.]\n",
      " [-1.  0.  1.]]\n"
     ]
    }
   ],
   "source": [
    "import numpy as np\n",
    "\n",
    "# Create a sample matrix (2D NumPy array)\n",
    "matrix = np.array([[1, 2, 3],\n",
    "                   [4, 5, 6],\n",
    "                   [7, 8, 9]])\n",
    "\n",
    "# Calculate the mean of each row\n",
    "row_means = np.mean(matrix, axis=1)\n",
    "\n",
    "# Subtract the row means from the matrix\n",
    "centered_matrix = matrix - row_means.reshape(-1, 1)\n",
    "\n",
    "print(\"Original Matrix:\")\n",
    "print(matrix)\n",
    "\n",
    "print(\"\\nCentered Matrix (Mean Subtracted from Each Row):\")\n",
    "print(centered_matrix)\n"
   ]
  },
  {
   "cell_type": "markdown",
   "id": "9ae5758e",
   "metadata": {},
   "source": [
    "# 11.Consider a given vector, how to add 1 to each element indexed by a second vector (be careful with repeated indices)?"
   ]
  },
  {
   "cell_type": "code",
   "execution_count": 46,
   "id": "9af60bf4",
   "metadata": {},
   "outputs": [
    {
     "name": "stdout",
     "output_type": "stream",
     "text": [
      "Original Vector:\n",
      "[1 2 3 4 5 6]\n",
      "\n",
      "Result Vector:\n",
      "[1 4 3 5 6 6]\n"
     ]
    }
   ],
   "source": [
    "import numpy as np\n",
    "vector = np.array([1, 2, 3, 4, 5, 6])\n",
    "\n",
    "indices = np.array([1, 3, 1, 4])\n",
    "result = np.zeros_like(vector)\n",
    "for idx in indices:\n",
    "    result[idx] += 1\n",
    "result_vector = vector + result\n",
    "\n",
    "print(\"Original Vector:\")\n",
    "print(vector)\n",
    "\n",
    "print(\"\\nResult Vector:\")\n",
    "print(result_vector)\n"
   ]
  },
  {
   "cell_type": "markdown",
   "id": "b0820ed6",
   "metadata": {},
   "source": [
    "# 12.How to get the diagonal of a dot product?"
   ]
  },
  {
   "cell_type": "code",
   "execution_count": 47,
   "id": "da779030",
   "metadata": {},
   "outputs": [
    {
     "name": "stdout",
     "output_type": "stream",
     "text": [
      "Dot Product Matrix:\n",
      "[[ 30  24  18]\n",
      " [ 84  69  54]\n",
      " [138 114  90]]\n",
      "\n",
      "Diagonal of the Dot Product:\n",
      "[30 69 90]\n"
     ]
    }
   ],
   "source": [
    "import numpy as np\n",
    "\n",
    "matrix1 = np.array([[1, 2, 3],\n",
    "                    [4, 5, 6],\n",
    "                    [7, 8, 9]])\n",
    "\n",
    "matrix2 = np.array([[9, 8, 7],\n",
    "                    [6, 5, 4],\n",
    "                    [3, 2, 1]])\n",
    "\n",
    "dot_product = np.dot(matrix1, matrix2)\n",
    "\n",
    "diagonal = np.diagonal(dot_product)\n",
    "\n",
    "print(\"Dot Product Matrix:\")\n",
    "print(dot_product)\n",
    "\n",
    "print(\"\\nDiagonal of the Dot Product:\")\n",
    "print(diagonal)\n"
   ]
  },
  {
   "cell_type": "markdown",
   "id": "de317a90",
   "metadata": {},
   "source": [
    "# 13.How to find the most frequent value in an array?"
   ]
  },
  {
   "cell_type": "code",
   "execution_count": 48,
   "id": "af632674",
   "metadata": {},
   "outputs": [
    {
     "name": "stdout",
     "output_type": "stream",
     "text": [
      "Array: [1, 2, 2, 3, 3, 3, 4, 4, 5, 5, 5, 5]\n",
      "Most common element: 5\n",
      "Frequency: 4\n"
     ]
    }
   ],
   "source": [
    "from collections import Counter\n",
    "\n",
    "# Create an array\n",
    "my_array = [1, 2, 2, 3, 3, 3, 4, 4, 5, 5, 5, 5]\n",
    "\n",
    "# Use Counter to count the frequency of each element\n",
    "element_counts = Counter(my_array)\n",
    "\n",
    "# Find the most common element\n",
    "most_common_element = element_counts.most_common(1)[0][0]\n",
    "\n",
    "# Find the frequency of the most common element\n",
    "frequency = element_counts[most_common_element]\n",
    "\n",
    "print(\"Array:\", my_array)\n",
    "print(\"Most common element:\", most_common_element)\n",
    "print(\"Frequency:\", frequency)\n"
   ]
  },
  {
   "cell_type": "markdown",
   "id": "9f9d5c97",
   "metadata": {},
   "source": [
    "# 14.How to get the n largest values of an arra"
   ]
  },
  {
   "cell_type": "code",
   "execution_count": 49,
   "id": "9656d922",
   "metadata": {},
   "outputs": [
    {
     "name": "stdout",
     "output_type": "stream",
     "text": [
      "Array: [4 2 9 7 5 1 8 3 6]\n",
      "3 largest values (sorted): [7 8 9]\n"
     ]
    }
   ],
   "source": [
    "import numpy as np\n",
    "my_array = np.array([4, 2, 9, 7, 5, 1, 8, 3, 6])\n",
    "\n",
    "\n",
    "n = 3  \n",
    "\n",
    "largest_values = np.partition(my_array, -n)[-n:]\n",
    "largest_values_sorted = np.sort(largest_values)\n",
    "\n",
    "print(\"Array:\", my_array)\n",
    "print(f\"{n} largest values (sorted):\", largest_values_sorted)\n"
   ]
  },
  {
   "cell_type": "markdown",
   "id": "e60b8200",
   "metadata": {},
   "source": [
    "# 15.How to create a record array from a regular array?"
   ]
  },
  {
   "cell_type": "code",
   "execution_count": 51,
   "id": "d44b6909",
   "metadata": {},
   "outputs": [
    {
     "name": "stdout",
     "output_type": "stream",
     "text": [
      "Record Array:\n",
      "[(1, 'Alice', 25) (2, 'Bob', 30) (3, 'Charlie', 35)]\n",
      "\n",
      "First element (ID, Name, Age): (1, 'Alice', 25)\n",
      "Names: ['Alice' 'Bob' 'Charlie']\n",
      "\n",
      "Name of the second person: Bob\n"
     ]
    }
   ],
   "source": [
    "import numpy as np\n",
    "\n",
    "# Create a regular array (a list of tuples in this example)\n",
    "regular_array = [(1, 'Alice', 25),\n",
    "                 (2, 'Bob', 30),\n",
    "                 (3, 'Charlie', 35)]\n",
    "dtype = [('ID', int), ('Name', 'U10'), ('Age', int)]\n",
    "record_array = np.array(regular_array, dtype=dtype)\n",
    "print(\"Record Array:\")\n",
    "print(record_array)\n",
    "print(\"\\nFirst element (ID, Name, Age):\", record_array[0])\n",
    "print(\"Names:\", record_array['Name'])\n",
    "print(\"\\nName of the second person:\", record_array[1]['Name'])\n"
   ]
  },
  {
   "cell_type": "markdown",
   "id": "7ec1d9f5",
   "metadata": {},
   "source": [
    "# 16.How to swap two rows of an array"
   ]
  },
  {
   "cell_type": "code",
   "execution_count": 52,
   "id": "7f5d0a23",
   "metadata": {},
   "outputs": [
    {
     "name": "stdout",
     "output_type": "stream",
     "text": [
      "Matrix with Rows Swapped:\n",
      "[[1 2 3]\n",
      " [7 8 9]\n",
      " [4 5 6]]\n"
     ]
    }
   ],
   "source": [
    "import numpy as np\n",
    "matrix = np.array([[1, 2, 3],\n",
    "                   [4, 5, 6],\n",
    "                   [7, 8, 9]])\n",
    "row1_index = 1\n",
    "row2_index = 2\n",
    "matrix[[row1_index, row2_index]] = matrix[[row2_index, row1_index]]\n",
    "\n",
    "print(\"Matrix with Rows Swapped:\")\n",
    "print(matrix)\n"
   ]
  },
  {
   "cell_type": "markdown",
   "id": "55aa9942",
   "metadata": {},
   "source": [
    "# 17.write python code to reshape to the next dimension of numpy array"
   ]
  },
  {
   "cell_type": "code",
   "execution_count": null,
   "id": "ac8221db",
   "metadata": {},
   "outputs": [],
   "source": [
    "x=np.array([[23,34,121],[23,22,67],[686,434,123]])\n",
    "x"
   ]
  },
  {
   "cell_type": "code",
   "execution_count": 53,
   "id": "733b91e7",
   "metadata": {},
   "outputs": [
    {
     "name": "stdout",
     "output_type": "stream",
     "text": [
      "Original array:\n",
      "[[ 23  34 121]\n",
      " [ 23  22  67]\n",
      " [686 434 123]]\n",
      "\n",
      "Reshaped array to the next dimension:\n",
      "[[ 23  34 121]\n",
      " [ 23  22  67]\n",
      " [686 434 123]]\n"
     ]
    }
   ],
   "source": [
    "import numpy as np\n",
    "x = np.array([[23, 34, 121], [23, 22, 67], [686, 434, 123]])\n",
    "reshaped_x = x.reshape(-1, x.shape[-1])\n",
    "\n",
    "print(\"Original array:\")\n",
    "print(x)\n",
    "\n",
    "print(\"\\nReshaped array to the next dimension:\")\n",
    "print(reshaped_x)\n"
   ]
  }
 ],
 "metadata": {
  "kernelspec": {
   "display_name": "Python 3 (ipykernel)",
   "language": "python",
   "name": "python3"
  },
  "language_info": {
   "codemirror_mode": {
    "name": "ipython",
    "version": 3
   },
   "file_extension": ".py",
   "mimetype": "text/x-python",
   "name": "python",
   "nbconvert_exporter": "python",
   "pygments_lexer": "ipython3",
   "version": "3.11.4"
  }
 },
 "nbformat": 4,
 "nbformat_minor": 5
}
